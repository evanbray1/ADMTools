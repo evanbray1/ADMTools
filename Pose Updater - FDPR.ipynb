{
 "cells": [
  {
   "cell_type": "code",
   "execution_count": 1,
   "metadata": {
    "scrolled": true
   },
   "outputs": [
    {
     "name": "stdout",
     "output_type": "stream",
     "text": [
      "Warning: Cannot change to a different GUI toolkit: notebook. Using qt5 instead.\n"
     ]
    }
   ],
   "source": [
    "%matplotlib notebook\n",
    "import os\n",
    "from adm_library import *"
   ]
  },
  {
   "cell_type": "markdown",
   "metadata": {},
   "source": [
    "## 0 Parameter definitions"
   ]
  },
  {
   "cell_type": "markdown",
   "metadata": {},
   "source": [
    "### 0.1 Ingesting the [X,Y,Z,Rx,Ry] values from Tyler's spreadsheet"
   ]
  },
  {
   "cell_type": "code",
   "execution_count": 2,
   "metadata": {},
   "outputs": [
    {
     "name": "stdout",
     "output_type": "stream",
     "text": [
      "Provided 5DOF position in real space: \n",
      "                X          Y          Z        Rx         Ry\n",
      "Name                                                       \n",
      "PR1     1.957073   0.213787   0.797286  0.026155   0.003663\n",
      "PR2  -108.548109 -46.839383  23.430574 -4.906209  10.653646\n",
      "PR3   112.267199 -46.530542  23.278306 -4.873173 -10.626984\n",
      "PR4   104.116729  58.616016  31.900208  5.293205 -10.348396\n",
      "PR5  -100.390912  58.423929  31.865299  5.273991  10.373671 \n",
      "\n",
      "Provided 5DOF encoder values: \n",
      "                X.1        Y.1        Z.1      Rx.1       Ry.1\n",
      "Name.1                                                       \n",
      "PR1       1.933524   0.250412   0.783184  0.026885   0.005745\n",
      "PR2    -108.452857 -46.898136  23.320940 -4.906167  10.652669\n",
      "PR3     112.219072 -46.231812  23.378512 -4.871664 -10.626735\n",
      "PR4     103.923673  58.840103  32.096062  5.298097 -10.345960\n",
      "PR5    -100.448696  58.292823  31.861952  5.273415  10.374527\n"
     ]
    }
   ],
   "source": [
    "fname = 'files/Cal5DoF05222023-post FDPR V3.xlsx'\n",
    "sheetname = 'Input for Tyler analysis'\n",
    "#fname = 'SES-cold plateau 3 - circuit 2.xlsx'\n",
    "#sheetname = 'Input for Tyler analysis'\n",
    "\n",
    "spreadsheet = pd.read_excel(fname,\n",
    "                            sheet_name=sheetname,skiprows=1,usecols='B:N')\n",
    "\n",
    "focal_length = spreadsheet.iloc[0][0]-110 # focal length is track length -110mm, per TG\n",
    "sMPA_to_WCS = spreadsheet.iloc[3,:3].astype(float)\n",
    "sMPA_angle_to_WCS_deg = spreadsheet.iloc[6,:3].astype(float)\n",
    "GSA_angle_WCS_deg = spreadsheet.iloc[7][0]\n",
    "sMask=np.array(spreadsheet.iloc[10,1:4]).astype(float)\n",
    "\n",
    "spreadsheet = pd.read_excel(fname,\n",
    "                            sheet_name=sheetname,skiprows=15,usecols='B:N')\n",
    "pose_actual = spreadsheet.iloc[0:5,0:6]\n",
    "pose_actual = pose_actual.set_index('Name').sort_index()\n",
    "pose_actual.columns = ['X','Y','Z','Rx','Ry']\n",
    "X_5DOF,Y_5DOF,Z_5DOF,rx_deg_5DOF,ry_deg_5DOF = [[*pose_actual['X'].values.astype(float)],[*pose_actual['Y'].values.astype(float)],[*pose_actual['Z'].values.astype(float)],\n",
    "                                                [*pose_actual['Rx'].values.astype(float)],[*pose_actual['Ry'].values.astype(float)]]\n",
    "pose_encoders = spreadsheet.iloc[0:5,7:13]\n",
    "pose_encoders = pose_encoders.set_index('Name.1').sort_index()\n",
    "\n",
    "print('Provided 5DOF position in real space: \\n',pose_actual,'\\n')\n",
    "print('Provided 5DOF encoder values: \\n',pose_encoders)\n"
   ]
  },
  {
   "cell_type": "markdown",
   "metadata": {},
   "source": [
    "### 0.1.1 If both the pose_actual and pose_encoder arrays are provided in the spreadsheet above, convert between the two to make sure they both agree. "
   ]
  },
  {
   "cell_type": "code",
   "execution_count": 3,
   "metadata": {},
   "outputs": [],
   "source": [
    "#No point doing the following if one or the other array is completely empty\n",
    "if (not any(np.isfinite(pose_encoders.values.astype(float)).ravel())) and (not any(np.isfinite(pose_actual.values.astype(float)).ravel())):\n",
    "\n",
    "    print('(Calculated 5DOF position) - (Actual 5DOF position (from the spreadsheet)): ')\n",
    "    calculated_pose_actual = pd.DataFrame(columns=pose_actual.columns)\n",
    "    for index in [val for val in pose_actual.index if ('PR' in val) or ('PD' in val)]:\n",
    "        calculated_pose_actual = pd.concat((calculated_pose_actual,calculate_5DOF_from_encoders(pd.DataFrame(pose_encoders.loc[index]).T)))\n",
    "    print(calculated_pose_actual-pose_actual,'\\n\\n')\n",
    "    \n",
    "    print('(Calculated 5DOF encoders) - (Actual 5DOF encoders (from the spreadsheet)): ')\n",
    "    calculated_pose_encoders = pd.DataFrame(columns=pose_encoders.columns)\n",
    "    for index in [val for val in pose_encoders.index if ('PR' in val) or ('PD' in val)]:\n",
    "        calculated_pose_encoders = pd.concat((calculated_pose_encoders,calculate_encoders_from_5DOF(pd.DataFrame(pose_actual.loc[index]).T)))\n",
    "    print(calculated_pose_encoders-pose_encoders)"
   ]
  },
  {
   "cell_type": "markdown",
   "metadata": {},
   "source": [
    "### 0.2 If the \"pose_actual\" section of the supplied spreadsheet was empty, build a new \"pose_actual\" array based on the input \"pose_encoder\" array."
   ]
  },
  {
   "cell_type": "code",
   "execution_count": 4,
   "metadata": {},
   "outputs": [],
   "source": [
    "if not any(np.isfinite(pose_actual.values.astype(float)).ravel()):\n",
    "    pose_actual = convert_pose_encoders_to_pose_actual(pose_encoders)\n",
    "    print('NEWLY calculated 5DOF position in real space based on recorded 5DOF encoder values: \\n',pose_actual)"
   ]
  },
  {
   "cell_type": "markdown",
   "metadata": {},
   "source": [
    "### 0.3 Form a dataframe with the values supplied so far"
   ]
  },
  {
   "cell_type": "code",
   "execution_count": 5,
   "metadata": {},
   "outputs": [
    {
     "data": {
      "text/html": [
       "<div>\n",
       "<style scoped>\n",
       "    .dataframe tbody tr th:only-of-type {\n",
       "        vertical-align: middle;\n",
       "    }\n",
       "\n",
       "    .dataframe tbody tr th {\n",
       "        vertical-align: top;\n",
       "    }\n",
       "\n",
       "    .dataframe thead th {\n",
       "        text-align: right;\n",
       "    }\n",
       "</style>\n",
       "<table border=\"1\" class=\"dataframe\">\n",
       "  <thead>\n",
       "    <tr style=\"text-align: right;\">\n",
       "      <th></th>\n",
       "      <th>X</th>\n",
       "      <th>Y</th>\n",
       "      <th>Z</th>\n",
       "      <th>Rx</th>\n",
       "      <th>Ry</th>\n",
       "      <th>color</th>\n",
       "      <th>Rz</th>\n",
       "      <th>uvec_X</th>\n",
       "      <th>uvec_Y</th>\n",
       "      <th>uvec_Z</th>\n",
       "    </tr>\n",
       "    <tr>\n",
       "      <th>Name</th>\n",
       "      <th></th>\n",
       "      <th></th>\n",
       "      <th></th>\n",
       "      <th></th>\n",
       "      <th></th>\n",
       "      <th></th>\n",
       "      <th></th>\n",
       "      <th></th>\n",
       "      <th></th>\n",
       "      <th></th>\n",
       "    </tr>\n",
       "  </thead>\n",
       "  <tbody>\n",
       "    <tr>\n",
       "      <th>PR1</th>\n",
       "      <td>1.957073</td>\n",
       "      <td>0.213787</td>\n",
       "      <td>0.797286</td>\n",
       "      <td>0.026155</td>\n",
       "      <td>0.003663</td>\n",
       "      <td>crimson</td>\n",
       "      <td>NaN</td>\n",
       "      <td>0.082611</td>\n",
       "      <td>248.260690</td>\n",
       "      <td>1268.049080</td>\n",
       "    </tr>\n",
       "    <tr>\n",
       "      <th>PR2</th>\n",
       "      <td>-108.548109</td>\n",
       "      <td>-46.839383</td>\n",
       "      <td>23.430574</td>\n",
       "      <td>-4.906209</td>\n",
       "      <td>10.653646</td>\n",
       "      <td>crimson</td>\n",
       "      <td>NaN</td>\n",
       "      <td>238.876843</td>\n",
       "      <td>350.225013</td>\n",
       "      <td>1220.599091</td>\n",
       "    </tr>\n",
       "    <tr>\n",
       "      <th>PR3</th>\n",
       "      <td>112.267199</td>\n",
       "      <td>-46.530542</td>\n",
       "      <td>23.278306</td>\n",
       "      <td>-4.873173</td>\n",
       "      <td>-10.626984</td>\n",
       "      <td>crimson</td>\n",
       "      <td>NaN</td>\n",
       "      <td>-238.285909</td>\n",
       "      <td>349.551738</td>\n",
       "      <td>1220.907554</td>\n",
       "    </tr>\n",
       "    <tr>\n",
       "      <th>PR4</th>\n",
       "      <td>104.116729</td>\n",
       "      <td>58.616016</td>\n",
       "      <td>31.900208</td>\n",
       "      <td>5.293205</td>\n",
       "      <td>-10.348396</td>\n",
       "      <td>crimson</td>\n",
       "      <td>NaN</td>\n",
       "      <td>-232.108195</td>\n",
       "      <td>128.680371</td>\n",
       "      <td>1264.574630</td>\n",
       "    </tr>\n",
       "    <tr>\n",
       "      <th>PR5</th>\n",
       "      <td>-100.390912</td>\n",
       "      <td>58.423929</td>\n",
       "      <td>31.865299</td>\n",
       "      <td>5.273991</td>\n",
       "      <td>10.373671</td>\n",
       "      <td>crimson</td>\n",
       "      <td>NaN</td>\n",
       "      <td>232.668903</td>\n",
       "      <td>129.094033</td>\n",
       "      <td>1264.429420</td>\n",
       "    </tr>\n",
       "    <tr>\n",
       "      <th>sMask</th>\n",
       "      <td>1.995</td>\n",
       "      <td>115.232021</td>\n",
       "      <td>588.279458</td>\n",
       "      <td>NaN</td>\n",
       "      <td>NaN</td>\n",
       "      <td>g</td>\n",
       "      <td>NaN</td>\n",
       "      <td>NaN</td>\n",
       "      <td>NaN</td>\n",
       "      <td>NaN</td>\n",
       "    </tr>\n",
       "    <tr>\n",
       "      <th>sMPA</th>\n",
       "      <td>2.04</td>\n",
       "      <td>248.465</td>\n",
       "      <td>1268.826</td>\n",
       "      <td>-24.297100</td>\n",
       "      <td>0.007400</td>\n",
       "      <td>purple</td>\n",
       "      <td>0.0746</td>\n",
       "      <td>0.000129</td>\n",
       "      <td>0.411468</td>\n",
       "      <td>0.911424</td>\n",
       "    </tr>\n",
       "  </tbody>\n",
       "</table>\n",
       "</div>"
      ],
      "text/plain": [
       "                X           Y           Z  ...      uvec_X      uvec_Y       uvec_Z\n",
       "Name                                       ...                                     \n",
       "PR1      1.957073    0.213787    0.797286  ...    0.082611  248.260690  1268.049080\n",
       "PR2   -108.548109  -46.839383   23.430574  ...  238.876843  350.225013  1220.599091\n",
       "PR3    112.267199  -46.530542   23.278306  ... -238.285909  349.551738  1220.907554\n",
       "PR4    104.116729   58.616016   31.900208  ... -232.108195  128.680371  1264.574630\n",
       "PR5   -100.390912   58.423929   31.865299  ...  232.668903  129.094033  1264.429420\n",
       "sMask       1.995  115.232021  588.279458  ...         NaN         NaN          NaN\n",
       "sMPA         2.04     248.465    1268.826  ...    0.000129    0.411468     0.911424\n",
       "\n",
       "[7 rows x 10 columns]"
      ]
     },
     "execution_count": 5,
     "metadata": {},
     "output_type": "execute_result"
    }
   ],
   "source": [
    "#Generate a dataframe where we will store some parameters for each pose\n",
    "columns = ['X','Y','Z','Rx','Ry']\n",
    "df = pose_actual\n",
    "df['color']='crimson'\n",
    "\n",
    "gsa_rot = R.from_euler('x',GSA_angle_WCS_deg, degrees=True)\n",
    "df.loc['sMask',['X','Y','Z']] = gsa_rot.apply(sMask)\n",
    "df.loc['sMask','color'] = 'g'\n",
    "\n",
    "df.loc['sMPA',['X','Y','Z']] = sMPA_to_WCS.values.astype(float)\n",
    "df.loc['sMPA',['Rx','Ry','Rz']] = sMPA_angle_to_WCS_deg.values.astype(float)\n",
    "df.loc['sMPA','color']='purple'\n",
    "\n",
    "for pose in df.index:\n",
    "    update_uvec(df,pose,length=focal_length,rotangle=GSA_angle_WCS_deg)\n",
    "    if 'PDI' in pose:\n",
    "        df.loc[pose,'color'] = 'yellow'\n",
    "\n",
    "# create normal vector to sMPA\n",
    "vec = np.array([0,0,1])\n",
    "rotmat = R.from_euler('XYZ',sMPA_angle_to_WCS_deg, degrees=True)\n",
    "df.loc['sMPA',['uvec_X','uvec_Y','uvec_Z']] = rotmat.apply(vec)\n",
    "\n",
    "#ax = plot_poses(df)\n",
    "#plot_sMPA(df, ax)\n",
    "df"
   ]
  },
  {
   "cell_type": "markdown",
   "metadata": {},
   "source": [
    "# 1 Updating poses based on results from FDPR"
   ]
  },
  {
   "cell_type": "markdown",
   "metadata": {},
   "source": [
    "### 1.1 Reading in offset data from the FDPR team's spreadsheet."
   ]
  },
  {
   "cell_type": "code",
   "execution_count": 6,
   "metadata": {},
   "outputs": [
    {
     "name": "stdout",
     "output_type": "stream",
     "text": [
      "        det normal dz (um)  chief ray dz (um)    row  ...  dy (px)  dx (um)  dy (um)\n",
      "camera                                                ...                           \n",
      "PR1                   -334               -343  307.5  ...    -51.5     -161     -515\n",
      "PR3                   -377               -389  300.5  ...    -44.5     -295     -445\n",
      "PR4                   -335               -392  309.2  ...    -53.2     -219     -532\n",
      "PR5                   -368               -430  306.4  ...    -50.4     -145     -504\n",
      "PR2                   -310               -319  292.9  ...    -36.9     -172     -369\n",
      "\n",
      "[5 rows x 8 columns]\n"
     ]
    }
   ],
   "source": [
    "#These data will be used to update the position of the calculated endpoints in the sMPA frame\n",
    "shift_data = pd.read_excel('files/FDPR shifts - sandbox.xlsx',sheet_name='PSF Shifts',skiprows=0,usecols='C:K')\n",
    "shift_data = shift_data.iloc[0:6]\n",
    "shift_data.set_index('camera',inplace=True)\n",
    "print(shift_data)"
   ]
  },
  {
   "cell_type": "markdown",
   "metadata": {},
   "source": [
    "#### 1.1.1 Calculate some transformation variables necessary for converting between the 5DOF and sMPA frame"
   ]
  },
  {
   "cell_type": "code",
   "execution_count": 7,
   "metadata": {},
   "outputs": [],
   "source": [
    "translation_to_sMPA = df.loc['sMPA',['X','Y','Z']]\n",
    "rotation_from_sMPA_to_5DOF = R.from_matrix(rotmat_from_2vec(np.array([0,0,1]),df.loc['sMPA',['uvec_X','uvec_Y','uvec_Z']].values.astype(float)))"
   ]
  },
  {
   "cell_type": "markdown",
   "metadata": {},
   "source": [
    "## Scratch"
   ]
  },
  {
   "cell_type": "markdown",
   "metadata": {},
   "source": [
    "### 1.2 Calculate the new best-fit poses that minimize the deltas observed by the FDPR team (with 5DOF optimization)"
   ]
  },
  {
   "cell_type": "code",
   "execution_count": 8,
   "metadata": {},
   "outputs": [
    {
     "name": "stdout",
     "output_type": "stream",
     "text": [
      "Residuals (in sMPA frame) baseline: \n",
      "       endpt_X   endpt_Y   endpt_Z\n",
      "PR1  0.160351  0.535467  0.124598\n",
      "PR2  0.230493  0.422974  0.149398\n",
      "PR3  0.222683  0.511152  0.184264\n",
      "PR4  0.147891  0.524164  0.164599\n",
      "PR5  0.221773  0.502482  0.213309 \n",
      "\n",
      "Best-fit (X,Y,Z,Rx,Ry) deltas to apply to real-space poses: \n",
      " [ 0.1842  0.2993  0.2059 -0.0092  0.0006] \n",
      "\n",
      "Residuals (in sMPA frame) after incorporating the best-fit (x,y,z,Rx,Ry) shift to all poses: \n",
      "      endpt_X  endpt_Y  endpt_Z\n",
      "PR1   -0.036    0.033   -0.041\n",
      "PR2    0.034   -0.071    0.002\n",
      "PR3    0.026    0.016    0.032\n",
      "PR4   -0.049    0.022   -0.023\n",
      "PR5    0.025    0.001    0.030 \n",
      "\n",
      "endpt_X    0.035116\n",
      "endpt_Y    0.037132\n",
      "endpt_Z    0.029009\n",
      "dtype: float64\n"
     ]
    }
   ],
   "source": [
    "df_after_fitting_FDPR_shifts,endpoints_residuals_sMPA,best_fit_deltas = pose_update_with_FDPR_results(df,shift_data,focal_length,GSA_angle_WCS_deg,translation_to_sMPA,rotation_from_sMPA_to_5DOF)\n",
    "print(np.std(endpoints_residuals_sMPA))"
   ]
  },
  {
   "cell_type": "markdown",
   "metadata": {},
   "source": [
    "### 1.2 (alternate) Calculate the new best-fit poses that minimize the deltas observed by the FDPR team (with 6DOF optimization)"
   ]
  },
  {
   "cell_type": "code",
   "execution_count": 9,
   "metadata": {},
   "outputs": [
    {
     "name": "stdout",
     "output_type": "stream",
     "text": [
      "Residuals baseline: \n",
      "       endpt_X   endpt_Y   endpt_Z\n",
      "PR1  0.160351  0.535467  0.124598\n",
      "PR2  0.230493  0.422974  0.149398\n",
      "PR3  0.222683  0.511152  0.184264\n",
      "PR4  0.147891  0.524164  0.164599\n",
      "PR5  0.221773  0.502482  0.213309 \n",
      "\n",
      "Best-fit 6DoF deltas to apply to real-space poses: \n",
      " [ 0.1844  0.2995  0.2059 -0.0092 -0.0009 -0.0075] \n",
      "\n",
      "Residuals after incorporating the best-fit 6DoF shift to all poses: \n",
      "      endpt_X  endpt_Y  endpt_Z\n",
      "PR1   -0.037    0.033   -0.041\n",
      "PR2    0.019   -0.042   -0.004\n",
      "PR3    0.012   -0.014    0.038\n",
      "PR4   -0.034   -0.008   -0.017\n",
      "PR5    0.040    0.031    0.025 \n",
      "\n",
      "endpt_X    0.030406\n",
      "endpt_Y    0.028366\n",
      "endpt_Z    0.028532\n",
      "dtype: float64\n"
     ]
    }
   ],
   "source": [
    "df_after_fitting_FDPR_shifts,endpoints_residuals_sMPA,best_fit_deltas = pose_update_with_FDPR_results_v2(df,shift_data,focal_length,GSA_angle_WCS_deg,translation_to_sMPA,rotation_from_sMPA_to_5DOF)\n",
    "print(np.std(endpoints_residuals_sMPA))"
   ]
  },
  {
   "cell_type": "markdown",
   "metadata": {},
   "source": [
    "### 1.3 Convert new best-fit poses to encoder space"
   ]
  },
  {
   "cell_type": "code",
   "execution_count": 10,
   "metadata": {},
   "outputs": [
    {
     "name": "stdout",
     "output_type": "stream",
     "text": [
      "New pose encoders, after incorporating the best-fit (x,y,z,Rx,Ry) shift to all poses: \n",
      "               X          Y          Z        Rx         Ry\n",
      "PR1    2.117471   0.553514   0.986823  0.017713   0.006319\n",
      "PR2  -108.27037 -46.587335   23.51987 -4.913985   10.65387\n",
      "PR3  112.402472 -45.927157  23.581703 -4.882214 -10.625538\n",
      "PR4  104.107686  59.139151  32.302725  5.287544 -10.346076\n",
      "PR5 -100.265531  58.597562   32.06467  5.265611  10.374415 \n",
      "\n",
      "Baseline pose encoders (displayed again here just for reference): \n",
      "                X.1        Y.1        Z.1      Rx.1       Ry.1\n",
      "Name.1                                                       \n",
      "PR1       1.933524   0.250412   0.783184  0.026885   0.005745\n",
      "PR2    -108.452857 -46.898136  23.320940 -4.906167  10.652669\n",
      "PR3     112.219072 -46.231812  23.378512 -4.871664 -10.626735\n",
      "PR4     103.923673  58.840103  32.096062  5.298097 -10.345960\n",
      "PR5    -100.448696  58.292823  31.861952  5.273415  10.374527\n"
     ]
    }
   ],
   "source": [
    "df_after_fitting_FDPR_shifts_in_encoder_space = pd.DataFrame(columns=['X','Y','Z','Rx','Ry'],index=df_after_fitting_FDPR_shifts.index)\n",
    "for pose in [val for val in pose_encoders.index if ('PR' in val) or ('PD' in val)]:\n",
    "    df_after_fitting_FDPR_shifts_in_encoder_space.loc[pose] = calculate_encoders_from_5DOF(pd.DataFrame(df_after_fitting_FDPR_shifts.loc[pose]).T).squeeze()\n",
    "\n",
    "print('New pose encoders, after incorporating the best-fit (x,y,z,Rx,Ry) shift to all poses: \\n',df_after_fitting_FDPR_shifts_in_encoder_space,'\\n')\n",
    "print('Baseline pose encoders (displayed again here just for reference): \\n', pose_encoders)"
   ]
  },
  {
   "cell_type": "markdown",
   "metadata": {},
   "source": [
    "# 2 Write the new poses to an Excel file in the current directory"
   ]
  },
  {
   "cell_type": "code",
   "execution_count": 11,
   "metadata": {},
   "outputs": [
    {
     "name": "stdout",
     "output_type": "stream",
     "text": [
      "**Writing to Excel complete**\n"
     ]
    }
   ],
   "source": [
    "write_to_excel = True\n",
    "\n",
    "if write_to_excel == True:\n",
    "    write_new_poses_to_Excel('test output (from FDPR update).xlsx','temporary plateau name',columns=columns,GSA_angle_WCS_deg=GSA_angle_WCS_deg,\n",
    "                             df=df,df_encoders=pose_encoders,df_update=df_after_fitting_FDPR_shifts,df_update_encoders=df_after_fitting_FDPR_shifts_in_encoder_space,\n",
    "                            focal_length=focal_length)"
   ]
  },
  {
   "cell_type": "code",
   "execution_count": null,
   "metadata": {},
   "outputs": [],
   "source": []
  }
 ],
 "metadata": {
  "kernelspec": {
   "display_name": "Python 3 (Spyder)",
   "language": "python3",
   "name": "python3"
  },
  "language_info": {
   "codemirror_mode": {
    "name": "ipython",
    "version": 3
   },
   "file_extension": ".py",
   "mimetype": "text/x-python",
   "name": "python",
   "nbconvert_exporter": "python",
   "pygments_lexer": "ipython3",
   "version": "3.11.0"
  }
 },
 "nbformat": 4,
 "nbformat_minor": 4
}
