{
 "cells": [
  {
   "cell_type": "code",
   "execution_count": null,
   "metadata": {
    "scrolled": true
   },
   "outputs": [],
   "source": [
    "%matplotlib notebook\n",
    "import os\n",
    "from adm_library import *"
   ]
  },
  {
   "cell_type": "markdown",
   "metadata": {},
   "source": [
    "## 0 Parameter definitions"
   ]
  },
  {
   "cell_type": "markdown",
   "metadata": {},
   "source": [
    "### 0.1 Ingesting the [X,Y,Z,Rx,Ry] values from Tyler's spreadsheet"
   ]
  },
  {
   "cell_type": "code",
   "execution_count": null,
   "metadata": {},
   "outputs": [],
   "source": [
    "fname = 'files/SES-cold3-C4- 5DoF inputs_template.xlsx'\n",
    "sheetname = 'Input for Tyler analysis'\n",
    "#fname = 'SES-cold plateau 3 - circuit 2.xlsx'\n",
    "#sheetname = 'Input for Tyler analysis'\n",
    "\n",
    "spreadsheet = pd.read_excel(fname,\n",
    "                            sheet_name=sheetname,skiprows=1,usecols='B:N')\n",
    "\n",
    "focal_length = spreadsheet.iloc[0][0]-110 # focal length is track length -110mm, per TG\n",
    "sMPA_to_WCS = spreadsheet.iloc[3,:3].astype(float)\n",
    "sMPA_angle_to_WCS_deg = spreadsheet.iloc[6,:3].astype(float)\n",
    "GSA_angle_WCS_deg = spreadsheet.iloc[7][0]\n",
    "sMask=np.array(spreadsheet.iloc[10,1:4]).astype(float)\n",
    "\n",
    "spreadsheet = pd.read_excel(fname,\n",
    "                            sheet_name=sheetname,skiprows=15,usecols='B:N')\n",
    "pose_actual = spreadsheet.iloc[0:9,0:6]\n",
    "pose_actual = pose_actual.set_index('Name').sort_index()\n",
    "pose_actual.columns = ['X','Y','Z','Rx','Ry']\n",
    "X_5DOF,Y_5DOF,Z_5DOF,rx_deg_5DOF,ry_deg_5DOF = [[*pose_actual['X'].values.astype(float)],[*pose_actual['Y'].values.astype(float)],[*pose_actual['Z'].values.astype(float)],\n",
    "                                                [*pose_actual['Rx'].values.astype(float)],[*pose_actual['Ry'].values.astype(float)]]\n",
    "pose_encoders = spreadsheet.iloc[0:9,7:13]\n",
    "pose_encoders = pose_encoders.set_index('Name.1').sort_index()\n",
    "\n",
    "print('Provided 5DOF position in real space: \\n',pose_actual,'\\n')\n",
    "print('Provided 5DOF encoder values: \\n',pose_encoders)\n"
   ]
  },
  {
   "cell_type": "markdown",
   "metadata": {},
   "source": [
    "### 0.1.1 If both the pose_actual and pose_encoder arrays are provided in the spreadsheet above, convert between the two to make sure they both agree. "
   ]
  },
  {
   "cell_type": "code",
   "execution_count": null,
   "metadata": {},
   "outputs": [],
   "source": [
    "#No point doing the following if one or the other array is completely empty\n",
    "if (not any(np.isfinite(pose_encoders.values.astype(float)).ravel())) and (not any(np.isfinite(pose_actual.values.astype(float)).ravel())):\n",
    "\n",
    "    print('(Calculated 5DOF position) - (Actual 5DOF position (from the spreadsheet)): ')\n",
    "    calculated_pose_actual = pd.DataFrame(columns=pose_actual.columns)\n",
    "    for index in [val for val in pose_actual.index if ('PR' in val) or ('PD' in val)]:\n",
    "        calculated_pose_actual = pd.concat((calculated_pose_actual,calculate_5DOF_from_encoders(pd.DataFrame(pose_encoders.loc[index]).T)))\n",
    "    print(calculated_pose_actual-pose_actual,'\\n\\n')\n",
    "    \n",
    "    print('(Calculated 5DOF encoders) - (Actual 5DOF encoders (from the spreadsheet)): ')\n",
    "    calculated_pose_encoders = pd.DataFrame(columns=pose_encoders.columns)\n",
    "    for index in [val for val in pose_encoders.index if ('PR' in val) or ('PD' in val)]:\n",
    "        calculated_pose_encoders = pd.concat((calculated_pose_encoders,calculate_encoders_from_5DOF(pd.DataFrame(pose_actual.loc[index]).T)))\n",
    "    print(calculated_pose_encoders-pose_encoders)"
   ]
  },
  {
   "cell_type": "markdown",
   "metadata": {},
   "source": [
    "### 0.2 If the \"pose_actual\" section of the supplied spreadsheet was empty, build a new \"pose_actual\" array based on the input \"pose_encoder\" array."
   ]
  },
  {
   "cell_type": "code",
   "execution_count": null,
   "metadata": {},
   "outputs": [],
   "source": [
    "if not any(np.isfinite(pose_actual.values.astype(float)).ravel()):\n",
    "    pose_actual = convert_pose_encoders_to_pose_actual(pose_encoders)\n",
    "    print('NEWLY calculated 5DOF position in real space based on recorded 5DOF encoder values: \\n',pose_actual)"
   ]
  },
  {
   "cell_type": "markdown",
   "metadata": {},
   "source": [
    "### 0.3 Form a dataframe with the values supplied so far"
   ]
  },
  {
   "cell_type": "code",
   "execution_count": null,
   "metadata": {},
   "outputs": [],
   "source": [
    "#Generate a dataframe where we will store some parameters for each pose\n",
    "columns = ['X','Y','Z','Rx','Ry']\n",
    "df = pose_actual\n",
    "df['color']='crimson'\n",
    "\n",
    "gsa_rot = R.from_euler('x',GSA_angle_WCS_deg, degrees=True)\n",
    "df.loc['sMask',['X','Y','Z']] = gsa_rot.apply(sMask)\n",
    "df.loc['sMask','color'] = 'g'\n",
    "\n",
    "df.loc['sMPA',['X','Y','Z']] = sMPA_to_WCS.values.astype(float)\n",
    "df.loc['sMPA',['Rx','Ry','Rz']] = sMPA_angle_to_WCS_deg.values.astype(float)\n",
    "df.loc['sMPA','color']='purple'\n",
    "\n",
    "for pose in df.index:\n",
    "    update_uvec(df,pose,length=focal_length,rotangle=GSA_angle_WCS_deg)\n",
    "    if 'PDI' in pose:\n",
    "        df.loc[pose,'color'] = 'yellow'\n",
    "\n",
    "# create normal vector to sMPA\n",
    "vec = np.array([0,0,1])\n",
    "rotmat = R.from_euler('XYZ',sMPA_angle_to_WCS_deg, degrees=True)\n",
    "df.loc['sMPA',['uvec_X','uvec_Y','uvec_Z']] = rotmat.apply(vec)\n",
    "\n",
    "#ax = plot_poses(df)\n",
    "#plot_sMPA(df, ax)\n",
    "df"
   ]
  },
  {
   "cell_type": "markdown",
   "metadata": {},
   "source": [
    "# 1 Updating poses based on results from FDPR"
   ]
  },
  {
   "cell_type": "markdown",
   "metadata": {},
   "source": [
    "### 1.1 Reading in offset data from the FDPR team's spreadsheet."
   ]
  },
  {
   "cell_type": "code",
   "execution_count": 157,
   "metadata": {},
   "outputs": [
    {
     "name": "stdout",
     "output_type": "stream",
     "text": [
      "        det normal dz (um)  chief ray dz (um)    row  ...  dy (px)  dx (um)  dy (um)\n",
      "camera                                                ...                           \n",
      "PR1                     25                 27  244.0  ...     12.0     -117      120\n",
      "PR3                     -1                  0  238.9  ...     17.1     -130      171\n",
      "PR4                     37                 45  234.1  ...     21.9      -99      219\n",
      "PR5                     -4                 -3  240.9  ...     15.1     -161      151\n",
      "PR2                     62                 64  229.1  ...     26.9     -181      269\n",
      "\n",
      "[5 rows x 8 columns]\n"
     ]
    }
   ],
   "source": [
    "#These data will be used to update the position of the calculated endpoints in the sMPA frame\n",
    "shift_data = pd.read_excel('files/FDPR shifts - sandbox.xlsx',sheet_name='PSF Shifts',skiprows=0,usecols='C:K')\n",
    "shift_data = shift_data.iloc[0:6]\n",
    "shift_data.set_index('camera',inplace=True)\n",
    "print(shift_data)"
   ]
  },
  {
   "cell_type": "markdown",
   "metadata": {},
   "source": [
    "#### 1.1.1 Calculate some transformation variables necessary for converting between the 5DOF and sMPA frame"
   ]
  },
  {
   "cell_type": "code",
   "execution_count": 158,
   "metadata": {},
   "outputs": [],
   "source": [
    "translation_to_sMPA = df.loc['sMPA',['X','Y','Z']]\n",
    "rotation_from_sMPA_to_5DOF = R.from_matrix(rotmat_from_2vec(np.array([0,0,1]),df.loc['sMPA',['uvec_X','uvec_Y','uvec_Z']].values.astype(float)))"
   ]
  },
  {
   "cell_type": "markdown",
   "metadata": {},
   "source": [
    "## Scratch"
   ]
  },
  {
   "cell_type": "markdown",
   "metadata": {},
   "source": [
    "### 1.2 Calculate the new best-fit poses that minimize the deltas observed by the FDPR team (with 5DOF optimization)"
   ]
  },
  {
   "cell_type": "code",
   "execution_count": 164,
   "metadata": {},
   "outputs": [
    {
     "name": "stdout",
     "output_type": "stream",
     "text": [
      "Residuals (in sMPA frame) baseline: \n",
      "       endpt_X   endpt_Y   endpt_Z\n",
      "PR1  0.117267 -0.114330  0.022707\n",
      "PR2  0.169774 -0.262177  0.049962\n",
      "PR3  0.130404 -0.155604  0.070167\n",
      "PR4  0.107572 -0.203885  0.045909\n",
      "PR5  0.161898 -0.137013  0.064832 \n",
      "\n",
      "Best-fit (X,Y,Z,Rx,Ry) deltas to apply to real-space poses: \n",
      " [ 0.1075 -0.2338  0.0622 -0.0027  0.0013] \n",
      "\n",
      "[ 0.10751205 -0.2338194   0.06218    -0.00271954  0.00134254]\n",
      "Residuals (in sMPA frame) after incorporating the best-fit (x,y,z,Rx,Ry) shift to all poses: \n",
      "      endpt_X  endpt_Y  endpt_Z\n",
      "PR1   -0.021    0.059   -0.028\n",
      "PR2    0.033   -0.085    0.010\n",
      "PR3   -0.007    0.019    0.019\n",
      "PR4   -0.030   -0.031   -0.016\n",
      "PR5    0.025    0.037    0.014 \n",
      "\n",
      "endpt_X    0.024554\n",
      "endpt_Y    0.051735\n",
      "endpt_Z    0.018308\n",
      "dtype: float64\n"
     ]
    }
   ],
   "source": [
    "df_after_fitting_FDPR_shifts,endpoints_residuals_sMPA,best_fit_deltas = pose_update_with_FDPR_results(df,shift_data,focal_length,GSA_angle_WCS_deg,translation_to_sMPA,rotation_from_sMPA_to_5DOF)\n",
    "print(np.std(endpoints_residuals_sMPA))"
   ]
  },
  {
   "cell_type": "markdown",
   "metadata": {},
   "source": [
    "### 1.2 (alternate) Calculate the new best-fit poses that minimize the deltas observed by the FDPR team (with 6DOF optimization)"
   ]
  },
  {
   "cell_type": "code",
   "execution_count": 165,
   "metadata": {},
   "outputs": [
    {
     "name": "stdout",
     "output_type": "stream",
     "text": [
      "Residuals (in sMPA frame) baseline: \n",
      "       endpt_X   endpt_Y   endpt_Z\n",
      "PR1  0.117267 -0.114330  0.022707\n",
      "PR2  0.169774 -0.262177  0.049962\n",
      "PR3  0.130404 -0.155604  0.070167\n",
      "PR4  0.107572 -0.203885  0.045909\n",
      "PR5  0.161898 -0.137013  0.064832 \n",
      "\n",
      "Best-fit (X,Y,Z,Rx,Ry) deltas to apply to real-space poses: \n",
      " [ 0.1076 -0.2336  0.0621 -0.0027  0.0008 -0.0026] \n",
      "\n",
      "[ 0.10756023 -0.23356722  0.0621313  -0.00270992  0.00083944 -0.0026486 ]\n",
      "Residuals (in sMPA frame) after incorporating the best-fit (x,y,z,Rx,Ry) shift to all poses: \n",
      "      endpt_X  endpt_Y  endpt_Z\n",
      "PR1   -0.021    0.059   -0.028\n",
      "PR2    0.027   -0.074    0.008\n",
      "PR3   -0.012    0.008    0.021\n",
      "PR4   -0.025   -0.041   -0.014\n",
      "PR5    0.030    0.048    0.012 \n",
      "\n",
      "endpt_X    0.023704\n",
      "endpt_Y    0.051174\n",
      "endpt_Z    0.017934\n",
      "dtype: float64\n"
     ]
    }
   ],
   "source": [
    "df_after_fitting_FDPR_shifts,endpoints_residuals_sMPA,best_fit_deltas = pose_update_with_FDPR_results_v2(df,shift_data,focal_length,GSA_angle_WCS_deg,translation_to_sMPA,rotation_from_sMPA_to_5DOF)\n",
    "print(np.std(endpoints_residuals_sMPA))"
   ]
  },
  {
   "cell_type": "markdown",
   "metadata": {},
   "source": [
    "### 1.3 Convert new best-fit poses to encoder space"
   ]
  },
  {
   "cell_type": "code",
   "execution_count": null,
   "metadata": {},
   "outputs": [],
   "source": [
    "df_after_fitting_FDPR_shifts_in_encoder_space = pd.DataFrame(columns=['X','Y','Z','Rx','Ry'],index=df_after_fitting_FDPR_shifts.index)\n",
    "for pose in [val for val in pose_encoders.index if ('PR' in val) or ('PD' in val)]:\n",
    "    df_after_fitting_FDPR_shifts_in_encoder_space.loc[pose] = calculate_encoders_from_5DOF(pd.DataFrame(df_after_fitting_FDPR_shifts.loc[pose]).T).squeeze()\n",
    "\n",
    "print('New pose encoders, after incorporating the best-fit (x,y,z,Rx,Ry) shift to all poses: \\n',df_after_fitting_FDPR_shifts_in_encoder_space,'\\n')\n",
    "print('Baseline pose encoders (displayed again here just for reference): \\n', pose_encoders)"
   ]
  },
  {
   "cell_type": "markdown",
   "metadata": {},
   "source": [
    "# 2 Write the new poses to an Excel file in the current directory"
   ]
  },
  {
   "cell_type": "code",
   "execution_count": null,
   "metadata": {},
   "outputs": [],
   "source": [
    "write_to_excel = True\n",
    "\n",
    "if write_to_excel == True:\n",
    "    write_new_poses_to_Excel('test output (from FDPR update).xlsx','temporary plateau name',columns=columns,GSA_angle_WCS_deg=GSA_angle_WCS_deg,\n",
    "                             df=df,df_encoders=pose_encoders,df_update=df_after_fitting_FDPR_shifts,df_update_encoders=df_after_fitting_FDPR_shifts_in_encoder_space,\n",
    "                            focal_length=focal_length)"
   ]
  }
 ],
 "metadata": {
  "kernelspec": {
   "display_name": "Python 3 (Spyder)",
   "language": "python3",
   "name": "python3"
  },
  "language_info": {
   "codemirror_mode": {
    "name": "ipython",
    "version": 3
   },
   "file_extension": ".py",
   "mimetype": "text/x-python",
   "name": "python",
   "nbconvert_exporter": "python",
   "pygments_lexer": "ipython3",
   "version": "3.11.0"
  }
 },
 "nbformat": 4,
 "nbformat_minor": 4
}
