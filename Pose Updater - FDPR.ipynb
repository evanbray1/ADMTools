{
 "cells": [
  {
   "cell_type": "markdown",
   "metadata": {},
   "source": [
    "# Questions to ask before you start:\n",
    "\n",
    "1. Do you have a file of the input poses ready? Does it contain the table of encoder info on the bottom right, and groundskeeping data in the top left?\n",
    "\n",
    "## Did the script fail or give an error?\n",
    "#### The most common cause of errors is if one of the input files is not formatted properly. \n",
    "1. The first thing I would check is the input pose spreadsheet. \n",
    " * If that spreadsheet was created by a human and not this program, there's a chance it was formatted incorrectly and you'll have to do some copy/pasting into the \"Poses - template.xlsx\" file.\n",
    "2. The second thing I would check is the \"FDPR Shifts\" file\n",
    " * I find the easiest way to proceed is to copy/paste the relevant lines from the spreadsheet that the FDPR guys provide into the template file. Remember that only the columns in yellow are the mandatory ones."
   ]
  },
  {
   "cell_type": "markdown",
   "metadata": {},
   "source": [
    "## 0 Parameter definitions"
   ]
  },
  {
   "cell_type": "markdown",
   "metadata": {},
   "source": [
    "### 0.0.1 Parameters you'll need to tweak"
   ]
  },
  {
   "cell_type": "code",
   "execution_count": 1,
   "metadata": {},
   "outputs": [],
   "source": [
    "baseline_fname = 'files/Poses - Practice Input.xlsx' #What is the name of the input file? Don't forget to add \"files/\" if it's located in that subdirectory\n",
    "#Name of the tab in the excel file that contains the data for your baseline poses. \n",
    "#If you're using a spreadsheet that was generated using this code, you'll want to set sheetname='update'. \n",
    "#If you're using a spreadsheet that came from Manal, chances are the tab is named 'input for Tyler analysis' or something\n",
    "#sheetname = 'update'\n",
    "sheetname = 'Input for Tyler analysis'\n",
    "\n",
    "#What do you want to name the output file?\n",
    "#NOTE, the output spreadsheet from this code should not be used as an input for 'Pose Updater - FDPR.ipynb'.\n",
    "output_filename = 'Poses - FDPR Practice Output.xlsx' #What do you want to name the output file? \n",
    "#Remember the desired format is \"Poses - [name of new circuit, i.e. BA2C3] FDPR update from [name of baseline circuit, i.e. BA2C1] - [Your name].xlsx\"\n",
    "\n",
    "psf_shift_filename = 'files/FDPR shifts - template.xlsx' #File that contains the PSF shift data\n",
    "psf_shift_sheetname= 'PSF Shifts' #Name of the sheet within the file that cotains the sheetname"
   ]
  },
  {
   "cell_type": "markdown",
   "metadata": {},
   "source": [
    "---\n",
    "# Below here be math\n",
    "---\n",
    "### 0.1 Ingesting values from the template"
   ]
  },
  {
   "cell_type": "code",
   "execution_count": 2,
   "metadata": {
    "scrolled": true
   },
   "outputs": [
    {
     "name": "stdout",
     "output_type": "stream",
     "text": [
      "Warning: Cannot change to a different GUI toolkit: notebook. Using qt5 instead.\n"
     ]
    }
   ],
   "source": [
    "%matplotlib notebook\n",
    "import os\n",
    "from adm_library import *"
   ]
  },
  {
   "cell_type": "code",
   "execution_count": 3,
   "metadata": {},
   "outputs": [
    {
     "name": "stdout",
     "output_type": "stream",
     "text": [
      "Provided 5DOF position in real space: \n",
      "                X          Y          Z        Rx         Ry\n",
      "Name                                                       \n",
      "PR1     0.943594   1.280695  -0.338386  0.031453   0.035137\n",
      "PR2  -109.505749 -45.867074  22.370475 -4.911732  10.680266\n",
      "PR3   111.309055 -45.373337  22.058458 -4.857077 -10.600321\n",
      "PR4   103.076801  59.765562  30.696044  5.307985 -10.311998\n",
      "PR5   -101.43058   59.40225  30.809096  5.269783  10.410043 \n",
      "\n",
      "Provided 5DOF encoder values: \n",
      "                                                            \n",
      "Name                                                       \n",
      "PR1     0.915828   1.315707  -0.285326  0.033599   0.035898\n",
      "PR2  -109.475990 -45.798775  22.414907 -4.904663  10.683385\n",
      "PR3   111.188948 -45.262171  22.183694 -4.862801 -10.596318\n",
      "PR4   102.952223  59.823353  30.901985  5.303956 -10.315476\n",
      "PR5  -101.416216  59.420073  30.939794  5.278220  10.405904\n"
     ]
    },
    {
     "name": "stderr",
     "output_type": "stream",
     "text": [
      "C:\\Users\\ebray\\AppData\\Local\\Temp\\ipykernel_2680\\93341823.py:11: FutureWarning: Defining usecols with out of bounds indices is deprecated and will raise a ParserError in a future version.\n",
      "  spreadsheet = pd.read_excel(baseline_fname,\n"
     ]
    }
   ],
   "source": [
    "spreadsheet = pd.read_excel(baseline_fname,\n",
    "                            sheet_name=sheetname,skiprows=1,usecols='B:N')\n",
    "\n",
    "focal_length = spreadsheet.iloc[0][0]-110 # focal length is track length -110mm, per TG\n",
    "sMPA_to_WCS = spreadsheet.iloc[3,:3].astype(float)\n",
    "sMPA_angle_to_WCS_deg = spreadsheet.iloc[6,:3].astype(float)\n",
    "sMPA_angle_to_WCS_deg.name = 'sMPA XYZ Euler angle to WCS'\n",
    "GSA_angle_WCS_deg = spreadsheet.iloc[7][0]\n",
    "sMask=np.array(spreadsheet.iloc[10,1:4]).astype(float)\n",
    "\n",
    "spreadsheet = pd.read_excel(baseline_fname,\n",
    "                            sheet_name=sheetname,skiprows=15,usecols='B:S')\n",
    "pose_actual = spreadsheet.iloc[0:5,0:6]\n",
    "pose_actual = pose_actual.set_index('Name').sort_index()\n",
    "pose_actual.columns = ['X','Y','Z','Rx','Ry']\n",
    "X_5DOF,Y_5DOF,Z_5DOF,rx_deg_5DOF,ry_deg_5DOF = [[*pose_actual['X'].values.astype(float)],[*pose_actual['Y'].values.astype(float)],[*pose_actual['Z'].values.astype(float)],\n",
    "                                                [*pose_actual['Rx'].values.astype(float)],[*pose_actual['Ry'].values.astype(float)]]\n",
    "\n",
    "#Depending on the origin of the input spreadsheet, the desired encoder values are in a different place.\n",
    "if sheetname == 'Input for Tyler analysis':\n",
    "    pose_encoders = spreadsheet.iloc[0:5,7:13]\n",
    "elif sheetname == 'update':\n",
    "    pose_encoders = spreadsheet.iloc[0:5,12:18]\n",
    "    \n",
    "#Rename the columns because by default, each column header got a \".1\" added to the end\n",
    "new_columns=[]\n",
    "for column in pose_encoders.columns:\n",
    "    new_columns.append(column[:-2])\n",
    "pose_encoders.columns = new_columns\n",
    "pose_encoders = pose_encoders.set_index('Name').sort_index()\n",
    "\n",
    "print('Provided 5DOF position in real space: \\n',pose_actual,'\\n')\n",
    "print('Provided 5DOF encoder values: \\n',pose_encoders)\n"
   ]
  },
  {
   "cell_type": "markdown",
   "metadata": {},
   "source": [
    "### 0.1.1 If both the pose_actual and pose_encoder arrays are provided in the spreadsheet above, convert between the two to make sure they both agree. "
   ]
  },
  {
   "cell_type": "code",
   "execution_count": 4,
   "metadata": {},
   "outputs": [],
   "source": [
    "#No point doing the following if one or the other array is completely empty\n",
    "if (not any(np.isfinite(pose_encoders.values.astype(float)).ravel())) and (not any(np.isfinite(pose_actual.values.astype(float)).ravel())):\n",
    "\n",
    "    print('(Calculated 5DOF position) - (Actual 5DOF position (from the spreadsheet)): ')\n",
    "    calculated_pose_actual = pd.DataFrame(columns=pose_actual.columns)\n",
    "    for index in [val for val in pose_actual.index if ('PR' in val) or ('PD' in val)]:\n",
    "        calculated_pose_actual = pd.concat((calculated_pose_actual,calculate_5DOF_from_encoders(pd.DataFrame(pose_encoders.loc[index]).T)))\n",
    "    print(calculated_pose_actual-pose_actual,'\\n\\n')\n",
    "    \n",
    "    print('(Calculated 5DOF encoders) - (Actual 5DOF encoders (from the spreadsheet)): ')\n",
    "    calculated_pose_encoders = pd.DataFrame(columns=pose_encoders.columns)\n",
    "    for index in [val for val in pose_encoders.index if ('PR' in val) or ('PD' in val)]:\n",
    "        calculated_pose_encoders = pd.concat((calculated_pose_encoders,calculate_encoders_from_5DOF(pd.DataFrame(pose_actual.loc[index]).T)))\n",
    "    print(calculated_pose_encoders-pose_encoders)"
   ]
  },
  {
   "cell_type": "markdown",
   "metadata": {},
   "source": [
    "### 0.2 If the \"pose_actual\" section of the supplied spreadsheet was empty, build a new \"pose_actual\" array based on the input \"pose_encoder\" array."
   ]
  },
  {
   "cell_type": "code",
   "execution_count": 5,
   "metadata": {},
   "outputs": [],
   "source": [
    "if not any(np.isfinite(pose_actual.values.astype(float)).ravel()):\n",
    "    pose_actual = convert_pose_encoders_to_pose_actual(pose_encoders)\n",
    "    print('NEWLY calculated 5DOF position in real space based on recorded 5DOF encoder values: \\n',pose_actual)"
   ]
  },
  {
   "cell_type": "markdown",
   "metadata": {},
   "source": [
    "### 0.3 Form a dataframe with the values supplied so far"
   ]
  },
  {
   "cell_type": "code",
   "execution_count": 6,
   "metadata": {},
   "outputs": [
    {
     "data": {
      "text/html": [
       "<div>\n",
       "<style scoped>\n",
       "    .dataframe tbody tr th:only-of-type {\n",
       "        vertical-align: middle;\n",
       "    }\n",
       "\n",
       "    .dataframe tbody tr th {\n",
       "        vertical-align: top;\n",
       "    }\n",
       "\n",
       "    .dataframe thead th {\n",
       "        text-align: right;\n",
       "    }\n",
       "</style>\n",
       "<table border=\"1\" class=\"dataframe\">\n",
       "  <thead>\n",
       "    <tr style=\"text-align: right;\">\n",
       "      <th></th>\n",
       "      <th>X</th>\n",
       "      <th>Y</th>\n",
       "      <th>Z</th>\n",
       "      <th>Rx</th>\n",
       "      <th>Ry</th>\n",
       "      <th>color</th>\n",
       "      <th>Rz</th>\n",
       "      <th>uvec_X</th>\n",
       "      <th>uvec_Y</th>\n",
       "      <th>uvec_Z</th>\n",
       "    </tr>\n",
       "    <tr>\n",
       "      <th>Name</th>\n",
       "      <th></th>\n",
       "      <th></th>\n",
       "      <th></th>\n",
       "      <th></th>\n",
       "      <th></th>\n",
       "      <th></th>\n",
       "      <th></th>\n",
       "      <th></th>\n",
       "      <th></th>\n",
       "      <th></th>\n",
       "    </tr>\n",
       "  </thead>\n",
       "  <tbody>\n",
       "    <tr>\n",
       "      <th>PR1</th>\n",
       "      <td>0.943594</td>\n",
       "      <td>1.280695</td>\n",
       "      <td>-0.338386</td>\n",
       "      <td>0.031453</td>\n",
       "      <td>0.035137</td>\n",
       "      <td>crimson</td>\n",
       "      <td>NaN</td>\n",
       "      <td>0.792405</td>\n",
       "      <td>248.143393</td>\n",
       "      <td>1268.071794</td>\n",
       "    </tr>\n",
       "    <tr>\n",
       "      <th>PR2</th>\n",
       "      <td>-109.505749</td>\n",
       "      <td>-45.867074</td>\n",
       "      <td>22.370475</td>\n",
       "      <td>-4.911732</td>\n",
       "      <td>10.680266</td>\n",
       "      <td>crimson</td>\n",
       "      <td>NaN</td>\n",
       "      <td>239.466788</td>\n",
       "      <td>350.312004</td>\n",
       "      <td>1220.458522</td>\n",
       "    </tr>\n",
       "    <tr>\n",
       "      <th>PR3</th>\n",
       "      <td>111.309055</td>\n",
       "      <td>-45.373337</td>\n",
       "      <td>22.058458</td>\n",
       "      <td>-4.857077</td>\n",
       "      <td>-10.600321</td>\n",
       "      <td>crimson</td>\n",
       "      <td>NaN</td>\n",
       "      <td>-237.694885</td>\n",
       "      <td>349.239187</td>\n",
       "      <td>1221.112189</td>\n",
       "    </tr>\n",
       "    <tr>\n",
       "      <th>PR4</th>\n",
       "      <td>103.076801</td>\n",
       "      <td>59.765562</td>\n",
       "      <td>30.696044</td>\n",
       "      <td>5.307985</td>\n",
       "      <td>-10.311998</td>\n",
       "      <td>crimson</td>\n",
       "      <td>NaN</td>\n",
       "      <td>-231.300660</td>\n",
       "      <td>128.369032</td>\n",
       "      <td>1264.754223</td>\n",
       "    </tr>\n",
       "    <tr>\n",
       "      <th>PR5</th>\n",
       "      <td>-101.43058</td>\n",
       "      <td>59.40225</td>\n",
       "      <td>30.809096</td>\n",
       "      <td>5.269783</td>\n",
       "      <td>10.410043</td>\n",
       "      <td>crimson</td>\n",
       "      <td>NaN</td>\n",
       "      <td>233.475701</td>\n",
       "      <td>129.171851</td>\n",
       "      <td>1264.272746</td>\n",
       "    </tr>\n",
       "    <tr>\n",
       "      <th>sMask</th>\n",
       "      <td>1.3107</td>\n",
       "      <td>116.244531</td>\n",
       "      <td>587.154</td>\n",
       "      <td>NaN</td>\n",
       "      <td>NaN</td>\n",
       "      <td>g</td>\n",
       "      <td>NaN</td>\n",
       "      <td>NaN</td>\n",
       "      <td>NaN</td>\n",
       "      <td>NaN</td>\n",
       "    </tr>\n",
       "    <tr>\n",
       "      <th>sMPA</th>\n",
       "      <td>1.736</td>\n",
       "      <td>249.4149</td>\n",
       "      <td>1267.7131</td>\n",
       "      <td>-24.285640</td>\n",
       "      <td>0.023570</td>\n",
       "      <td>purple</td>\n",
       "      <td>0.13521</td>\n",
       "      <td>0.000411</td>\n",
       "      <td>0.411286</td>\n",
       "      <td>0.911506</td>\n",
       "    </tr>\n",
       "  </tbody>\n",
       "</table>\n",
       "</div>"
      ],
      "text/plain": [
       "                X           Y          Z  ...      uvec_X      uvec_Y       uvec_Z\n",
       "Name                                      ...                                     \n",
       "PR1      0.943594    1.280695  -0.338386  ...    0.792405  248.143393  1268.071794\n",
       "PR2   -109.505749  -45.867074  22.370475  ...  239.466788  350.312004  1220.458522\n",
       "PR3    111.309055  -45.373337  22.058458  ... -237.694885  349.239187  1221.112189\n",
       "PR4    103.076801   59.765562  30.696044  ... -231.300660  128.369032  1264.754223\n",
       "PR5    -101.43058    59.40225  30.809096  ...  233.475701  129.171851  1264.272746\n",
       "sMask      1.3107  116.244531    587.154  ...         NaN         NaN          NaN\n",
       "sMPA        1.736    249.4149  1267.7131  ...    0.000411    0.411286     0.911506\n",
       "\n",
       "[7 rows x 10 columns]"
      ]
     },
     "execution_count": 6,
     "metadata": {},
     "output_type": "execute_result"
    }
   ],
   "source": [
    "#Generate a dataframe where we will store some parameters for each pose\n",
    "columns = ['X','Y','Z','Rx','Ry']\n",
    "df = pose_actual\n",
    "df['color']='crimson'\n",
    "\n",
    "gsa_rot = R.from_euler('x',GSA_angle_WCS_deg, degrees=True)\n",
    "df.loc['sMask',['X','Y','Z']] = gsa_rot.apply(sMask)\n",
    "df.loc['sMask','color'] = 'g'\n",
    "\n",
    "df.loc['sMPA',['X','Y','Z']] = sMPA_to_WCS.values.astype(float)\n",
    "df.loc['sMPA',['Rx','Ry','Rz']] = sMPA_angle_to_WCS_deg.values.astype(float)\n",
    "df.loc['sMPA','color']='purple'\n",
    "\n",
    "for pose in df.index:\n",
    "    update_uvec(df,pose,length=focal_length,rotangle=GSA_angle_WCS_deg)\n",
    "    if 'PDI' in pose:\n",
    "        df.loc[pose,'color'] = 'yellow'\n",
    "\n",
    "# create normal vector to sMPA\n",
    "vec = np.array([0,0,1])\n",
    "rotmat = R.from_euler('XYZ',sMPA_angle_to_WCS_deg, degrees=True)\n",
    "df.loc['sMPA',['uvec_X','uvec_Y','uvec_Z']] = rotmat.apply(vec)\n",
    "\n",
    "#ax = plot_poses(df)\n",
    "#plot_sMPA(df, ax)\n",
    "df"
   ]
  },
  {
   "cell_type": "markdown",
   "metadata": {},
   "source": [
    "# 1 Updating poses based on results from FDPR"
   ]
  },
  {
   "cell_type": "markdown",
   "metadata": {},
   "source": [
    "### 1.1 Reading in offset data from the FDPR team's spreadsheet."
   ]
  },
  {
   "cell_type": "code",
   "execution_count": 7,
   "metadata": {},
   "outputs": [
    {
     "name": "stdout",
     "output_type": "stream",
     "text": [
      "       det normal dz (um)  chief ray dz (um)    row  ...  dy (px)  dx (um)  dy (um)\n",
      "camera                                               ...                           \n",
      "PR1                   -87              -89.0  261.2  ...     -5.2    -51.0    -52.0\n",
      "PR3                  -250             -258.0  260.0  ...     -4.0   -149.0    -40.0\n",
      "PR4                   -13              -14.0  264.9  ...     -8.9    -71.0    -89.0\n",
      "PR5                   -19              -21.0  268.3  ...    -12.3    -81.0   -123.0\n",
      "PR2                  -137             -141.0  252.1  ...      3.9   -122.0     39.0\n",
      "\n",
      "[5 rows x 8 columns]\n"
     ]
    }
   ],
   "source": [
    "#These data will be used to update the position of the calculated endpoints in the sMPA frame\n",
    "shift_data = pd.read_excel(psf_shift_filename,sheet_name=psf_shift_sheetname,skiprows=0,usecols='C:K')\n",
    "shift_data = shift_data.iloc[0:5]\n",
    "shift_data.set_index('camera',inplace=True)\n",
    "print(shift_data)"
   ]
  },
  {
   "cell_type": "markdown",
   "metadata": {},
   "source": [
    "#### 1.1.1 Calculate some transformation variables necessary for converting between the 5DOF and sMPA frame"
   ]
  },
  {
   "cell_type": "code",
   "execution_count": 8,
   "metadata": {},
   "outputs": [],
   "source": [
    "translation_to_sMPA = df.loc['sMPA',['X','Y','Z']]\n",
    "rotation_from_sMPA_to_5DOF = R.from_matrix(rotmat_from_2vec(np.array([0,0,1]),df.loc['sMPA',['uvec_X','uvec_Y','uvec_Z']].values.astype(float)))"
   ]
  },
  {
   "cell_type": "markdown",
   "metadata": {},
   "source": [
    "### 1.2 Calculate the new best-fit poses that minimize the deltas observed by the FDPR team (with 6DOF optimization)"
   ]
  },
  {
   "cell_type": "code",
   "execution_count": 10,
   "metadata": {},
   "outputs": [
    {
     "name": "stdout",
     "output_type": "stream",
     "text": [
      "Residuals baseline: \n",
      "       endpt_X   endpt_Y   endpt_Z\n",
      "PR1  0.050932  0.064591  0.065888\n",
      "PR2  0.148223  0.002920  0.149056\n",
      "PR3  0.101444  0.106489  0.227169\n",
      "PR4  0.068284  0.082655 -0.022996\n",
      "PR5  0.084504  0.114375 -0.030150 \n",
      "\n",
      "Best-fit 6DoF deltas to apply to real-space poses: \n",
      " [-0.0535  1.1847 -0.1361  0.051   0.0055 -0.0051] \n",
      "\n",
      "Residuals after incorporating the best-fit 6DoF shift to all poses: \n",
      "      endpt_X  endpt_Y  endpt_Z\n",
      "PR1   -0.042    0.008   -0.018\n",
      "PR2    0.048   -0.068   -0.004\n",
      "PR3    0.002   -0.019    0.031\n",
      "PR4   -0.012    0.001   -0.023\n",
      "PR5    0.004    0.078    0.014 \n",
      "\n",
      "endpt_X    0.029241\n",
      "endpt_Y    0.047092\n",
      "endpt_Z    0.020096\n",
      "dtype: float64\n"
     ]
    }
   ],
   "source": [
    "df_after_fitting_FDPR_shifts,endpoints_residuals_sMPA,best_fit_deltas = pose_update_with_FDPR_results_v2(df,shift_data,focal_length,GSA_angle_WCS_deg,translation_to_sMPA,rotation_from_sMPA_to_5DOF)\n",
    "print(np.std(endpoints_residuals_sMPA))"
   ]
  },
  {
   "cell_type": "markdown",
   "metadata": {},
   "source": [
    "### 1.3 Convert new best-fit poses to encoder space"
   ]
  },
  {
   "cell_type": "code",
   "execution_count": 11,
   "metadata": {},
   "outputs": [
    {
     "name": "stdout",
     "output_type": "stream",
     "text": [
      "New pose encoders, after incorporating the best-fit (x,y,z,Rx,Ry) shift to all poses: \n",
      "               X          Y          Z        Rx         Ry\n",
      "PR1    0.863147   2.475074  -0.467852  0.083156   0.043714\n",
      "PR2 -109.459218 -44.795394  22.159519 -4.859743   10.68621\n",
      "PR3  111.203334 -43.901999  22.032123  -4.80542 -10.593124\n",
      "PR4  102.826285  61.150819  30.775897  5.362975 -10.303491\n",
      "PR5 -101.537535  60.392291  30.713764  5.321132  10.416939 \n",
      "\n",
      "Baseline pose encoders (displayed again here just for reference): \n",
      "                                                            \n",
      "Name                                                       \n",
      "PR1     0.915828   1.315707  -0.285326  0.033599   0.035898\n",
      "PR2  -109.475990 -45.798775  22.414907 -4.904663  10.683385\n",
      "PR3   111.188948 -45.262171  22.183694 -4.862801 -10.596318\n",
      "PR4   102.952223  59.823353  30.901985  5.303956 -10.315476\n",
      "PR5  -101.416216  59.420073  30.939794  5.278220  10.405904\n"
     ]
    }
   ],
   "source": [
    "df_after_fitting_FDPR_shifts_in_encoder_space = pd.DataFrame(columns=['X','Y','Z','Rx','Ry'],index=df_after_fitting_FDPR_shifts.index)\n",
    "for pose in [val for val in pose_encoders.index if ('PR' in val) or ('PD' in val)]:\n",
    "    df_after_fitting_FDPR_shifts_in_encoder_space.loc[pose] = calculate_encoders_from_5DOF(pd.DataFrame(df_after_fitting_FDPR_shifts.loc[pose]).T).squeeze()\n",
    "\n",
    "print('New pose encoders, after incorporating the best-fit (x,y,z,Rx,Ry) shift to all poses: \\n',df_after_fitting_FDPR_shifts_in_encoder_space,'\\n')\n",
    "print('Baseline pose encoders (displayed again here just for reference): \\n', pose_encoders)"
   ]
  },
  {
   "cell_type": "markdown",
   "metadata": {},
   "source": [
    "# 2 Write the new poses to an Excel file in the current directory"
   ]
  },
  {
   "cell_type": "code",
   "execution_count": 12,
   "metadata": {},
   "outputs": [
    {
     "name": "stdout",
     "output_type": "stream",
     "text": [
      "**Writing to Excel complete.**\n",
      "**Filename:  Poses - FDPR Practice Output.xlsx\n"
     ]
    }
   ],
   "source": [
    "write_to_excel = True\n",
    "\n",
    "if write_to_excel == True:\n",
    "    write_new_poses_to_Excel(output_filename,'',update_type='FDPR',baseline_filepath=baseline_fname,\n",
    "                             columns=columns,sMPA_angle_to_WCS_deg=sMPA_angle_to_WCS_deg,GSA_angle_WCS_deg=GSA_angle_WCS_deg,\n",
    "                             rigid_body_correction=best_fit_deltas,\n",
    "                             df=df,df_encoders=pose_encoders,df_update=df_after_fitting_FDPR_shifts,df_update_encoders=df_after_fitting_FDPR_shifts_in_encoder_space,\n",
    "                            focal_length=focal_length)"
   ]
  }
 ],
 "metadata": {
  "kernelspec": {
   "display_name": "Python 3 (Spyder)",
   "language": "python3",
   "name": "python3"
  },
  "language_info": {
   "codemirror_mode": {
    "name": "ipython",
    "version": 3
   },
   "file_extension": ".py",
   "mimetype": "text/x-python",
   "name": "python",
   "nbconvert_exporter": "python",
   "pygments_lexer": "ipython3",
   "version": "3.11.0"
  }
 },
 "nbformat": 4,
 "nbformat_minor": 4
}
