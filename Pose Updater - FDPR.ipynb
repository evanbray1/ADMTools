{
 "cells": [
  {
   "cell_type": "code",
   "execution_count": 1,
   "metadata": {
    "scrolled": true
   },
   "outputs": [
    {
     "name": "stdout",
     "output_type": "stream",
     "text": [
      "Warning: Cannot change to a different GUI toolkit: notebook. Using qt5 instead.\n"
     ]
    }
   ],
   "source": [
    "%matplotlib notebook\n",
    "import os\n",
    "from adm_library import *"
   ]
  },
  {
   "cell_type": "markdown",
   "metadata": {},
   "source": [
    "## 0 Parameter definitions"
   ]
  },
  {
   "cell_type": "markdown",
   "metadata": {},
   "source": [
    "### 0.1 Ingesting the [X,Y,Z,Rx,Ry] values from Tyler's spreadsheet"
   ]
  },
  {
   "cell_type": "code",
   "execution_count": 2,
   "metadata": {},
   "outputs": [
    {
     "name": "stdout",
     "output_type": "stream",
     "text": [
      "Provided 5DOF position in real space: \n",
      "                X          Y          Z        Rx         Ry\n",
      "Name                                                       \n",
      "PR1     2.163165   0.731032   0.966148  0.025574   0.002490\n",
      "PR2  -108.342474 -46.323188  23.595026 -4.904773  10.653399\n",
      "PR3   112.472837 -46.012767  23.450489 -4.875768 -10.627238\n",
      "PR4   104.321314  59.133634  32.073318  5.290663 -10.350558\n",
      "PR5  -100.186324  58.940085   32.03125  5.275375  10.371512 \n",
      "\n",
      "Provided 5DOF encoder values: \n",
      "                  X          Y          Z        Rx         Ry\n",
      "Name.1                                                       \n",
      "PR1       2.138863   0.770344   0.950754  0.026304   0.004572\n",
      "PR2    -108.249306 -46.371321  23.478986 -4.904729  10.652422\n",
      "PR3     112.423147 -45.708420  23.548210 -4.874262 -10.626989\n",
      "PR4     104.127459  59.355654  32.271674  5.295555 -10.348123\n",
      "PR5    -100.245410  58.811642  32.026732  5.274800  10.372370\n"
     ]
    }
   ],
   "source": [
    "#fname = 'files/Cal5DoF05222023-post FDPR V3.xlsx'\n",
    "sheetname = 'Input for Tyler analysis'\n",
    "fname = 'files/5DoF inputs - BA5C2.xlsx'\n",
    "\n",
    "output_filename = 'Poses - BA5C4 FDPR update from BA5C2 - Evan.xlsx'\n",
    "\n",
    "spreadsheet = pd.read_excel(fname,\n",
    "                            sheet_name=sheetname,skiprows=1,usecols='B:N')\n",
    "\n",
    "focal_length = spreadsheet.iloc[0][0]-110 # focal length is track length -110mm, per TG\n",
    "sMPA_to_WCS = spreadsheet.iloc[3,:3].astype(float)\n",
    "sMPA_angle_to_WCS_deg = spreadsheet.iloc[6,:3].astype(float)\n",
    "GSA_angle_WCS_deg = spreadsheet.iloc[7][0]\n",
    "sMask=np.array(spreadsheet.iloc[10,1:4]).astype(float)\n",
    "\n",
    "spreadsheet = pd.read_excel(fname,\n",
    "                            sheet_name=sheetname,skiprows=15,usecols='B:N')\n",
    "pose_actual = spreadsheet.iloc[0:5,0:6]\n",
    "pose_actual = pose_actual.set_index('Name').sort_index()\n",
    "pose_actual.columns = ['X','Y','Z','Rx','Ry']\n",
    "X_5DOF,Y_5DOF,Z_5DOF,rx_deg_5DOF,ry_deg_5DOF = [[*pose_actual['X'].values.astype(float)],[*pose_actual['Y'].values.astype(float)],[*pose_actual['Z'].values.astype(float)],\n",
    "                                                [*pose_actual['Rx'].values.astype(float)],[*pose_actual['Ry'].values.astype(float)]]\n",
    "pose_encoders = spreadsheet.iloc[0:5,7:13]\n",
    "pose_encoders = pose_encoders.set_index('Name.1').sort_index()\n",
    "\n",
    "print('Provided 5DOF position in real space: \\n',pose_actual,'\\n')\n",
    "print('Provided 5DOF encoder values: \\n',pose_encoders)\n"
   ]
  },
  {
   "cell_type": "markdown",
   "metadata": {},
   "source": [
    "### 0.1.1 If both the pose_actual and pose_encoder arrays are provided in the spreadsheet above, convert between the two to make sure they both agree. "
   ]
  },
  {
   "cell_type": "code",
   "execution_count": 3,
   "metadata": {},
   "outputs": [],
   "source": [
    "#No point doing the following if one or the other array is completely empty\n",
    "if (not any(np.isfinite(pose_encoders.values.astype(float)).ravel())) and (not any(np.isfinite(pose_actual.values.astype(float)).ravel())):\n",
    "\n",
    "    print('(Calculated 5DOF position) - (Actual 5DOF position (from the spreadsheet)): ')\n",
    "    calculated_pose_actual = pd.DataFrame(columns=pose_actual.columns)\n",
    "    for index in [val for val in pose_actual.index if ('PR' in val) or ('PD' in val)]:\n",
    "        calculated_pose_actual = pd.concat((calculated_pose_actual,calculate_5DOF_from_encoders(pd.DataFrame(pose_encoders.loc[index]).T)))\n",
    "    print(calculated_pose_actual-pose_actual,'\\n\\n')\n",
    "    \n",
    "    print('(Calculated 5DOF encoders) - (Actual 5DOF encoders (from the spreadsheet)): ')\n",
    "    calculated_pose_encoders = pd.DataFrame(columns=pose_encoders.columns)\n",
    "    for index in [val for val in pose_encoders.index if ('PR' in val) or ('PD' in val)]:\n",
    "        calculated_pose_encoders = pd.concat((calculated_pose_encoders,calculate_encoders_from_5DOF(pd.DataFrame(pose_actual.loc[index]).T)))\n",
    "    print(calculated_pose_encoders-pose_encoders)"
   ]
  },
  {
   "cell_type": "markdown",
   "metadata": {},
   "source": [
    "### 0.2 If the \"pose_actual\" section of the supplied spreadsheet was empty, build a new \"pose_actual\" array based on the input \"pose_encoder\" array."
   ]
  },
  {
   "cell_type": "code",
   "execution_count": 4,
   "metadata": {},
   "outputs": [],
   "source": [
    "if not any(np.isfinite(pose_actual.values.astype(float)).ravel()):\n",
    "    pose_actual = convert_pose_encoders_to_pose_actual(pose_encoders)\n",
    "    print('NEWLY calculated 5DOF position in real space based on recorded 5DOF encoder values: \\n',pose_actual)"
   ]
  },
  {
   "cell_type": "markdown",
   "metadata": {},
   "source": [
    "### 0.3 Form a dataframe with the values supplied so far"
   ]
  },
  {
   "cell_type": "code",
   "execution_count": 5,
   "metadata": {},
   "outputs": [
    {
     "data": {
      "text/html": [
       "<div>\n",
       "<style scoped>\n",
       "    .dataframe tbody tr th:only-of-type {\n",
       "        vertical-align: middle;\n",
       "    }\n",
       "\n",
       "    .dataframe tbody tr th {\n",
       "        vertical-align: top;\n",
       "    }\n",
       "\n",
       "    .dataframe thead th {\n",
       "        text-align: right;\n",
       "    }\n",
       "</style>\n",
       "<table border=\"1\" class=\"dataframe\">\n",
       "  <thead>\n",
       "    <tr style=\"text-align: right;\">\n",
       "      <th></th>\n",
       "      <th>X</th>\n",
       "      <th>Y</th>\n",
       "      <th>Z</th>\n",
       "      <th>Rx</th>\n",
       "      <th>Ry</th>\n",
       "      <th>color</th>\n",
       "      <th>Rz</th>\n",
       "      <th>uvec_X</th>\n",
       "      <th>uvec_Y</th>\n",
       "      <th>uvec_Z</th>\n",
       "    </tr>\n",
       "    <tr>\n",
       "      <th>Name</th>\n",
       "      <th></th>\n",
       "      <th></th>\n",
       "      <th></th>\n",
       "      <th></th>\n",
       "      <th></th>\n",
       "      <th></th>\n",
       "      <th></th>\n",
       "      <th></th>\n",
       "      <th></th>\n",
       "      <th></th>\n",
       "    </tr>\n",
       "  </thead>\n",
       "  <tbody>\n",
       "    <tr>\n",
       "      <th>PR1</th>\n",
       "      <td>2.163165</td>\n",
       "      <td>0.731032</td>\n",
       "      <td>0.966148</td>\n",
       "      <td>0.025574</td>\n",
       "      <td>0.002490</td>\n",
       "      <td>crimson</td>\n",
       "      <td>NaN</td>\n",
       "      <td>0.056155</td>\n",
       "      <td>248.273543</td>\n",
       "      <td>1268.046565</td>\n",
       "    </tr>\n",
       "    <tr>\n",
       "      <th>PR2</th>\n",
       "      <td>-108.342474</td>\n",
       "      <td>-46.323188</td>\n",
       "      <td>23.595026</td>\n",
       "      <td>-4.904773</td>\n",
       "      <td>10.653399</td>\n",
       "      <td>crimson</td>\n",
       "      <td>NaN</td>\n",
       "      <td>238.871363</td>\n",
       "      <td>350.194693</td>\n",
       "      <td>1220.608863</td>\n",
       "    </tr>\n",
       "    <tr>\n",
       "      <th>PR3</th>\n",
       "      <td>112.472837</td>\n",
       "      <td>-46.012767</td>\n",
       "      <td>23.450489</td>\n",
       "      <td>-4.875768</td>\n",
       "      <td>-10.627238</td>\n",
       "      <td>crimson</td>\n",
       "      <td>NaN</td>\n",
       "      <td>-238.291518</td>\n",
       "      <td>349.606727</td>\n",
       "      <td>1220.890714</td>\n",
       "    </tr>\n",
       "    <tr>\n",
       "      <th>PR4</th>\n",
       "      <td>104.321314</td>\n",
       "      <td>59.133634</td>\n",
       "      <td>32.073318</td>\n",
       "      <td>5.290663</td>\n",
       "      <td>-10.350558</td>\n",
       "      <td>crimson</td>\n",
       "      <td>NaN</td>\n",
       "      <td>-232.156166</td>\n",
       "      <td>128.735590</td>\n",
       "      <td>1264.560204</td>\n",
       "    </tr>\n",
       "    <tr>\n",
       "      <th>PR5</th>\n",
       "      <td>-100.186324</td>\n",
       "      <td>58.940085</td>\n",
       "      <td>32.03125</td>\n",
       "      <td>5.275375</td>\n",
       "      <td>10.371512</td>\n",
       "      <td>crimson</td>\n",
       "      <td>NaN</td>\n",
       "      <td>232.621007</td>\n",
       "      <td>129.064383</td>\n",
       "      <td>1264.441260</td>\n",
       "    </tr>\n",
       "    <tr>\n",
       "      <th>sMask</th>\n",
       "      <td>1.995</td>\n",
       "      <td>115.232021</td>\n",
       "      <td>588.279458</td>\n",
       "      <td>NaN</td>\n",
       "      <td>NaN</td>\n",
       "      <td>g</td>\n",
       "      <td>NaN</td>\n",
       "      <td>NaN</td>\n",
       "      <td>NaN</td>\n",
       "      <td>NaN</td>\n",
       "    </tr>\n",
       "    <tr>\n",
       "      <th>sMPA</th>\n",
       "      <td>2.04</td>\n",
       "      <td>248.465</td>\n",
       "      <td>1268.826</td>\n",
       "      <td>-24.297100</td>\n",
       "      <td>0.007400</td>\n",
       "      <td>purple</td>\n",
       "      <td>0.0746</td>\n",
       "      <td>0.000129</td>\n",
       "      <td>0.411468</td>\n",
       "      <td>0.911424</td>\n",
       "    </tr>\n",
       "  </tbody>\n",
       "</table>\n",
       "</div>"
      ],
      "text/plain": [
       "                X           Y           Z  ...      uvec_X      uvec_Y       uvec_Z\n",
       "Name                                       ...                                     \n",
       "PR1      2.163165    0.731032    0.966148  ...    0.056155  248.273543  1268.046565\n",
       "PR2   -108.342474  -46.323188   23.595026  ...  238.871363  350.194693  1220.608863\n",
       "PR3    112.472837  -46.012767   23.450489  ... -238.291518  349.606727  1220.890714\n",
       "PR4    104.321314   59.133634   32.073318  ... -232.156166  128.735590  1264.560204\n",
       "PR5   -100.186324   58.940085    32.03125  ...  232.621007  129.064383  1264.441260\n",
       "sMask       1.995  115.232021  588.279458  ...         NaN         NaN          NaN\n",
       "sMPA         2.04     248.465    1268.826  ...    0.000129    0.411468     0.911424\n",
       "\n",
       "[7 rows x 10 columns]"
      ]
     },
     "execution_count": 5,
     "metadata": {},
     "output_type": "execute_result"
    }
   ],
   "source": [
    "#Generate a dataframe where we will store some parameters for each pose\n",
    "columns = ['X','Y','Z','Rx','Ry']\n",
    "df = pose_actual\n",
    "df['color']='crimson'\n",
    "\n",
    "gsa_rot = R.from_euler('x',GSA_angle_WCS_deg, degrees=True)\n",
    "df.loc['sMask',['X','Y','Z']] = gsa_rot.apply(sMask)\n",
    "df.loc['sMask','color'] = 'g'\n",
    "\n",
    "df.loc['sMPA',['X','Y','Z']] = sMPA_to_WCS.values.astype(float)\n",
    "df.loc['sMPA',['Rx','Ry','Rz']] = sMPA_angle_to_WCS_deg.values.astype(float)\n",
    "df.loc['sMPA','color']='purple'\n",
    "\n",
    "for pose in df.index:\n",
    "    update_uvec(df,pose,length=focal_length,rotangle=GSA_angle_WCS_deg)\n",
    "    if 'PDI' in pose:\n",
    "        df.loc[pose,'color'] = 'yellow'\n",
    "\n",
    "# create normal vector to sMPA\n",
    "vec = np.array([0,0,1])\n",
    "rotmat = R.from_euler('XYZ',sMPA_angle_to_WCS_deg, degrees=True)\n",
    "df.loc['sMPA',['uvec_X','uvec_Y','uvec_Z']] = rotmat.apply(vec)\n",
    "\n",
    "#ax = plot_poses(df)\n",
    "#plot_sMPA(df, ax)\n",
    "df"
   ]
  },
  {
   "cell_type": "markdown",
   "metadata": {},
   "source": [
    "# 1 Updating poses based on results from FDPR"
   ]
  },
  {
   "cell_type": "markdown",
   "metadata": {},
   "source": [
    "### 1.1 Reading in offset data from the FDPR team's spreadsheet."
   ]
  },
  {
   "cell_type": "code",
   "execution_count": 6,
   "metadata": {},
   "outputs": [
    {
     "name": "stdout",
     "output_type": "stream",
     "text": [
      "        det normal dz (um)  chief ray dz (um)  row  ...  dy (px)  dx (um)  dy (um)\n",
      "camera                                              ...                           \n",
      "PR1                    NaN                 20  NaN  ...      NaN       37        0\n",
      "PR3                    NaN                -11  NaN  ...      NaN       -7       78\n",
      "PR4                    NaN                 38  NaN  ...      NaN        9       60\n",
      "PR5                    NaN                -15  NaN  ...      NaN      -59       -5\n",
      "PR2                    NaN                 28  NaN  ...      NaN      -32       80\n",
      "\n",
      "[5 rows x 8 columns]\n"
     ]
    }
   ],
   "source": [
    "#These data will be used to update the position of the calculated endpoints in the sMPA frame\n",
    "shift_data = pd.read_excel('files/FDPR shifts - sandbox.xlsx',sheet_name='PSF Shifts',skiprows=0,usecols='C:K')\n",
    "shift_data = shift_data.iloc[0:6]\n",
    "shift_data.set_index('camera',inplace=True)\n",
    "print(shift_data)"
   ]
  },
  {
   "cell_type": "markdown",
   "metadata": {},
   "source": [
    "#### 1.1.1 Calculate some transformation variables necessary for converting between the 5DOF and sMPA frame"
   ]
  },
  {
   "cell_type": "code",
   "execution_count": 7,
   "metadata": {},
   "outputs": [],
   "source": [
    "translation_to_sMPA = df.loc['sMPA',['X','Y','Z']]\n",
    "rotation_from_sMPA_to_5DOF = R.from_matrix(rotmat_from_2vec(np.array([0,0,1]),df.loc['sMPA',['uvec_X','uvec_Y','uvec_Z']].values.astype(float)))"
   ]
  },
  {
   "cell_type": "markdown",
   "metadata": {},
   "source": [
    "## Scratch"
   ]
  },
  {
   "cell_type": "markdown",
   "metadata": {},
   "source": [
    "### 1.2 Calculate the new best-fit poses that minimize the deltas observed by the FDPR team (with 5DOF optimization)"
   ]
  },
  {
   "cell_type": "code",
   "execution_count": 8,
   "metadata": {},
   "outputs": [
    {
     "name": "stdout",
     "output_type": "stream",
     "text": [
      "Residuals (in sMPA frame) baseline: \n",
      "       endpt_X   endpt_Y   endpt_Z\n",
      "PR1 -0.037001 -0.003885 -0.019603\n",
      "PR2  0.026928 -0.080466  0.006446\n",
      "PR3  0.005073 -0.068107  0.042483\n",
      "PR4 -0.002094 -0.058482 -0.012495\n",
      "PR5  0.061694  0.006122  0.012583 \n",
      "\n",
      "Best-fit (X,Y,Z,Rx,Ry) deltas to apply to real-space poses: \n",
      " [ 0.0067  0.0106 -0.0041  0.0024  0.0002] \n",
      "\n",
      "Residuals (in sMPA frame) after incorporating the best-fit (x,y,z,Rx,Ry) shift to all poses: \n",
      "      endpt_X  endpt_Y  endpt_Z\n",
      "PR1   -0.048    0.038   -0.026\n",
      "PR2    0.016   -0.040   -0.003\n",
      "PR3   -0.006   -0.028    0.031\n",
      "PR4   -0.013   -0.017   -0.015\n",
      "PR5    0.051    0.048    0.012 \n",
      "\n",
      "endpt_X    0.032684\n",
      "endpt_Y    0.035935\n",
      "endpt_Z    0.020073\n",
      "dtype: float64\n"
     ]
    }
   ],
   "source": [
    "df_after_fitting_FDPR_shifts,endpoints_residuals_sMPA,best_fit_deltas = pose_update_with_FDPR_results(df,shift_data,focal_length,GSA_angle_WCS_deg,translation_to_sMPA,rotation_from_sMPA_to_5DOF)\n",
    "print(np.std(endpoints_residuals_sMPA))"
   ]
  },
  {
   "cell_type": "markdown",
   "metadata": {},
   "source": [
    "### 1.2 (alternate) Calculate the new best-fit poses that minimize the deltas observed by the FDPR team (with 6DOF optimization)"
   ]
  },
  {
   "cell_type": "code",
   "execution_count": 9,
   "metadata": {},
   "outputs": [
    {
     "name": "stdout",
     "output_type": "stream",
     "text": [
      "Residuals baseline: \n",
      "       endpt_X   endpt_Y   endpt_Z\n",
      "PR1 -0.037001 -0.003885 -0.019603\n",
      "PR2  0.026928 -0.080466  0.006446\n",
      "PR3  0.005073 -0.068107  0.042483\n",
      "PR4 -0.002094 -0.058482 -0.012495\n",
      "PR5  0.061694  0.006122  0.012583 \n",
      "\n",
      "Best-fit 6DoF deltas to apply to real-space poses: \n",
      " [ 0.0066  0.0105 -0.0041  0.0024  0.0008  0.0034] \n",
      "\n",
      "Residuals after incorporating the best-fit 6DoF shift to all poses: \n",
      "      endpt_X  endpt_Y  endpt_Z\n",
      "PR1   -0.048    0.038   -0.026\n",
      "PR2    0.023   -0.054   -0.001\n",
      "PR3    0.001   -0.015    0.029\n",
      "PR4   -0.020   -0.003   -0.017\n",
      "PR5    0.044    0.034    0.015 \n",
      "\n",
      "endpt_X    0.032019\n",
      "endpt_Y    0.033917\n",
      "endpt_Z    0.020012\n",
      "dtype: float64\n"
     ]
    }
   ],
   "source": [
    "df_after_fitting_FDPR_shifts,endpoints_residuals_sMPA,best_fit_deltas = pose_update_with_FDPR_results_v2(df,shift_data,focal_length,GSA_angle_WCS_deg,translation_to_sMPA,rotation_from_sMPA_to_5DOF)\n",
    "print(np.std(endpoints_residuals_sMPA))"
   ]
  },
  {
   "cell_type": "markdown",
   "metadata": {},
   "source": [
    "### 1.3 Convert new best-fit poses to encoder space"
   ]
  },
  {
   "cell_type": "code",
   "execution_count": 10,
   "metadata": {},
   "outputs": [
    {
     "name": "stdout",
     "output_type": "stream",
     "text": [
      "New pose encoders, after incorporating the best-fit (x,y,z,Rx,Ry) shift to all poses: \n",
      "               X          Y          Z        Rx         Ry\n",
      "PR1    2.145434   0.780755   0.946776  0.028667   0.004757\n",
      "PR2  -108.24273  -46.36087  23.474953 -4.902981  10.652322\n",
      "PR3  112.429691 -45.697969  23.544233 -4.871279 -10.627087\n",
      "PR4  104.134009  59.366032  32.267756   5.29854 -10.347627\n",
      "PR5 -100.238831  58.822019  32.022762  5.276543  10.372864 \n",
      "\n",
      "Baseline pose encoders (displayed again here just for reference): \n",
      "                  X          Y          Z        Rx         Ry\n",
      "Name.1                                                       \n",
      "PR1       2.138863   0.770344   0.950754  0.026304   0.004572\n",
      "PR2    -108.249306 -46.371321  23.478986 -4.904729  10.652422\n",
      "PR3     112.423147 -45.708420  23.548210 -4.874262 -10.626989\n",
      "PR4     104.127459  59.355654  32.271674  5.295555 -10.348123\n",
      "PR5    -100.245410  58.811642  32.026732  5.274800  10.372370\n"
     ]
    }
   ],
   "source": [
    "df_after_fitting_FDPR_shifts_in_encoder_space = pd.DataFrame(columns=['X','Y','Z','Rx','Ry'],index=df_after_fitting_FDPR_shifts.index)\n",
    "for pose in [val for val in pose_encoders.index if ('PR' in val) or ('PD' in val)]:\n",
    "    df_after_fitting_FDPR_shifts_in_encoder_space.loc[pose] = calculate_encoders_from_5DOF(pd.DataFrame(df_after_fitting_FDPR_shifts.loc[pose]).T).squeeze()\n",
    "\n",
    "print('New pose encoders, after incorporating the best-fit (x,y,z,Rx,Ry) shift to all poses: \\n',df_after_fitting_FDPR_shifts_in_encoder_space,'\\n')\n",
    "print('Baseline pose encoders (displayed again here just for reference): \\n', pose_encoders)"
   ]
  },
  {
   "cell_type": "markdown",
   "metadata": {},
   "source": [
    "# 2 Write the new poses to an Excel file in the current directory"
   ]
  },
  {
   "cell_type": "code",
   "execution_count": 11,
   "metadata": {},
   "outputs": [
    {
     "name": "stdout",
     "output_type": "stream",
     "text": [
      "**Writing to Excel complete.**\n",
      "**Filename:  Poses - BA5C4 FDPR update from BA5C2 - Evan.xlsx\n"
     ]
    }
   ],
   "source": [
    "write_to_excel = True\n",
    "\n",
    "if write_to_excel == True:\n",
    "    write_new_poses_to_Excel(output_filename,'',update_type='FDPR',baseline_filepath=fname,\n",
    "                             columns=columns,GSA_angle_WCS_deg=GSA_angle_WCS_deg,rigid_body_correction=best_fit_deltas,\n",
    "                             df=df,df_encoders=pose_encoders,df_update=df_after_fitting_FDPR_shifts,df_update_encoders=df_after_fitting_FDPR_shifts_in_encoder_space,\n",
    "                            focal_length=focal_length)"
   ]
  }
 ],
 "metadata": {
  "kernelspec": {
   "display_name": "Python 3 (Spyder)",
   "language": "python3",
   "name": "python3"
  },
  "language_info": {
   "codemirror_mode": {
    "name": "ipython",
    "version": 3
   },
   "file_extension": ".py",
   "mimetype": "text/x-python",
   "name": "python",
   "nbconvert_exporter": "python",
   "pygments_lexer": "ipython3",
   "version": "3.11.0"
  }
 },
 "nbformat": 4,
 "nbformat_minor": 4
}
