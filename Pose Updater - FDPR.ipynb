{
 "cells": [
  {
   "cell_type": "code",
   "execution_count": 1,
   "metadata": {
    "scrolled": true
   },
   "outputs": [
    {
     "name": "stdout",
     "output_type": "stream",
     "text": [
      "Warning: Cannot change to a different GUI toolkit: notebook. Using qt5 instead.\n"
     ]
    }
   ],
   "source": [
    "%matplotlib notebook\n",
    "import os\n",
    "from adm_library import *"
   ]
  },
  {
   "cell_type": "markdown",
   "metadata": {},
   "source": [
    "## 0 Parameter definitions"
   ]
  },
  {
   "cell_type": "markdown",
   "metadata": {},
   "source": [
    "### 0.1 Ingesting the [X,Y,Z,Rx,Ry] values from Tyler's spreadsheet"
   ]
  },
  {
   "cell_type": "code",
   "execution_count": 2,
   "metadata": {},
   "outputs": [
    {
     "name": "stdout",
     "output_type": "stream",
     "text": [
      "Provided 5DOF position in real space: \n",
      "                X          Y          Z        Rx         Ry\n",
      "Name                                                       \n",
      "PDI1 -109.089755  -4.477723  21.386613 -0.941514  10.804298\n",
      "PDI2  111.429511  -3.828453  21.664246 -0.884323 -10.784784\n",
      "PDI3   39.795278  52.011229  11.044961  4.741583  -3.798262\n",
      "PDI4  -38.810833  51.903508  11.309534  4.728098   3.961031\n",
      "PR1     0.943594   1.280695  -0.338386  0.031453   0.035137\n",
      "PR2  -109.505749 -45.867074  22.370475 -4.911732  10.680266\n",
      "PR3   111.309055 -45.373337  22.058458 -4.857077 -10.600321\n",
      "PR4   103.076801  59.765562  30.696044  5.307985 -10.311998\n",
      "PR5   -101.43058   59.40225  30.809096  5.269783  10.410043 \n",
      "\n",
      "Provided 5DOF encoder values: \n",
      "                  X          Y          Z        Rx         Ry\n",
      "Name.1                                                       \n",
      "PDI1   -109.062609  -4.434582  21.454053 -0.933014  10.805269\n",
      "PDI2    111.310127  -3.744227  21.815125 -0.889186 -10.782564\n",
      "PDI3     39.730784  52.036620  11.173132  4.741350  -3.802575\n",
      "PDI4    -38.823427  51.914614  11.409021  4.732568   3.957571\n",
      "PR1       0.917128   1.315067  -0.285362  0.033340   0.035897\n",
      "PR2    -109.477588 -45.798520  22.416112 -4.904451  10.683211\n",
      "PR3     111.191027 -45.264255  22.185954 -4.862982 -10.596180\n",
      "PR4     102.952311  59.821639  30.905637  5.303586 -10.315789\n",
      "PR5    -101.419522  59.420527  30.942453  5.278235  10.405316\n"
     ]
    }
   ],
   "source": [
    "fname = 'files/SES-cold3-C4- 5DoF inputs_template.xlsx'\n",
    "sheetname = 'Input for Tyler analysis'\n",
    "#fname = 'SES-cold plateau 3 - circuit 2.xlsx'\n",
    "#sheetname = 'Input for Tyler analysis'\n",
    "\n",
    "spreadsheet = pd.read_excel(fname,\n",
    "                            sheet_name=sheetname,skiprows=1,usecols='B:N')\n",
    "\n",
    "focal_length = spreadsheet.iloc[0][0]-110 # focal length is track length -110mm, per TG\n",
    "sMPA_to_WCS = spreadsheet.iloc[3,:3].astype(float)\n",
    "sMPA_angle_to_WCS_deg = spreadsheet.iloc[6,:3].astype(float)\n",
    "GSA_angle_WCS_deg = spreadsheet.iloc[7][0]\n",
    "sMask=np.array(spreadsheet.iloc[10,1:4]).astype(float)\n",
    "\n",
    "spreadsheet = pd.read_excel(fname,\n",
    "                            sheet_name=sheetname,skiprows=15,usecols='B:N')\n",
    "pose_actual = spreadsheet.iloc[0:9,0:6]\n",
    "pose_actual = pose_actual.set_index('Name').sort_index()\n",
    "pose_actual.columns = ['X','Y','Z','Rx','Ry']\n",
    "X_5DOF,Y_5DOF,Z_5DOF,rx_deg_5DOF,ry_deg_5DOF = [[*pose_actual['X'].values.astype(float)],[*pose_actual['Y'].values.astype(float)],[*pose_actual['Z'].values.astype(float)],\n",
    "                                                [*pose_actual['Rx'].values.astype(float)],[*pose_actual['Ry'].values.astype(float)]]\n",
    "pose_encoders = spreadsheet.iloc[0:9,7:13]\n",
    "pose_encoders = pose_encoders.set_index('Name.1').sort_index()\n",
    "\n",
    "print('Provided 5DOF position in real space: \\n',pose_actual,'\\n')\n",
    "print('Provided 5DOF encoder values: \\n',pose_encoders)\n"
   ]
  },
  {
   "cell_type": "markdown",
   "metadata": {},
   "source": [
    "### 0.1.1 If both the pose_actual and pose_encoder arrays are provided in the spreadsheet above, convert between the two to make sure they both agree. "
   ]
  },
  {
   "cell_type": "code",
   "execution_count": 3,
   "metadata": {},
   "outputs": [],
   "source": [
    "#No point doing the following if one or the other array is completely empty\n",
    "if (not any(np.isfinite(pose_encoders.values.astype(float)).ravel())) and (not any(np.isfinite(pose_actual.values.astype(float)).ravel())):\n",
    "\n",
    "    print('(Calculated 5DOF position) - (Actual 5DOF position (from the spreadsheet)): ')\n",
    "    calculated_pose_actual = pd.DataFrame(columns=pose_actual.columns)\n",
    "    for index in [val for val in pose_actual.index if ('PR' in val) or ('PD' in val)]:\n",
    "        calculated_pose_actual = pd.concat((calculated_pose_actual,calculate_5DOF_from_encoders(pd.DataFrame(pose_encoders.loc[index]).T)))\n",
    "    print(calculated_pose_actual-pose_actual,'\\n\\n')\n",
    "    \n",
    "    print('(Calculated 5DOF encoders) - (Actual 5DOF encoders (from the spreadsheet)): ')\n",
    "    calculated_pose_encoders = pd.DataFrame(columns=pose_encoders.columns)\n",
    "    for index in [val for val in pose_encoders.index if ('PR' in val) or ('PD' in val)]:\n",
    "        calculated_pose_encoders = pd.concat((calculated_pose_encoders,calculate_encoders_from_5DOF(pd.DataFrame(pose_actual.loc[index]).T)))\n",
    "    print(calculated_pose_encoders-pose_encoders)"
   ]
  },
  {
   "cell_type": "markdown",
   "metadata": {},
   "source": [
    "### 0.2 If the \"pose_actual\" section of the supplied spreadsheet was empty, build a new \"pose_actual\" array based on the input \"pose_encoder\" array."
   ]
  },
  {
   "cell_type": "code",
   "execution_count": 4,
   "metadata": {},
   "outputs": [],
   "source": [
    "if not any(np.isfinite(pose_actual.values.astype(float)).ravel()):\n",
    "    pose_actual = convert_pose_encoders_to_pose_actual(pose_encoders)\n",
    "    print('NEWLY calculated 5DOF position in real space based on recorded 5DOF encoder values: \\n',pose_actual)"
   ]
  },
  {
   "cell_type": "markdown",
   "metadata": {},
   "source": [
    "### 0.3 Form a dataframe with the values supplied so far"
   ]
  },
  {
   "cell_type": "code",
   "execution_count": 5,
   "metadata": {},
   "outputs": [
    {
     "data": {
      "text/html": [
       "<div>\n",
       "<style scoped>\n",
       "    .dataframe tbody tr th:only-of-type {\n",
       "        vertical-align: middle;\n",
       "    }\n",
       "\n",
       "    .dataframe tbody tr th {\n",
       "        vertical-align: top;\n",
       "    }\n",
       "\n",
       "    .dataframe thead th {\n",
       "        text-align: right;\n",
       "    }\n",
       "</style>\n",
       "<table border=\"1\" class=\"dataframe\">\n",
       "  <thead>\n",
       "    <tr style=\"text-align: right;\">\n",
       "      <th></th>\n",
       "      <th>X</th>\n",
       "      <th>Y</th>\n",
       "      <th>Z</th>\n",
       "      <th>Rx</th>\n",
       "      <th>Ry</th>\n",
       "      <th>color</th>\n",
       "      <th>uvec_X</th>\n",
       "      <th>uvec_Y</th>\n",
       "      <th>uvec_Z</th>\n",
       "    </tr>\n",
       "    <tr>\n",
       "      <th>Name</th>\n",
       "      <th></th>\n",
       "      <th></th>\n",
       "      <th></th>\n",
       "      <th></th>\n",
       "      <th></th>\n",
       "      <th></th>\n",
       "      <th></th>\n",
       "      <th></th>\n",
       "      <th></th>\n",
       "    </tr>\n",
       "  </thead>\n",
       "  <tbody>\n",
       "    <tr>\n",
       "      <th>PDI1</th>\n",
       "      <td>-109.089755</td>\n",
       "      <td>-4.477723</td>\n",
       "      <td>21.386613</td>\n",
       "      <td>-0.941514</td>\n",
       "      <td>10.804298</td>\n",
       "      <td>yellow</td>\n",
       "      <td>242.214916</td>\n",
       "      <td>264.860490</td>\n",
       "      <td>1241.274628</td>\n",
       "    </tr>\n",
       "    <tr>\n",
       "      <th>PDI2</th>\n",
       "      <td>111.429511</td>\n",
       "      <td>-3.828453</td>\n",
       "      <td>21.664246</td>\n",
       "      <td>-0.884323</td>\n",
       "      <td>-10.784784</td>\n",
       "      <td>yellow</td>\n",
       "      <td>-241.782625</td>\n",
       "      <td>263.638476</td>\n",
       "      <td>1241.619009</td>\n",
       "    </tr>\n",
       "    <tr>\n",
       "      <th>PDI3</th>\n",
       "      <td>39.795278</td>\n",
       "      <td>52.011229</td>\n",
       "      <td>11.044961</td>\n",
       "      <td>4.741583</td>\n",
       "      <td>-3.798262</td>\n",
       "      <td>yellow</td>\n",
       "      <td>-85.594929</td>\n",
       "      <td>142.863551</td>\n",
       "      <td>1281.345137</td>\n",
       "    </tr>\n",
       "    <tr>\n",
       "      <th>PDI4</th>\n",
       "      <td>-38.810833</td>\n",
       "      <td>51.903508</td>\n",
       "      <td>11.309534</td>\n",
       "      <td>4.728098</td>\n",
       "      <td>3.961031</td>\n",
       "      <td>yellow</td>\n",
       "      <td>89.257250</td>\n",
       "      <td>143.137547</td>\n",
       "      <td>1281.064648</td>\n",
       "    </tr>\n",
       "    <tr>\n",
       "      <th>PR1</th>\n",
       "      <td>0.943594</td>\n",
       "      <td>1.280695</td>\n",
       "      <td>-0.338386</td>\n",
       "      <td>0.031453</td>\n",
       "      <td>0.035137</td>\n",
       "      <td>crimson</td>\n",
       "      <td>0.792405</td>\n",
       "      <td>248.143393</td>\n",
       "      <td>1268.071794</td>\n",
       "    </tr>\n",
       "    <tr>\n",
       "      <th>PR2</th>\n",
       "      <td>-109.505749</td>\n",
       "      <td>-45.867074</td>\n",
       "      <td>22.370475</td>\n",
       "      <td>-4.911732</td>\n",
       "      <td>10.680266</td>\n",
       "      <td>crimson</td>\n",
       "      <td>239.466788</td>\n",
       "      <td>350.312004</td>\n",
       "      <td>1220.458522</td>\n",
       "    </tr>\n",
       "    <tr>\n",
       "      <th>PR3</th>\n",
       "      <td>111.309055</td>\n",
       "      <td>-45.373337</td>\n",
       "      <td>22.058458</td>\n",
       "      <td>-4.857077</td>\n",
       "      <td>-10.600321</td>\n",
       "      <td>crimson</td>\n",
       "      <td>-237.694885</td>\n",
       "      <td>349.239187</td>\n",
       "      <td>1221.112189</td>\n",
       "    </tr>\n",
       "    <tr>\n",
       "      <th>PR4</th>\n",
       "      <td>103.076801</td>\n",
       "      <td>59.765562</td>\n",
       "      <td>30.696044</td>\n",
       "      <td>5.307985</td>\n",
       "      <td>-10.311998</td>\n",
       "      <td>crimson</td>\n",
       "      <td>-231.300660</td>\n",
       "      <td>128.369032</td>\n",
       "      <td>1264.754223</td>\n",
       "    </tr>\n",
       "    <tr>\n",
       "      <th>PR5</th>\n",
       "      <td>-101.43058</td>\n",
       "      <td>59.40225</td>\n",
       "      <td>30.809096</td>\n",
       "      <td>5.269783</td>\n",
       "      <td>10.410043</td>\n",
       "      <td>crimson</td>\n",
       "      <td>233.475701</td>\n",
       "      <td>129.171851</td>\n",
       "      <td>1264.272746</td>\n",
       "    </tr>\n",
       "    <tr>\n",
       "      <th>sMask</th>\n",
       "      <td>1.3107</td>\n",
       "      <td>116.244531</td>\n",
       "      <td>587.154</td>\n",
       "      <td>NaN</td>\n",
       "      <td>NaN</td>\n",
       "      <td>g</td>\n",
       "      <td>NaN</td>\n",
       "      <td>NaN</td>\n",
       "      <td>NaN</td>\n",
       "    </tr>\n",
       "    <tr>\n",
       "      <th>sMPA</th>\n",
       "      <td>1.736</td>\n",
       "      <td>249.4149</td>\n",
       "      <td>1267.7131</td>\n",
       "      <td>NaN</td>\n",
       "      <td>NaN</td>\n",
       "      <td>purple</td>\n",
       "      <td>0.000445</td>\n",
       "      <td>0.411384</td>\n",
       "      <td>0.911462</td>\n",
       "    </tr>\n",
       "  </tbody>\n",
       "</table>\n",
       "</div>"
      ],
      "text/plain": [
       "                X           Y          Z  ...      uvec_X      uvec_Y       uvec_Z\n",
       "Name                                      ...                                     \n",
       "PDI1  -109.089755   -4.477723  21.386613  ...  242.214916  264.860490  1241.274628\n",
       "PDI2   111.429511   -3.828453  21.664246  ... -241.782625  263.638476  1241.619009\n",
       "PDI3    39.795278   52.011229  11.044961  ...  -85.594929  142.863551  1281.345137\n",
       "PDI4   -38.810833   51.903508  11.309534  ...   89.257250  143.137547  1281.064648\n",
       "PR1      0.943594    1.280695  -0.338386  ...    0.792405  248.143393  1268.071794\n",
       "PR2   -109.505749  -45.867074  22.370475  ...  239.466788  350.312004  1220.458522\n",
       "PR3    111.309055  -45.373337  22.058458  ... -237.694885  349.239187  1221.112189\n",
       "PR4    103.076801   59.765562  30.696044  ... -231.300660  128.369032  1264.754223\n",
       "PR5    -101.43058    59.40225  30.809096  ...  233.475701  129.171851  1264.272746\n",
       "sMask      1.3107  116.244531    587.154  ...         NaN         NaN          NaN\n",
       "sMPA        1.736    249.4149  1267.7131  ...    0.000445    0.411384     0.911462\n",
       "\n",
       "[11 rows x 9 columns]"
      ]
     },
     "execution_count": 5,
     "metadata": {},
     "output_type": "execute_result"
    }
   ],
   "source": [
    "#Generate a dataframe where we will store some parameters for each pose\n",
    "columns = ['X','Y','Z','Rx','Ry']\n",
    "df = pose_actual\n",
    "df['color']='crimson'\n",
    "\n",
    "gsa_rot = R.from_euler('x',GSA_angle_WCS_deg, degrees=True)\n",
    "df.loc['sMask',['X','Y','Z']] = gsa_rot.apply(sMask)\n",
    "df.loc['sMask','color'] = 'g'\n",
    "\n",
    "df.loc['sMPA',['X','Y','Z']] = sMPA_to_WCS.values.astype(float)\n",
    "df.loc['sMPA','color']='purple'\n",
    "\n",
    "for pose in df.index:\n",
    "    update_uvec(df,pose,length=focal_length,rotangle=GSA_angle_WCS_deg)\n",
    "    if 'PDI' in pose:\n",
    "        df.loc[pose,'color'] = 'yellow'\n",
    "\n",
    "# create normal vector to sMPA\n",
    "vec = np.array([0,0,1])\n",
    "rotmat = R.from_euler('XYZ',sMPA_angle_to_WCS_deg, degrees=True)\n",
    "df.loc['sMPA',['uvec_X','uvec_Y','uvec_Z']] = rotmat.apply(vec)\n",
    "\n",
    "#ax = plot_poses(df)\n",
    "#plot_sMPA(df, ax)\n",
    "df"
   ]
  },
  {
   "cell_type": "markdown",
   "metadata": {},
   "source": [
    "# 1 Updating poses based on results from FDPR"
   ]
  },
  {
   "cell_type": "markdown",
   "metadata": {},
   "source": [
    "### 1.1 Reading in offset data from the FDPR team's spreadsheet."
   ]
  },
  {
   "cell_type": "code",
   "execution_count": 6,
   "metadata": {},
   "outputs": [
    {
     "name": "stdout",
     "output_type": "stream",
     "text": [
      "        det normal dz (um)  chief ray dz (um)    row  ...  dy (px)  dx (um)  dy (um)\n",
      "camera                                                ...                           \n",
      "PR1                     25                 27  244.0  ...     12.0     -117      120\n",
      "PR3                     -1                  0  238.9  ...     17.1     -130      171\n",
      "PR4                     37                 45  234.1  ...     21.9      -99      219\n",
      "PR5                     -4                 -3  240.9  ...     15.1     -161      151\n",
      "PR2                     62                 64  229.1  ...     26.9     -181      269\n",
      "\n",
      "[5 rows x 8 columns]\n"
     ]
    }
   ],
   "source": [
    "#These data will be used to update the position of the calculated endpoints in the sMPA frame\n",
    "shift_data = pd.read_excel('files/FDPR shifts - sandbox.xlsx',sheet_name='PSF Shifts',skiprows=0,usecols='C:K')\n",
    "shift_data = shift_data.iloc[0:6]\n",
    "shift_data.set_index('camera',inplace=True)\n",
    "print(shift_data)"
   ]
  },
  {
   "cell_type": "markdown",
   "metadata": {},
   "source": [
    "#### 1.1.1 Calculate some transformation variables necessary for converting between the 5DOF and sMPA frame"
   ]
  },
  {
   "cell_type": "code",
   "execution_count": 7,
   "metadata": {},
   "outputs": [],
   "source": [
    "translation_to_sMPA = df.loc['sMPA',['X','Y','Z']]\n",
    "rotation_from_sMPA_to_5DOF = R.from_matrix(rotmat_from_2vec(np.array([0,0,1]),df.loc['sMPA',['uvec_X','uvec_Y','uvec_Z']].values.astype(float)))"
   ]
  },
  {
   "cell_type": "markdown",
   "metadata": {},
   "source": [
    "### 1.2 Calculate the new best-fit poses that minimize the deltas observed by the FDPR team"
   ]
  },
  {
   "cell_type": "code",
   "execution_count": 8,
   "metadata": {},
   "outputs": [
    {
     "name": "stdout",
     "output_type": "stream",
     "text": [
      "Residuals (in sMPA frame) baseline: \n",
      "      endpt_X  endpt_Y  endpt_Z\n",
      "PR1    0.117   -0.120   -0.027\n",
      "PR2    0.181   -0.269   -0.064\n",
      "PR3    0.130   -0.171    0.000\n",
      "PR4    0.099   -0.219   -0.045\n",
      "PR5    0.161   -0.151    0.003 \n",
      "\n",
      "Best-fit (X,Y,Z,Rx,Ry) deltas to apply to real-space poses: \n",
      " [ 0.1051 -0.239   0.0635 -0.0027  0.0015] \n",
      "\n",
      "Residuals (in sMPA frame) after incorporating the best-fit (x,y,z,Rx,Ry) shift to all poses: \n",
      "      endpt_X  endpt_Y  endpt_Z\n",
      "PR1   -0.021    0.065   -0.000\n",
      "PR2    0.044   -0.085   -0.026\n",
      "PR3   -0.007    0.015    0.026\n",
      "PR4   -0.039   -0.030   -0.029\n",
      "PR5    0.024    0.035    0.030 \n",
      "\n"
     ]
    }
   ],
   "source": [
    "df_after_fitting_FDPR_shifts,endpoints_residuals_sMPA,best_fit_deltas = pose_update_with_FDPR_results(df,shift_data,focal_length,GSA_angle_WCS_deg,translation_to_sMPA,rotation_from_sMPA_to_5DOF)"
   ]
  },
  {
   "cell_type": "markdown",
   "metadata": {},
   "source": [
    "### 1.3 Convert new best-fit poses to encoder space"
   ]
  },
  {
   "cell_type": "code",
   "execution_count": 9,
   "metadata": {},
   "outputs": [
    {
     "name": "stdout",
     "output_type": "stream",
     "text": [
      "New pose encoders, after incorporating the best-fit (x,y,z,Rx,Ry) shift to all poses: \n",
      "                X          Y          Z        Rx         Ry\n",
      "PDI1 -108.957623  -4.673383  21.517673 -0.935703  10.806732\n",
      "PDI2  111.415113  -3.983029  21.878745 -0.891876 -10.781101\n",
      "PDI3    39.83577  51.797818  11.236752  4.738663  -3.801113\n",
      "PDI4  -38.718441  51.675813  11.472641  4.729882   3.959033\n",
      "PR1     1.022114   1.076265  -0.221742  0.030651   0.037361\n",
      "PR2  -109.372602 -46.037321  22.479731 -4.907139  10.684671\n",
      "PR3   111.296014 -45.503057  22.249574  -4.86567 -10.594721\n",
      "PR4   103.057297  59.582837  30.969257    5.3009 -10.314328\n",
      "PR5  -101.314536  59.181725  31.006073  5.275549  10.406777 \n",
      "\n",
      "Baseline pose encoders (displayed again here just for reference): \n",
      "                  X          Y          Z        Rx         Ry\n",
      "Name.1                                                       \n",
      "PDI1   -109.062609  -4.434582  21.454053 -0.933014  10.805269\n",
      "PDI2    111.310127  -3.744227  21.815125 -0.889186 -10.782564\n",
      "PDI3     39.730784  52.036620  11.173132  4.741350  -3.802575\n",
      "PDI4    -38.823427  51.914614  11.409021  4.732568   3.957571\n",
      "PR1       0.917128   1.315067  -0.285362  0.033340   0.035897\n",
      "PR2    -109.477588 -45.798520  22.416112 -4.904451  10.683211\n",
      "PR3     111.191027 -45.264255  22.185954 -4.862982 -10.596180\n",
      "PR4     102.952311  59.821639  30.905637  5.303586 -10.315789\n",
      "PR5    -101.419522  59.420527  30.942453  5.278235  10.405316\n"
     ]
    }
   ],
   "source": [
    "df_after_fitting_FDPR_shifts_in_encoder_space = pd.DataFrame(columns=['X','Y','Z','Rx','Ry'],index=df_after_fitting_FDPR_shifts.index)\n",
    "for pose in [val for val in pose_encoders.index if ('PR' in val) or ('PD' in val)]:\n",
    "    df_after_fitting_FDPR_shifts_in_encoder_space.loc[pose] = calculate_encoders_from_5DOF(pd.DataFrame(df_after_fitting_FDPR_shifts.loc[pose]).T).squeeze()\n",
    "\n",
    "print('New pose encoders, after incorporating the best-fit (x,y,z,Rx,Ry) shift to all poses: \\n',df_after_fitting_FDPR_shifts_in_encoder_space,'\\n')\n",
    "print('Baseline pose encoders (displayed again here just for reference): \\n', pose_encoders)"
   ]
  },
  {
   "cell_type": "markdown",
   "metadata": {},
   "source": [
    "# 2 Write the new poses to an Excel file in the current directory"
   ]
  },
  {
   "cell_type": "code",
   "execution_count": 10,
   "metadata": {},
   "outputs": [
    {
     "name": "stdout",
     "output_type": "stream",
     "text": [
      "**Writing to Excel complete**\n"
     ]
    }
   ],
   "source": [
    "write_to_excel = True\n",
    "\n",
    "if write_to_excel == True:\n",
    "    write_new_poses_to_Excel('test output (from FDPR update).xlsx','temporary plateau name',columns=columns,GSA_angle_WCS_deg=GSA_angle_WCS_deg,\n",
    "                             df=df,df_encoders=pose_encoders,df_update=df_after_fitting_FDPR_shifts,df_update_encoders=df_after_fitting_FDPR_shifts_in_encoder_space,\n",
    "                            focal_length=focal_length)"
   ]
  }
 ],
 "metadata": {
  "kernelspec": {
   "display_name": "Python 3 (Spyder)",
   "language": "python3",
   "name": "python3"
  },
  "language_info": {
   "codemirror_mode": {
    "name": "ipython",
    "version": 3
   },
   "file_extension": ".py",
   "mimetype": "text/x-python",
   "name": "python",
   "nbconvert_exporter": "python",
   "pygments_lexer": "ipython3",
   "version": "3.11.0"
  }
 },
 "nbformat": 4,
 "nbformat_minor": 4
}
