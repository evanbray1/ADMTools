{
 "cells": [
  {
   "cell_type": "code",
   "execution_count": 1,
   "metadata": {
    "scrolled": true
   },
   "outputs": [
    {
     "name": "stdout",
     "output_type": "stream",
     "text": [
      "Warning: Cannot change to a different GUI toolkit: notebook. Using qt5 instead.\n"
     ]
    }
   ],
   "source": [
    "%matplotlib notebook\n",
    "import os\n",
    "from adm_library import *"
   ]
  },
  {
   "cell_type": "markdown",
   "metadata": {},
   "source": [
    "## 0 Parameter definitions"
   ]
  },
  {
   "cell_type": "markdown",
   "metadata": {},
   "source": [
    "### 0.1 Ingesting the [X,Y,Z,Rx,Ry] values from Tyler's spreadsheet"
   ]
  },
  {
   "cell_type": "code",
   "execution_count": 2,
   "metadata": {},
   "outputs": [
    {
     "name": "stdout",
     "output_type": "stream",
     "text": [
      "Provided 5DOF position in real space: \n",
      "         X    Y    Z  Rx  Ry\n",
      "Name                       \n",
      "NaN   NaN  NaN  NaN NaN NaN\n",
      "NaN   NaN  NaN  NaN NaN NaN\n",
      "NaN   NaN  NaN  NaN NaN NaN\n",
      "NaN   NaN  NaN  NaN NaN NaN\n",
      "NaN   NaN  NaN  NaN NaN NaN \n",
      "\n",
      "Provided 5DOF encoder values: \n",
      "                 X         Y         Z        Rx         Ry\n",
      "Name.1                                                    \n",
      "PR1       2.08241  -0.49623   0.75233 -0.076167  -0.006431\n",
      "PR2    -108.30543 -47.63707  23.28538 -5.007865  10.641120\n",
      "PR3     112.36741 -46.97690  23.34721 -4.976094 -10.638288\n",
      "PR4     104.07263  58.08941  32.06823  5.193664 -10.358826\n",
      "PR5    -100.30059  57.54782  31.83018  5.171731  10.361665\n"
     ]
    }
   ],
   "source": [
    "#fname = 'files/Cal5DoF05222023-post FDPR V3.xlsx'\n",
    "sheetname = 'Input for Tyler analysis'\n",
    "fname = 'files/5DoF inputs - BA4C4.xlsx'\n",
    "\n",
    "output_filename = 'Poses - BA4C8 FDPR update from BA4C4 - Evan.xlsx'\n",
    "\n",
    "spreadsheet = pd.read_excel(fname,\n",
    "                            sheet_name=sheetname,skiprows=1,usecols='B:N')\n",
    "\n",
    "focal_length = spreadsheet.iloc[0][0]-110 # focal length is track length -110mm, per TG\n",
    "sMPA_to_WCS = spreadsheet.iloc[3,:3].astype(float)\n",
    "sMPA_angle_to_WCS_deg = spreadsheet.iloc[6,:3].astype(float)\n",
    "GSA_angle_WCS_deg = spreadsheet.iloc[7][0]\n",
    "sMask=np.array(spreadsheet.iloc[10,1:4]).astype(float)\n",
    "\n",
    "spreadsheet = pd.read_excel(fname,\n",
    "                            sheet_name=sheetname,skiprows=15,usecols='B:N')\n",
    "pose_actual = spreadsheet.iloc[0:5,0:6]\n",
    "pose_actual = pose_actual.set_index('Name').sort_index()\n",
    "pose_actual.columns = ['X','Y','Z','Rx','Ry']\n",
    "X_5DOF,Y_5DOF,Z_5DOF,rx_deg_5DOF,ry_deg_5DOF = [[*pose_actual['X'].values.astype(float)],[*pose_actual['Y'].values.astype(float)],[*pose_actual['Z'].values.astype(float)],\n",
    "                                                [*pose_actual['Rx'].values.astype(float)],[*pose_actual['Ry'].values.astype(float)]]\n",
    "pose_encoders = spreadsheet.iloc[0:5,7:13]\n",
    "pose_encoders = pose_encoders.set_index('Name.1').sort_index()\n",
    "\n",
    "print('Provided 5DOF position in real space: \\n',pose_actual,'\\n')\n",
    "print('Provided 5DOF encoder values: \\n',pose_encoders)\n"
   ]
  },
  {
   "cell_type": "markdown",
   "metadata": {},
   "source": [
    "### 0.1.1 If both the pose_actual and pose_encoder arrays are provided in the spreadsheet above, convert between the two to make sure they both agree. "
   ]
  },
  {
   "cell_type": "code",
   "execution_count": 3,
   "metadata": {},
   "outputs": [],
   "source": [
    "#No point doing the following if one or the other array is completely empty\n",
    "if (not any(np.isfinite(pose_encoders.values.astype(float)).ravel())) and (not any(np.isfinite(pose_actual.values.astype(float)).ravel())):\n",
    "\n",
    "    print('(Calculated 5DOF position) - (Actual 5DOF position (from the spreadsheet)): ')\n",
    "    calculated_pose_actual = pd.DataFrame(columns=pose_actual.columns)\n",
    "    for index in [val for val in pose_actual.index if ('PR' in val) or ('PD' in val)]:\n",
    "        calculated_pose_actual = pd.concat((calculated_pose_actual,calculate_5DOF_from_encoders(pd.DataFrame(pose_encoders.loc[index]).T)))\n",
    "    print(calculated_pose_actual-pose_actual,'\\n\\n')\n",
    "    \n",
    "    print('(Calculated 5DOF encoders) - (Actual 5DOF encoders (from the spreadsheet)): ')\n",
    "    calculated_pose_encoders = pd.DataFrame(columns=pose_encoders.columns)\n",
    "    for index in [val for val in pose_encoders.index if ('PR' in val) or ('PD' in val)]:\n",
    "        calculated_pose_encoders = pd.concat((calculated_pose_encoders,calculate_encoders_from_5DOF(pd.DataFrame(pose_actual.loc[index]).T)))\n",
    "    print(calculated_pose_encoders-pose_encoders)"
   ]
  },
  {
   "cell_type": "markdown",
   "metadata": {},
   "source": [
    "### 0.2 If the \"pose_actual\" section of the supplied spreadsheet was empty, build a new \"pose_actual\" array based on the input \"pose_encoder\" array."
   ]
  },
  {
   "cell_type": "code",
   "execution_count": 4,
   "metadata": {},
   "outputs": [
    {
     "name": "stdout",
     "output_type": "stream",
     "text": [
      "NEWLY calculated 5DOF position in real space based on recorded 5DOF encoder values: \n",
      "               X          Y          Z        Rx         Ry\n",
      "PR1    2.104620  -0.533294   0.766874 -0.076922  -0.008507\n",
      "PR2 -108.402137 -47.576225  23.393942 -5.007800  10.642134\n",
      "PR3  112.414290 -47.270689  23.243794 -4.977458 -10.638489\n",
      "PR4  104.264959  57.861268  31.875419  5.188853 -10.361210\n",
      "PR5 -100.243632  57.672157  31.838508  5.172348  10.360847\n"
     ]
    }
   ],
   "source": [
    "if not any(np.isfinite(pose_actual.values.astype(float)).ravel()):\n",
    "    pose_actual = convert_pose_encoders_to_pose_actual(pose_encoders)\n",
    "    print('NEWLY calculated 5DOF position in real space based on recorded 5DOF encoder values: \\n',pose_actual)"
   ]
  },
  {
   "cell_type": "markdown",
   "metadata": {},
   "source": [
    "### 0.3 Form a dataframe with the values supplied so far"
   ]
  },
  {
   "cell_type": "code",
   "execution_count": 5,
   "metadata": {},
   "outputs": [
    {
     "data": {
      "text/html": [
       "<div>\n",
       "<style scoped>\n",
       "    .dataframe tbody tr th:only-of-type {\n",
       "        vertical-align: middle;\n",
       "    }\n",
       "\n",
       "    .dataframe tbody tr th {\n",
       "        vertical-align: top;\n",
       "    }\n",
       "\n",
       "    .dataframe thead th {\n",
       "        text-align: right;\n",
       "    }\n",
       "</style>\n",
       "<table border=\"1\" class=\"dataframe\">\n",
       "  <thead>\n",
       "    <tr style=\"text-align: right;\">\n",
       "      <th></th>\n",
       "      <th>X</th>\n",
       "      <th>Y</th>\n",
       "      <th>Z</th>\n",
       "      <th>Rx</th>\n",
       "      <th>Ry</th>\n",
       "      <th>color</th>\n",
       "      <th>Rz</th>\n",
       "      <th>uvec_X</th>\n",
       "      <th>uvec_Y</th>\n",
       "      <th>uvec_Z</th>\n",
       "    </tr>\n",
       "  </thead>\n",
       "  <tbody>\n",
       "    <tr>\n",
       "      <th>PR1</th>\n",
       "      <td>2.104620</td>\n",
       "      <td>-0.533294</td>\n",
       "      <td>0.766874</td>\n",
       "      <td>-0.076922</td>\n",
       "      <td>-0.008507</td>\n",
       "      <td>crimson</td>\n",
       "      <td>NaN</td>\n",
       "      <td>-0.191849</td>\n",
       "      <td>250.541547</td>\n",
       "      <td>1267.600388</td>\n",
       "    </tr>\n",
       "    <tr>\n",
       "      <th>PR2</th>\n",
       "      <td>-108.402137</td>\n",
       "      <td>-47.576225</td>\n",
       "      <td>23.393942</td>\n",
       "      <td>-5.007800</td>\n",
       "      <td>10.642134</td>\n",
       "      <td>crimson</td>\n",
       "      <td>NaN</td>\n",
       "      <td>238.621698</td>\n",
       "      <td>352.402020</td>\n",
       "      <td>1220.022274</td>\n",
       "    </tr>\n",
       "    <tr>\n",
       "      <th>PR3</th>\n",
       "      <td>112.414290</td>\n",
       "      <td>-47.270689</td>\n",
       "      <td>23.243794</td>\n",
       "      <td>-4.977458</td>\n",
       "      <td>-10.638489</td>\n",
       "      <td>crimson</td>\n",
       "      <td>NaN</td>\n",
       "      <td>-238.540908</td>\n",
       "      <td>351.760084</td>\n",
       "      <td>1220.223310</td>\n",
       "    </tr>\n",
       "    <tr>\n",
       "      <th>PR4</th>\n",
       "      <td>104.264959</td>\n",
       "      <td>57.861268</td>\n",
       "      <td>31.875419</td>\n",
       "      <td>5.188853</td>\n",
       "      <td>-10.361210</td>\n",
       "      <td>crimson</td>\n",
       "      <td>NaN</td>\n",
       "      <td>-232.392471</td>\n",
       "      <td>130.977964</td>\n",
       "      <td>1264.286502</td>\n",
       "    </tr>\n",
       "    <tr>\n",
       "      <th>PR5</th>\n",
       "      <td>-100.243632</td>\n",
       "      <td>57.672157</td>\n",
       "      <td>31.838508</td>\n",
       "      <td>5.172348</td>\n",
       "      <td>10.360847</td>\n",
       "      <td>crimson</td>\n",
       "      <td>NaN</td>\n",
       "      <td>232.384416</td>\n",
       "      <td>131.342301</td>\n",
       "      <td>1264.250185</td>\n",
       "    </tr>\n",
       "    <tr>\n",
       "      <th>sMask</th>\n",
       "      <td>1.995000</td>\n",
       "      <td>115.232021</td>\n",
       "      <td>588.279458</td>\n",
       "      <td>NaN</td>\n",
       "      <td>NaN</td>\n",
       "      <td>g</td>\n",
       "      <td>NaN</td>\n",
       "      <td>NaN</td>\n",
       "      <td>NaN</td>\n",
       "      <td>NaN</td>\n",
       "    </tr>\n",
       "    <tr>\n",
       "      <th>sMPA</th>\n",
       "      <td>2.040000</td>\n",
       "      <td>248.465000</td>\n",
       "      <td>1268.826000</td>\n",
       "      <td>-24.297100</td>\n",
       "      <td>0.007400</td>\n",
       "      <td>purple</td>\n",
       "      <td>0.0746</td>\n",
       "      <td>0.000129</td>\n",
       "      <td>0.411468</td>\n",
       "      <td>0.911424</td>\n",
       "    </tr>\n",
       "  </tbody>\n",
       "</table>\n",
       "</div>"
      ],
      "text/plain": [
       "                X           Y            Z  ...      uvec_X      uvec_Y       uvec_Z\n",
       "PR1      2.104620   -0.533294     0.766874  ...   -0.191849  250.541547  1267.600388\n",
       "PR2   -108.402137  -47.576225    23.393942  ...  238.621698  352.402020  1220.022274\n",
       "PR3    112.414290  -47.270689    23.243794  ... -238.540908  351.760084  1220.223310\n",
       "PR4    104.264959   57.861268    31.875419  ... -232.392471  130.977964  1264.286502\n",
       "PR5   -100.243632   57.672157    31.838508  ...  232.384416  131.342301  1264.250185\n",
       "sMask    1.995000  115.232021   588.279458  ...         NaN         NaN          NaN\n",
       "sMPA     2.040000  248.465000  1268.826000  ...    0.000129    0.411468     0.911424\n",
       "\n",
       "[7 rows x 10 columns]"
      ]
     },
     "execution_count": 5,
     "metadata": {},
     "output_type": "execute_result"
    }
   ],
   "source": [
    "#Generate a dataframe where we will store some parameters for each pose\n",
    "columns = ['X','Y','Z','Rx','Ry']\n",
    "df = pose_actual\n",
    "df['color']='crimson'\n",
    "\n",
    "gsa_rot = R.from_euler('x',GSA_angle_WCS_deg, degrees=True)\n",
    "df.loc['sMask',['X','Y','Z']] = gsa_rot.apply(sMask)\n",
    "df.loc['sMask','color'] = 'g'\n",
    "\n",
    "df.loc['sMPA',['X','Y','Z']] = sMPA_to_WCS.values.astype(float)\n",
    "df.loc['sMPA',['Rx','Ry','Rz']] = sMPA_angle_to_WCS_deg.values.astype(float)\n",
    "df.loc['sMPA','color']='purple'\n",
    "\n",
    "for pose in df.index:\n",
    "    update_uvec(df,pose,length=focal_length,rotangle=GSA_angle_WCS_deg)\n",
    "    if 'PDI' in pose:\n",
    "        df.loc[pose,'color'] = 'yellow'\n",
    "\n",
    "# create normal vector to sMPA\n",
    "vec = np.array([0,0,1])\n",
    "rotmat = R.from_euler('XYZ',sMPA_angle_to_WCS_deg, degrees=True)\n",
    "df.loc['sMPA',['uvec_X','uvec_Y','uvec_Z']] = rotmat.apply(vec)\n",
    "\n",
    "#ax = plot_poses(df)\n",
    "#plot_sMPA(df, ax)\n",
    "df"
   ]
  },
  {
   "cell_type": "markdown",
   "metadata": {},
   "source": [
    "# 1 Updating poses based on results from FDPR"
   ]
  },
  {
   "cell_type": "markdown",
   "metadata": {},
   "source": [
    "### 1.1 Reading in offset data from the FDPR team's spreadsheet."
   ]
  },
  {
   "cell_type": "code",
   "execution_count": 6,
   "metadata": {},
   "outputs": [
    {
     "name": "stdout",
     "output_type": "stream",
     "text": [
      "        det normal dz (um)  chief ray dz (um)    row  ...  dy (px)  dx (um)  dy (um)\n",
      "camera                                                ...                           \n",
      "PR1                    -87                -89  261.2  ...     -5.2      -51      -52\n",
      "PR3                   -250               -258  260.0  ...     -4.0     -149      -40\n",
      "PR4                    -13                -14  264.9  ...     -8.9      -71      -89\n",
      "PR5                    -19                -21  268.3  ...    -12.3      -81     -123\n",
      "PR2                   -137               -141  252.1  ...      3.9     -122       39\n",
      "\n",
      "[5 rows x 8 columns]\n"
     ]
    }
   ],
   "source": [
    "#These data will be used to update the position of the calculated endpoints in the sMPA frame\n",
    "shift_data = pd.read_excel('files/FDPR shifts - sandbox.xlsx',sheet_name='PSF Shifts',skiprows=0,usecols='C:K')\n",
    "shift_data = shift_data.iloc[0:6]\n",
    "shift_data.set_index('camera',inplace=True)\n",
    "print(shift_data)"
   ]
  },
  {
   "cell_type": "markdown",
   "metadata": {},
   "source": [
    "#### 1.1.1 Calculate some transformation variables necessary for converting between the 5DOF and sMPA frame"
   ]
  },
  {
   "cell_type": "code",
   "execution_count": 7,
   "metadata": {},
   "outputs": [],
   "source": [
    "translation_to_sMPA = df.loc['sMPA',['X','Y','Z']]\n",
    "rotation_from_sMPA_to_5DOF = R.from_matrix(rotmat_from_2vec(np.array([0,0,1]),df.loc['sMPA',['uvec_X','uvec_Y','uvec_Z']].values.astype(float)))"
   ]
  },
  {
   "cell_type": "markdown",
   "metadata": {},
   "source": [
    "## Scratch"
   ]
  },
  {
   "cell_type": "markdown",
   "metadata": {},
   "source": [
    "### 1.2 Calculate the new best-fit poses that minimize the deltas observed by the FDPR team (with 5DOF optimization)"
   ]
  },
  {
   "cell_type": "code",
   "execution_count": 8,
   "metadata": {},
   "outputs": [
    {
     "name": "stdout",
     "output_type": "stream",
     "text": [
      "Residuals (in sMPA frame) baseline: \n",
      "       endpt_X   endpt_Y   endpt_Z\n",
      "PR1  0.050919  0.064709  0.065881\n",
      "PR2  0.148090  0.003048  0.149100\n",
      "PR3  0.101318  0.106862  0.227088\n",
      "PR4  0.068366  0.082616 -0.022969\n",
      "PR5  0.084617  0.114332 -0.030116 \n",
      "\n",
      "Best-fit (X,Y,Z,Rx,Ry) deltas to apply to real-space poses: \n",
      " [-0.0523  1.1834 -0.1381  0.0509  0.0064] \n",
      "\n",
      "Residuals (in sMPA frame) after incorporating the best-fit (x,y,z,Rx,Ry) shift to all poses: \n",
      "      endpt_X  endpt_Y  endpt_Z\n",
      "PR1   -0.042    0.008   -0.018\n",
      "PR2    0.058   -0.088    0.000\n",
      "PR3    0.011    0.001    0.027\n",
      "PR4   -0.022    0.021   -0.027\n",
      "PR5   -0.006    0.058    0.018 \n",
      "\n",
      "endpt_X    0.033868\n",
      "endpt_Y    0.048142\n",
      "endpt_Z    0.020501\n",
      "dtype: float64\n"
     ]
    }
   ],
   "source": [
    "df_after_fitting_FDPR_shifts,endpoints_residuals_sMPA,best_fit_deltas = pose_update_with_FDPR_results(df,shift_data,focal_length,GSA_angle_WCS_deg,translation_to_sMPA,rotation_from_sMPA_to_5DOF)\n",
    "print(np.std(endpoints_residuals_sMPA))"
   ]
  },
  {
   "cell_type": "markdown",
   "metadata": {},
   "source": [
    "### 1.2 (alternate) Calculate the new best-fit poses that minimize the deltas observed by the FDPR team (with 6DOF optimization)"
   ]
  },
  {
   "cell_type": "code",
   "execution_count": 9,
   "metadata": {},
   "outputs": [
    {
     "name": "stdout",
     "output_type": "stream",
     "text": [
      "Residuals baseline: \n",
      "       endpt_X   endpt_Y   endpt_Z\n",
      "PR1  0.050919  0.064709  0.065881\n",
      "PR2  0.148090  0.003048  0.149100\n",
      "PR3  0.101318  0.106862  0.227088\n",
      "PR4  0.068366  0.082616 -0.022969\n",
      "PR5  0.084617  0.114332 -0.030116 \n",
      "\n",
      "Best-fit 6DoF deltas to apply to real-space poses: \n",
      " [-0.0522  1.1835 -0.1381  0.0509  0.0055 -0.005 ] \n",
      "\n",
      "Residuals after incorporating the best-fit 6DoF shift to all poses: \n",
      "      endpt_X  endpt_Y  endpt_Z\n",
      "PR1   -0.042    0.008   -0.018\n",
      "PR2    0.048   -0.068   -0.004\n",
      "PR3    0.002   -0.019    0.031\n",
      "PR4   -0.012    0.001   -0.023\n",
      "PR5    0.004    0.078    0.014 \n",
      "\n",
      "endpt_X    0.029219\n",
      "endpt_Y    0.047148\n",
      "endpt_Z    0.020124\n",
      "dtype: float64\n"
     ]
    }
   ],
   "source": [
    "df_after_fitting_FDPR_shifts,endpoints_residuals_sMPA,best_fit_deltas = pose_update_with_FDPR_results_v2(df,shift_data,focal_length,GSA_angle_WCS_deg,translation_to_sMPA,rotation_from_sMPA_to_5DOF)\n",
    "print(np.std(endpoints_residuals_sMPA))"
   ]
  },
  {
   "cell_type": "markdown",
   "metadata": {},
   "source": [
    "### 1.3 Convert new best-fit poses to encoder space"
   ]
  },
  {
   "cell_type": "code",
   "execution_count": 10,
   "metadata": {},
   "outputs": [
    {
     "name": "stdout",
     "output_type": "stream",
     "text": [
      "New pose encoders, after incorporating the best-fit (x,y,z,Rx,Ry) shift to all poses: \n",
      "               X          Y          Z        Rx         Ry\n",
      "PR1    2.028079   0.683438   0.617852 -0.025234    0.00001\n",
      "PR2 -108.359271 -46.455617  23.148959 -4.955955  10.647996\n",
      "PR3  112.312465   -45.7896  23.208192 -4.925982 -10.631409\n",
      "PR4  104.018414  59.264746  31.937823  5.243735 -10.352819\n",
      "PR5 -100.353748  58.717858  31.702055   5.22361  10.367667 \n",
      "\n",
      "Baseline pose encoders (displayed again here just for reference): \n",
      "                 X         Y         Z        Rx         Ry\n",
      "Name.1                                                    \n",
      "PR1       2.08241  -0.49623   0.75233 -0.076167  -0.006431\n",
      "PR2    -108.30543 -47.63707  23.28538 -5.007865  10.641120\n",
      "PR3     112.36741 -46.97690  23.34721 -4.976094 -10.638288\n",
      "PR4     104.07263  58.08941  32.06823  5.193664 -10.358826\n",
      "PR5    -100.30059  57.54782  31.83018  5.171731  10.361665\n"
     ]
    }
   ],
   "source": [
    "df_after_fitting_FDPR_shifts_in_encoder_space = pd.DataFrame(columns=['X','Y','Z','Rx','Ry'],index=df_after_fitting_FDPR_shifts.index)\n",
    "for pose in [val for val in pose_encoders.index if ('PR' in val) or ('PD' in val)]:\n",
    "    df_after_fitting_FDPR_shifts_in_encoder_space.loc[pose] = calculate_encoders_from_5DOF(pd.DataFrame(df_after_fitting_FDPR_shifts.loc[pose]).T).squeeze()\n",
    "\n",
    "print('New pose encoders, after incorporating the best-fit (x,y,z,Rx,Ry) shift to all poses: \\n',df_after_fitting_FDPR_shifts_in_encoder_space,'\\n')\n",
    "print('Baseline pose encoders (displayed again here just for reference): \\n', pose_encoders)"
   ]
  },
  {
   "cell_type": "markdown",
   "metadata": {},
   "source": [
    "# 2 Write the new poses to an Excel file in the current directory"
   ]
  },
  {
   "cell_type": "code",
   "execution_count": 11,
   "metadata": {},
   "outputs": [
    {
     "name": "stdout",
     "output_type": "stream",
     "text": [
      "**Writing to Excel complete.**\n",
      "**Filename:  Poses - BA4C8 FDPR update from BA4C4 - Evan.xlsx\n"
     ]
    }
   ],
   "source": [
    "write_to_excel = True\n",
    "\n",
    "if write_to_excel == True:\n",
    "    write_new_poses_to_Excel(output_filename,'',update_type='FDPR',baseline_filepath=fname,\n",
    "                             columns=columns,GSA_angle_WCS_deg=GSA_angle_WCS_deg,rigid_body_correction=best_fit_deltas,\n",
    "                             df=df,df_encoders=pose_encoders,df_update=df_after_fitting_FDPR_shifts,df_update_encoders=df_after_fitting_FDPR_shifts_in_encoder_space,\n",
    "                            focal_length=focal_length)"
   ]
  }
 ],
 "metadata": {
  "kernelspec": {
   "display_name": "Python 3 (Spyder)",
   "language": "python3",
   "name": "python3"
  },
  "language_info": {
   "codemirror_mode": {
    "name": "ipython",
    "version": 3
   },
   "file_extension": ".py",
   "mimetype": "text/x-python",
   "name": "python",
   "nbconvert_exporter": "python",
   "pygments_lexer": "ipython3",
   "version": "3.11.0"
  }
 },
 "nbformat": 4,
 "nbformat_minor": 4
}
