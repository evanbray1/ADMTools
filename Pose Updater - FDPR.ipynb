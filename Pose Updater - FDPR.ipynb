{
 "cells": [
  {
   "cell_type": "markdown",
   "metadata": {},
   "source": [
    "# Questions to ask before you start:\n",
    "\n",
    "1. Do you have a file of the input poses ready? Does it contain the table of encoder info on the bottom right, and groundskeeping data in the top left?\n",
    "\n",
    "## Did the script fail or give an error?\n",
    "#### The most common cause of errors is if one of the input files is not formatted properly. \n",
    "1. The first thing I would check is the input pose spreadsheet. \n",
    " * If that spreadsheet was created by a human and not this program, there's a chance it was formatted incorrectly and you'll have to do some copy/pasting into the \"Poses - template.xlsx\" file.\n",
    "2. The second thing I would check is the \"FDPR Shifts\" file\n",
    " * I find the easiest way to proceed is to copy/paste the relevant lines from the spreadsheet that the FDPR guys provide into the template file. Remember that only the columns in yellow are the mandatory ones."
   ]
  },
  {
   "cell_type": "markdown",
   "metadata": {},
   "source": [
    "## 0 Parameter definitions"
   ]
  },
  {
   "cell_type": "markdown",
   "metadata": {},
   "source": [
    "### 0.0.1 Parameters you'll need to tweak"
   ]
  },
  {
   "cell_type": "code",
   "execution_count": 1,
   "metadata": {},
   "outputs": [],
   "source": [
    "baseline_fname = 'files/Poses - Ti3C2.xlsx' #What is the name of the input file? Don't forget to add \"files/\" if it's located in that subdirectory\n",
    "#baseline_fname = 'files/Poses - Practice Input.xlsx'\n",
    "#Name of the tab in the excel file that contains the data for your baseline poses. \n",
    "#If you're using a spreadsheet that was generated using this code, you'll want to set sheetname='update'. \n",
    "#If you're using a spreadsheet that came from Manal, chances are the tab is named 'input for Tyler analysis' or something\n",
    "#sheetname = 'update'\n",
    "sheetname = 'Input for Tyler analysis'\n",
    "\n",
    "#What do you want to name the output file?\n",
    "#NOTE, the output spreadsheet from this code should not be used as an input for 'Pose Updater - FDPR.ipynb'.\n",
    "output_filename = 'Poses - Ti3C4 FDPR update from Ti3C2 - Evan (using Ti2C4 CS).xlsx' #What do you want to name the output file? \n",
    "#Remember the desired format is \"Poses - [name of new circuit, i.e. BA2C3] FDPR update from [name of baseline circuit, i.e. BA2C1] - [Your name].xlsx\"\n",
    "\n",
    "psf_shift_filename = 'files/FDPR shifts - template.xlsx' #File that contains the PSF shift data\n",
    "psf_shift_sheetname= 'PSF Shifts' #Name of the sheet within the file that cotains the sheetname"
   ]
  },
  {
   "cell_type": "markdown",
   "metadata": {},
   "source": [
    "---\n",
    "# Below here be math\n",
    "---\n",
    "### 0.1 Ingesting values from the template"
   ]
  },
  {
   "cell_type": "code",
   "execution_count": 2,
   "metadata": {
    "scrolled": true
   },
   "outputs": [
    {
     "name": "stdout",
     "output_type": "stream",
     "text": [
      "Warning: Cannot change to a different GUI toolkit: notebook. Using qt5 instead.\n"
     ]
    }
   ],
   "source": [
    "%matplotlib notebook\n",
    "import os\n",
    "from adm_library import *"
   ]
  },
  {
   "cell_type": "code",
   "execution_count": 3,
   "metadata": {},
   "outputs": [
    {
     "name": "stdout",
     "output_type": "stream",
     "text": [
      "Provided 5DOF position in real space: \n",
      "                X          Y          Z        Rx         Ry\n",
      "Name                                                       \n",
      "PR1     1.869926   0.764908   -1.35749 -0.014651  -0.001067\n",
      "PR2  -108.595236 -46.362016   21.31767 -4.955662  10.644926\n",
      "PR3   112.219736  -45.87364  21.148457 -4.905343 -10.635672\n",
      "PR4   103.984369  59.272367  29.696095  5.260949 -10.348827\n",
      "PR5   -100.52305  58.913878  29.676813  5.224617  10.373217 \n",
      "\n",
      "Provided 5DOF encoder values: \n",
      "                X          Y          Z        Rx         Ry\n",
      "Name                                                       \n",
      "PR1     1.844062   0.764665  -1.341346 -0.013911   0.001013\n",
      "PR2  -108.490764 -46.501289  21.258673 -4.955670  10.643931\n",
      "PR3   112.168229 -45.612113  21.280249 -4.903874 -10.635438\n",
      "PR4   103.785736  59.473408  29.917617  5.265812 -10.346407\n",
      "PR5  -100.574441  58.718602  29.717377  5.224018  10.374052\n"
     ]
    },
    {
     "name": "stderr",
     "output_type": "stream",
     "text": [
      "C:\\Users\\ebray\\AppData\\Local\\Temp\\ipykernel_13316\\2326644015.py:11: FutureWarning: Defining usecols with out of bounds indices is deprecated and will raise a ParserError in a future version.\n",
      "  spreadsheet = pd.read_excel(baseline_fname,\n"
     ]
    }
   ],
   "source": [
    "spreadsheet = pd.read_excel(baseline_fname,\n",
    "                            sheet_name=sheetname,skiprows=1,usecols='B:N')\n",
    "\n",
    "focal_length = spreadsheet.iloc[0][0]-110 # focal length is track length -110mm, per TG\n",
    "sMPA_to_WCS = spreadsheet.iloc[3,:3].astype(float)\n",
    "sMPA_angle_to_WCS_deg = spreadsheet.iloc[6,:3].astype(float)\n",
    "sMPA_angle_to_WCS_deg.name = 'sMPA XYZ Euler angle to WCS'\n",
    "GSA_angle_WCS_deg = spreadsheet.iloc[7][0]\n",
    "sMask=np.array(spreadsheet.iloc[10,1:4]).astype(float)\n",
    "\n",
    "spreadsheet = pd.read_excel(baseline_fname,\n",
    "                            sheet_name=sheetname,skiprows=15,usecols='B:S')\n",
    "pose_actual = spreadsheet.iloc[0:5,0:6]\n",
    "pose_actual = pose_actual.set_index('Name').sort_index()\n",
    "pose_actual.columns = ['X','Y','Z','Rx','Ry']\n",
    "X_5DOF,Y_5DOF,Z_5DOF,rx_deg_5DOF,ry_deg_5DOF = [[*pose_actual['X'].values.astype(float)],[*pose_actual['Y'].values.astype(float)],[*pose_actual['Z'].values.astype(float)],\n",
    "                                                [*pose_actual['Rx'].values.astype(float)],[*pose_actual['Ry'].values.astype(float)]]\n",
    "\n",
    "#Depending on the origin of the input spreadsheet, the desired encoder values are in a different place.\n",
    "if sheetname == 'Input for Tyler analysis':\n",
    "    pose_encoders = spreadsheet.iloc[0:5,7:13]\n",
    "elif sheetname == 'update':\n",
    "    pose_encoders = spreadsheet.iloc[0:5,12:18]\n",
    "    \n",
    "#Rename the columns because by default, each column header got a \".1\" added to the end\n",
    "#new_columns=[]\n",
    "#for column in pose_encoders.columns:\n",
    "#    new_columns.append(column[:-2])\n",
    "#pose_encoders.columns = new_columns\n",
    "pose_encoders.rename(columns={'Name.1':'Name'},inplace=True)\n",
    "pose_encoders = pose_encoders.set_index('Name').sort_index()\n",
    "\n",
    "print('Provided 5DOF position in real space: \\n',pose_actual,'\\n')\n",
    "print('Provided 5DOF encoder values: \\n',pose_encoders)\n"
   ]
  },
  {
   "cell_type": "markdown",
   "metadata": {},
   "source": [
    "### 0.1.1 If both the pose_actual and pose_encoder arrays are provided in the spreadsheet above, convert between the two to make sure they both agree. "
   ]
  },
  {
   "cell_type": "code",
   "execution_count": 4,
   "metadata": {},
   "outputs": [],
   "source": [
    "#No point doing the following if one or the other array is completely empty\n",
    "if (not any(np.isfinite(pose_encoders.values.astype(float)).ravel())) and (not any(np.isfinite(pose_actual.values.astype(float)).ravel())):\n",
    "\n",
    "    print('(Calculated 5DOF position) - (Actual 5DOF position (from the spreadsheet)): ')\n",
    "    calculated_pose_actual = pd.DataFrame(columns=pose_actual.columns)\n",
    "    for index in [val for val in pose_actual.index if ('PR' in val) or ('PD' in val)]:\n",
    "        calculated_pose_actual = pd.concat((calculated_pose_actual,calculate_5DOF_from_encoders(pd.DataFrame(pose_encoders.loc[index]).T)))\n",
    "    print(calculated_pose_actual-pose_actual,'\\n\\n')\n",
    "    \n",
    "    print('(Calculated 5DOF encoders) - (Actual 5DOF encoders (from the spreadsheet)): ')\n",
    "    calculated_pose_encoders = pd.DataFrame(columns=pose_encoders.columns)\n",
    "    for index in [val for val in pose_encoders.index if ('PR' in val) or ('PD' in val)]:\n",
    "        calculated_pose_encoders = pd.concat((calculated_pose_encoders,calculate_encoders_from_5DOF(pd.DataFrame(pose_actual.loc[index]).T)))\n",
    "    print(calculated_pose_encoders-pose_encoders)"
   ]
  },
  {
   "cell_type": "markdown",
   "metadata": {},
   "source": [
    "### 0.2 If the \"pose_actual\" section of the supplied spreadsheet was empty, build a new \"pose_actual\" array based on the input \"pose_encoder\" array."
   ]
  },
  {
   "cell_type": "code",
   "execution_count": 5,
   "metadata": {},
   "outputs": [],
   "source": [
    "if not any(np.isfinite(pose_actual.values.astype(float)).ravel()):\n",
    "    pose_actual = convert_pose_encoders_to_pose_actual(pose_encoders)\n",
    "    print('NEWLY calculated 5DOF position in real space based on recorded 5DOF encoder values: \\n',pose_actual)"
   ]
  },
  {
   "cell_type": "markdown",
   "metadata": {},
   "source": [
    "### 0.3 Form a dataframe with the values supplied so far"
   ]
  },
  {
   "cell_type": "code",
   "execution_count": 6,
   "metadata": {},
   "outputs": [
    {
     "data": {
      "text/html": [
       "<div>\n",
       "<style scoped>\n",
       "    .dataframe tbody tr th:only-of-type {\n",
       "        vertical-align: middle;\n",
       "    }\n",
       "\n",
       "    .dataframe tbody tr th {\n",
       "        vertical-align: top;\n",
       "    }\n",
       "\n",
       "    .dataframe thead th {\n",
       "        text-align: right;\n",
       "    }\n",
       "</style>\n",
       "<table border=\"1\" class=\"dataframe\">\n",
       "  <thead>\n",
       "    <tr style=\"text-align: right;\">\n",
       "      <th></th>\n",
       "      <th>X</th>\n",
       "      <th>Y</th>\n",
       "      <th>Z</th>\n",
       "      <th>Rx</th>\n",
       "      <th>Ry</th>\n",
       "      <th>color</th>\n",
       "      <th>Rz</th>\n",
       "      <th>uvec_X</th>\n",
       "      <th>uvec_Y</th>\n",
       "      <th>uvec_Z</th>\n",
       "    </tr>\n",
       "    <tr>\n",
       "      <th>Name</th>\n",
       "      <th></th>\n",
       "      <th></th>\n",
       "      <th></th>\n",
       "      <th></th>\n",
       "      <th></th>\n",
       "      <th></th>\n",
       "      <th></th>\n",
       "      <th></th>\n",
       "      <th></th>\n",
       "      <th></th>\n",
       "    </tr>\n",
       "  </thead>\n",
       "  <tbody>\n",
       "    <tr>\n",
       "      <th>PR1</th>\n",
       "      <td>1.869926</td>\n",
       "      <td>0.764908</td>\n",
       "      <td>-1.35749</td>\n",
       "      <td>-0.014651</td>\n",
       "      <td>-0.001067</td>\n",
       "      <td>crimson</td>\n",
       "      <td>NaN</td>\n",
       "      <td>-0.024064</td>\n",
       "      <td>249.163723</td>\n",
       "      <td>1267.871952</td>\n",
       "    </tr>\n",
       "    <tr>\n",
       "      <th>PR2</th>\n",
       "      <td>-108.595236</td>\n",
       "      <td>-46.362016</td>\n",
       "      <td>21.31767</td>\n",
       "      <td>-4.955662</td>\n",
       "      <td>10.644926</td>\n",
       "      <td>crimson</td>\n",
       "      <td>NaN</td>\n",
       "      <td>238.683563</td>\n",
       "      <td>351.288464</td>\n",
       "      <td>1220.331274</td>\n",
       "    </tr>\n",
       "    <tr>\n",
       "      <th>PR3</th>\n",
       "      <td>112.219736</td>\n",
       "      <td>-45.87364</td>\n",
       "      <td>21.148457</td>\n",
       "      <td>-4.905343</td>\n",
       "      <td>-10.635672</td>\n",
       "      <td>crimson</td>\n",
       "      <td>NaN</td>\n",
       "      <td>-238.478458</td>\n",
       "      <td>350.227214</td>\n",
       "      <td>1220.676358</td>\n",
       "    </tr>\n",
       "    <tr>\n",
       "      <th>PR4</th>\n",
       "      <td>103.984369</td>\n",
       "      <td>59.272367</td>\n",
       "      <td>29.696095</td>\n",
       "      <td>5.260949</td>\n",
       "      <td>-10.348827</td>\n",
       "      <td>crimson</td>\n",
       "      <td>NaN</td>\n",
       "      <td>-232.117762</td>\n",
       "      <td>129.392102</td>\n",
       "      <td>1264.500247</td>\n",
       "    </tr>\n",
       "    <tr>\n",
       "      <th>PR5</th>\n",
       "      <td>-100.52305</td>\n",
       "      <td>58.913878</td>\n",
       "      <td>29.676813</td>\n",
       "      <td>5.224617</td>\n",
       "      <td>10.373217</td>\n",
       "      <td>crimson</td>\n",
       "      <td>NaN</td>\n",
       "      <td>232.658832</td>\n",
       "      <td>130.183779</td>\n",
       "      <td>1264.319540</td>\n",
       "    </tr>\n",
       "    <tr>\n",
       "      <th>sMask</th>\n",
       "      <td>1.969</td>\n",
       "      <td>115.323391</td>\n",
       "      <td>588.230954</td>\n",
       "      <td>NaN</td>\n",
       "      <td>NaN</td>\n",
       "      <td>g</td>\n",
       "      <td>NaN</td>\n",
       "      <td>NaN</td>\n",
       "      <td>NaN</td>\n",
       "      <td>NaN</td>\n",
       "    </tr>\n",
       "    <tr>\n",
       "      <th>sMPA</th>\n",
       "      <td>1.959</td>\n",
       "      <td>248.705</td>\n",
       "      <td>1268.749</td>\n",
       "      <td>-24.309600</td>\n",
       "      <td>-0.007600</td>\n",
       "      <td>purple</td>\n",
       "      <td>0.1189</td>\n",
       "      <td>-0.000133</td>\n",
       "      <td>0.411667</td>\n",
       "      <td>0.911334</td>\n",
       "    </tr>\n",
       "  </tbody>\n",
       "</table>\n",
       "</div>"
      ],
      "text/plain": [
       "                X           Y           Z  ...      uvec_X      uvec_Y       uvec_Z\n",
       "Name                                       ...                                     \n",
       "PR1      1.869926    0.764908    -1.35749  ...   -0.024064  249.163723  1267.871952\n",
       "PR2   -108.595236  -46.362016    21.31767  ...  238.683563  351.288464  1220.331274\n",
       "PR3    112.219736   -45.87364   21.148457  ... -238.478458  350.227214  1220.676358\n",
       "PR4    103.984369   59.272367   29.696095  ... -232.117762  129.392102  1264.500247\n",
       "PR5    -100.52305   58.913878   29.676813  ...  232.658832  130.183779  1264.319540\n",
       "sMask       1.969  115.323391  588.230954  ...         NaN         NaN          NaN\n",
       "sMPA        1.959     248.705    1268.749  ...   -0.000133    0.411667     0.911334\n",
       "\n",
       "[7 rows x 10 columns]"
      ]
     },
     "execution_count": 6,
     "metadata": {},
     "output_type": "execute_result"
    }
   ],
   "source": [
    "#Generate a dataframe where we will store some parameters for each pose\n",
    "columns = ['X','Y','Z','Rx','Ry']\n",
    "df = pose_actual\n",
    "df['color']='crimson'\n",
    "\n",
    "gsa_rot = R.from_euler('x',GSA_angle_WCS_deg, degrees=True)\n",
    "df.loc['sMask',['X','Y','Z']] = gsa_rot.apply(sMask)\n",
    "df.loc['sMask','color'] = 'g'\n",
    "\n",
    "df.loc['sMPA',['X','Y','Z']] = sMPA_to_WCS.values.astype(float)\n",
    "df.loc['sMPA',['Rx','Ry','Rz']] = sMPA_angle_to_WCS_deg.values.astype(float)\n",
    "df.loc['sMPA','color']='purple'\n",
    "\n",
    "for pose in df.index:\n",
    "    update_uvec(df,pose,length=focal_length,rotangle=GSA_angle_WCS_deg)\n",
    "    if 'PDI' in pose:\n",
    "        df.loc[pose,'color'] = 'yellow'\n",
    "\n",
    "# create normal vector to sMPA\n",
    "vec = np.array([0,0,1])\n",
    "rotmat = R.from_euler('XYZ',sMPA_angle_to_WCS_deg, degrees=True)\n",
    "df.loc['sMPA',['uvec_X','uvec_Y','uvec_Z']] = rotmat.apply(vec)\n",
    "\n",
    "#ax = plot_poses(df)\n",
    "#plot_sMPA(df, ax)\n",
    "df"
   ]
  },
  {
   "cell_type": "markdown",
   "metadata": {},
   "source": [
    "# 1 Updating poses based on results from FDPR"
   ]
  },
  {
   "cell_type": "markdown",
   "metadata": {},
   "source": [
    "### 1.1 Reading in offset data from the FDPR team's spreadsheet."
   ]
  },
  {
   "cell_type": "code",
   "execution_count": 7,
   "metadata": {},
   "outputs": [
    {
     "name": "stdout",
     "output_type": "stream",
     "text": [
      "       det normal dz (um)  chief ray dz (um)    row  ...  dx (um)  dy (um)    FAMX\n",
      "camera                                               ...                          \n",
      "PR1                   -70              -72.0  235.2  ...    233.0    208.0 -0.0001\n",
      "PR3                  -111             -114.0  229.1  ...    158.0    269.0 -0.0027\n",
      "PR4                   -13              -14.0  231.7  ...    200.0    243.0 -0.0023\n",
      "PR5                   -90              -96.0  236.0  ...    231.0    200.0  0.0001\n",
      "PR2                   -98             -101.0  226.4  ...    203.0    296.0  0.0026\n",
      "\n",
      "[5 rows x 9 columns]\n"
     ]
    }
   ],
   "source": [
    "#These data will be used to update the position of the calculated endpoints in the sMPA frame\n",
    "shift_data = pd.read_excel(psf_shift_filename,sheet_name=psf_shift_sheetname,skiprows=0,usecols='C:L')\n",
    "shift_data = shift_data.iloc[0:5]\n",
    "shift_data.set_index('camera',inplace=True)\n",
    "print(shift_data)"
   ]
  },
  {
   "cell_type": "markdown",
   "metadata": {},
   "source": [
    "#### 1.1.1 Calculate some transformation variables necessary for converting between the 5DOF and sMPA frame"
   ]
  },
  {
   "cell_type": "code",
   "execution_count": 8,
   "metadata": {},
   "outputs": [],
   "source": [
    "translation_to_sMPA = df.loc['sMPA',['X','Y','Z']]\n",
    "rotation_from_sMPA_to_5DOF = R.from_matrix(rotmat_from_2vec(np.array([0,0,1]),df.loc['sMPA',['uvec_X','uvec_Y','uvec_Z']].values.astype(float)))"
   ]
  },
  {
   "cell_type": "markdown",
   "metadata": {},
   "source": [
    "### 1.2 Calculate the new best-fit poses that minimize the deltas observed by the FDPR team (with 6DOF optimization)"
   ]
  },
  {
   "cell_type": "code",
   "execution_count": 9,
   "metadata": {},
   "outputs": [
    {
     "name": "stdout",
     "output_type": "stream",
     "text": [
      "Residuals baseline: \n",
      "       endpt_X   endpt_Y   endpt_Z\n",
      "PR1 -0.232569 -0.176127  0.156446\n",
      "PR2 -0.183728 -0.242691  0.217390\n",
      "PR3 -0.178482 -0.214556  0.218551\n",
      "PR4 -0.202010 -0.220441  0.113882\n",
      "PR5 -0.213299 -0.173044  0.176437 \n",
      "\n",
      "Best-fit 6DoF deltas to apply to real-space poses: \n",
      " [-0.1215  0.1292  0.1117  0.0154 -0.0038 -0.0009] \n",
      "\n",
      "Residuals after incorporating the best-fit 6DoF shift to all poses: \n",
      "      endpt_X  endpt_Y  endpt_Z\n",
      "PR1   -0.030    0.035   -0.022\n",
      "PR2    0.016   -0.045   -0.004\n",
      "PR3    0.022   -0.016    0.028\n",
      "PR4    0.001   -0.012   -0.017\n",
      "PR5   -0.010    0.039    0.015 \n",
      "\n",
      "endpt_X    0.018445\n",
      "endpt_Y    0.032144\n",
      "endpt_Z    0.018962\n",
      "dtype: float64\n"
     ]
    }
   ],
   "source": [
    "df_after_fitting_FDPR_shifts,endpoints_residuals_sMPA,best_fit_deltas,best_fit_errors = pose_update_with_FDPR_results_v2(df,shift_data,focal_length,GSA_angle_WCS_deg,translation_to_sMPA,rotation_from_sMPA_to_5DOF)\n",
    "print(np.std(endpoints_residuals_sMPA))"
   ]
  },
  {
   "cell_type": "markdown",
   "metadata": {},
   "source": [
    "### 1.3 Convert new best-fit poses to encoder space"
   ]
  },
  {
   "cell_type": "code",
   "execution_count": 10,
   "metadata": {},
   "outputs": [
    {
     "name": "stdout",
     "output_type": "stream",
     "text": [
      "New pose encoders, after incorporating the best-fit (x,y,z,Rx,Ry) shift to all poses: \n",
      "               X          Y          Z        Rx         Ry\n",
      "PR1    1.722541   0.895222  -1.231026  0.001452  -0.002602\n",
      "PR2 -108.612698 -46.369115  21.368519 -4.940131  10.640396\n",
      "PR3  112.046828 -45.479875  21.389081 -4.888642 -10.638975\n",
      "PR4  103.664548  59.603087   30.02807  5.281037 -10.350095\n",
      "PR5  -100.69612  58.848211  29.828775  5.239551  10.370366 \n",
      "\n",
      "Baseline pose encoders (displayed again here just for reference): \n",
      "                X          Y          Z        Rx         Ry\n",
      "Name                                                       \n",
      "PR1     1.844062   0.764665  -1.341346 -0.013911   0.001013\n",
      "PR2  -108.490764 -46.501289  21.258673 -4.955670  10.643931\n",
      "PR3   112.168229 -45.612113  21.280249 -4.903874 -10.635438\n",
      "PR4   103.785736  59.473408  29.917617  5.265812 -10.346407\n",
      "PR5  -100.574441  58.718602  29.717377  5.224018  10.374052\n"
     ]
    }
   ],
   "source": [
    "df_after_fitting_FDPR_shifts_in_encoder_space = pd.DataFrame(columns=['X','Y','Z','Rx','Ry'],index=df_after_fitting_FDPR_shifts.index)\n",
    "for pose in [val for val in pose_encoders.index if ('PR' in val) or ('PD' in val)]:\n",
    "    df_after_fitting_FDPR_shifts_in_encoder_space.loc[pose] = calculate_encoders_from_5DOF(pd.DataFrame(df_after_fitting_FDPR_shifts.loc[pose]).T).squeeze()\n",
    "\n",
    "print('New pose encoders, after incorporating the best-fit (x,y,z,Rx,Ry) shift to all poses: \\n',df_after_fitting_FDPR_shifts_in_encoder_space,'\\n')\n",
    "print('Baseline pose encoders (displayed again here just for reference): \\n', pose_encoders)"
   ]
  },
  {
   "cell_type": "markdown",
   "metadata": {},
   "source": [
    "# 2 Write the new poses to an Excel file in the current directory"
   ]
  },
  {
   "cell_type": "code",
   "execution_count": 11,
   "metadata": {},
   "outputs": [
    {
     "name": "stdout",
     "output_type": "stream",
     "text": [
      "**Writing to Excel complete.**\n",
      "**Filename:  temp.xlsx\n"
     ]
    }
   ],
   "source": [
    "write_to_excel = True\n",
    "\n",
    "if write_to_excel == True:\n",
    "    write_new_poses_to_Excel(output_filename,'',update_type='FDPR',baseline_filepath=baseline_fname,\n",
    "                             columns=columns,sMPA_angle_to_WCS_deg=sMPA_angle_to_WCS_deg,GSA_angle_WCS_deg=GSA_angle_WCS_deg,\n",
    "                             rigid_body_correction=best_fit_deltas,\n",
    "                             df=df,df_encoders=pose_encoders,df_update=df_after_fitting_FDPR_shifts,df_update_encoders=df_after_fitting_FDPR_shifts_in_encoder_space,\n",
    "                            focal_length=focal_length,best_fit_errors=best_fit_errors)"
   ]
  }
 ],
 "metadata": {
  "kernelspec": {
   "display_name": "Python 3 (Spyder)",
   "language": "python3",
   "name": "python3"
  },
  "language_info": {
   "codemirror_mode": {
    "name": "ipython",
    "version": 3
   },
   "file_extension": ".py",
   "mimetype": "text/x-python",
   "name": "python",
   "nbconvert_exporter": "python",
   "pygments_lexer": "ipython3",
   "version": "3.11.0"
  }
 },
 "nbformat": 4,
 "nbformat_minor": 4
}
