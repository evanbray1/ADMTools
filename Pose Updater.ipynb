{
 "cells": [
  {
   "cell_type": "code",
   "execution_count": 1,
   "metadata": {
    "scrolled": true
   },
   "outputs": [
    {
     "name": "stdout",
     "output_type": "stream",
     "text": [
      "Warning: Cannot change to a different GUI toolkit: notebook. Using qt5 instead.\n"
     ]
    }
   ],
   "source": [
    "%matplotlib notebook\n",
    "import os\n",
    "os.chdir('C:/Users/ebray/OneDrive - NASA/Python Programs/SORC Poses/') #I don't understand why I JUST now have to add this to get this cell to work\n",
    "# %matplotlib inline\n",
    "from adm_library import *\n",
    "import pandas as pd"
   ]
  },
  {
   "cell_type": "markdown",
   "metadata": {},
   "source": [
    "## 0 Parameter definitions"
   ]
  },
  {
   "cell_type": "markdown",
   "metadata": {},
   "source": [
    "### 0.1 Ingesting the [X,Y,Z,Rx,Ry] values from Tyler's spreadsheet"
   ]
  },
  {
   "cell_type": "code",
   "execution_count": 2,
   "metadata": {},
   "outputs": [
    {
     "name": "stdout",
     "output_type": "stream",
     "text": [
      "Provided 5DOF position in real space: \n",
      "             X       Y       Z      Rx       Ry\n",
      "Name                                          \n",
      "PDI1 -109.154  -4.241  21.282 -0.9354  10.8024\n",
      "PDI2  111.366  -3.589  21.566 -0.8781 -10.7867\n",
      "PDI3   39.731  52.251  10.951  4.7478  -3.8001\n",
      "PDI4  -38.875  52.142  11.213  4.7342   3.9592\n",
      "PR1      0.88   1.521  -0.439  0.0376   0.0332 \n",
      "\n",
      "Provided 5DOF encoder values: \n",
      "               X       Y       Z      Rx       Ry\n",
      "Name.1                                          \n",
      "PDI1   -109.126  -4.198  21.349 -0.9269  10.8034\n",
      "PDI2    111.246  -3.505  21.717 -0.8830 -10.7845\n",
      "PDI3     39.667  52.276  11.079  4.7475  -3.8045\n",
      "PDI4    -38.887  52.153  11.312  4.7387   3.9557\n",
      "PR1       0.854   1.555  -0.386  0.0395   0.0340\n"
     ]
    }
   ],
   "source": [
    "fname = 'SES-sandbox.xlsx'\n",
    "sheetname = 'Input for Tyler analysis'\n",
    "#fname = 'SES-cold plateau 3 - circuit 2.xlsx'\n",
    "#sheetname = 'Input for Tyler analysis'\n",
    "\n",
    "spreadsheet = pd.read_excel(fname,\n",
    "                            sheet_name=sheetname,skiprows=1,usecols='B:N')\n",
    "\n",
    "focal_length = spreadsheet.iloc[0][0]-110 # focal length is track length -110mm, per TG\n",
    "sMPA_to_WCS = spreadsheet.iloc[3,:3].astype(float)\n",
    "sMPA_angle_to_WCS_deg = spreadsheet.iloc[6,:3].astype(float)\n",
    "GSA_angle_WCS_deg = spreadsheet.iloc[7][0]\n",
    "sMask=np.array(spreadsheet.iloc[10,1:4]).astype(float)\n",
    "\n",
    "spreadsheet = pd.read_excel(fname,\n",
    "                            sheet_name=sheetname,skiprows=15,usecols='B:N')\n",
    "pose_actual = spreadsheet.iloc[0:5,0:6]\n",
    "pose_actual = pose_actual.set_index('Name').sort_index()\n",
    "pose_actual.columns = ['X','Y','Z','Rx','Ry']\n",
    "X_5DOF,Y_5DOF,Z_5DOF,rx_deg_5DOF,ry_deg_5DOF = [[*pose_actual['X'].values.astype(float)],[*pose_actual['Y'].values.astype(float)],[*pose_actual['Z'].values.astype(float)],\n",
    "                                                [*pose_actual['Rx'].values.astype(float)],[*pose_actual['Ry'].values.astype(float)]]\n",
    "pose_encoders = spreadsheet.iloc[0:5,7:13]\n",
    "pose_encoders = pose_encoders.set_index('Name.1').sort_index()\n",
    "\n",
    "print('Provided 5DOF position in real space: \\n',pose_actual,'\\n')\n",
    "print('Provided 5DOF encoder values: \\n',pose_encoders)\n"
   ]
  },
  {
   "cell_type": "markdown",
   "metadata": {},
   "source": [
    "### 0.1.1 If both the pose_actual and pose_encoder arrays are provided in the spreadsheet above, convert between the two to make sure they both agree. "
   ]
  },
  {
   "cell_type": "code",
   "execution_count": 3,
   "metadata": {},
   "outputs": [],
   "source": [
    "#No point doing the following if one or the other array is completely empty\n",
    "if (not any(np.isfinite(pose_encoders.values.astype(float)).ravel())) and (not any(np.isfinite(pose_actual.values.astype(float)).ravel())):\n",
    "\n",
    "    print('(Calculated 5DOF position) - (Actual 5DOF position (from the spreadsheet)): ')\n",
    "    calculated_pose_actual = pd.DataFrame(columns=pose_actual.columns)\n",
    "    for index in [val for val in pose_actual.index if ('PR' in val) or ('PD' in val)]:\n",
    "        calculated_pose_actual = pd.concat((calculated_pose_actual,calculate_5DOF_from_encoders(pd.DataFrame(pose_encoders.loc[index]).T)))\n",
    "    print(calculated_pose_actual-pose_actual,'\\n\\n')\n",
    "    \n",
    "    print('(Calculated 5DOF encoders) - (Actual 5DOF encoders (from the spreadsheet)): ')\n",
    "    calculated_pose_encoders = pd.DataFrame(columns=pose_encoders.columns)\n",
    "    for index in [val for val in pose_encoders.index if ('PR' in val) or ('PD' in val)]:\n",
    "        calculated_pose_encoders = pd.concat((calculated_pose_encoders,calculate_encoders_from_5DOF(pd.DataFrame(pose_actual.loc[index]).T)))\n",
    "    print(calculated_pose_encoders-pose_encoders)"
   ]
  },
  {
   "cell_type": "markdown",
   "metadata": {},
   "source": [
    "### 0.2 If the \"pose_actual\" section of the supplied spreadsheet was empty, build a new \"pose_actual\" array based on the input \"pose_encoder\" array."
   ]
  },
  {
   "cell_type": "code",
   "execution_count": 4,
   "metadata": {},
   "outputs": [],
   "source": [
    "if not any(np.isfinite(pose_actual.values.astype(float)).ravel()):\n",
    "    pose_actual = convert_pose_encoders_to_pose_actual(pose_encoders)\n",
    "    print('NEWLY calculated 5DOF position in real space based on recorded 5DOF encoder values: \\n',pose_actual)"
   ]
  },
  {
   "cell_type": "markdown",
   "metadata": {},
   "source": [
    "# 1. Updating Poses with ADM Data"
   ]
  },
  {
   "cell_type": "markdown",
   "metadata": {},
   "source": [
    "## 1.1 ADM Baseline  "
   ]
  },
  {
   "cell_type": "markdown",
   "metadata": {},
   "source": [
    "#### 1.1.1 Input your baseline ADM values"
   ]
  },
  {
   "cell_type": "code",
   "execution_count": 5,
   "metadata": {},
   "outputs": [
    {
     "data": {
      "text/html": [
       "<div>\n",
       "<style scoped>\n",
       "    .dataframe tbody tr th:only-of-type {\n",
       "        vertical-align: middle;\n",
       "    }\n",
       "\n",
       "    .dataframe tbody tr th {\n",
       "        vertical-align: top;\n",
       "    }\n",
       "\n",
       "    .dataframe thead th {\n",
       "        text-align: right;\n",
       "    }\n",
       "</style>\n",
       "<table border=\"1\" class=\"dataframe\">\n",
       "  <thead>\n",
       "    <tr style=\"text-align: right;\">\n",
       "      <th></th>\n",
       "      <th>X</th>\n",
       "      <th>Y</th>\n",
       "      <th>Z</th>\n",
       "      <th>Rx</th>\n",
       "      <th>Ry</th>\n",
       "      <th>z_sMATF</th>\n",
       "      <th>z_PATB</th>\n",
       "      <th>z_type</th>\n",
       "      <th>sMATF AC AZ</th>\n",
       "      <th>sMATF AC EL</th>\n",
       "      <th>PATB AC AZ</th>\n",
       "      <th>PATB AC EL</th>\n",
       "      <th>sMATF Pri LED X</th>\n",
       "      <th>sMATF Pri LED Y</th>\n",
       "      <th>PATB Pri LED X</th>\n",
       "      <th>PATB Pri LED Y</th>\n",
       "      <th>date</th>\n",
       "    </tr>\n",
       "  </thead>\n",
       "  <tbody>\n",
       "    <tr>\n",
       "      <th>PATB</th>\n",
       "      <td>88.435</td>\n",
       "      <td>109.266</td>\n",
       "      <td>0</td>\n",
       "      <td>0.1018</td>\n",
       "      <td>0.0856</td>\n",
       "      <td>4027.174</td>\n",
       "      <td>3455.684</td>\n",
       "      <td>retro</td>\n",
       "      <td>0.0041</td>\n",
       "      <td>0.006</td>\n",
       "      <td>0.0041</td>\n",
       "      <td>0.0035</td>\n",
       "      <td>811.9</td>\n",
       "      <td>604.6</td>\n",
       "      <td>812.6</td>\n",
       "      <td>605.9</td>\n",
       "      <td>4/1/2023</td>\n",
       "    </tr>\n",
       "  </tbody>\n",
       "</table>\n",
       "</div>"
      ],
      "text/plain": [
       "           X        Y  Z  ...  PATB Pri LED X  PATB Pri LED Y      date\n",
       "PATB  88.435  109.266  0  ...           812.6           605.9  4/1/2023\n",
       "\n",
       "[1 rows x 17 columns]"
      ]
     },
     "execution_count": 5,
     "metadata": {},
     "output_type": "execute_result"
    }
   ],
   "source": [
    "# 4/1 SES cold\n",
    "#z_null_sMATF_baseline = 4.027174*1000. \n",
    "#z_null_PATB_baseline = 3.455684*1000.\n",
    "#sMATF_baseline = pd.DataFrame(dict({'AC_AZ':0.0041,'AC_EL':0.006,'DET_X':811.9,'DET_Y':604.6}),index=['sMATF'])\n",
    "#p_null_PATB_baseline_encoder = pd.DataFrame(dict({'X':88.435, 'Y':109.266,'Z':0,'Rx':0.1018,'Ry':0.0856,\n",
    "#                                                  'AC_AZ':0.0041,'AC_EL':0.0035,'DET_X':812.6,'DET_Y':605.9}),index=['PATB'])\n",
    "\n",
    "p_null_PATB_baseline_encoder = pd.DataFrame(dict({'X':88.435, 'Y':109.266,'Z':0,\n",
    "                                                  'Rx':0.1018,'Ry':0.0856,\n",
    "                                                  'z_sMATF':4.027174*1000.,\n",
    "                                                  'z_PATB':3.455684*1000.,\n",
    "                                                  'z_type':'retro',\n",
    "                                                  'sMATF AC AZ':0.0041,\n",
    "                                                  'sMATF AC EL':0.006,\n",
    "                                                  'PATB AC AZ':0.0041,\n",
    "                                                  'PATB AC EL':0.0035,\n",
    "                                                  'sMATF Pri LED X':811.9,\n",
    "                                                  'sMATF Pri LED Y':604.6,\n",
    "                                                  'PATB Pri LED X':812.6,\n",
    "                                                  'PATB Pri LED Y':605.9,\n",
    "                                                  'date':'4/1/2023'\n",
    "                                                 }),index=['PATB'])\n",
    "\n",
    "p_null_PATB_baseline = calculate_5DOF_from_encoders(p_null_PATB_baseline_encoder)\n",
    "\n",
    "p_null_offset = np.array([-90.,-110.,-10.]) #PATB is not on the POA boresight. It is offset by this much\n",
    "p_null_PATB_baseline_encoder\n"
   ]
  },
  {
   "cell_type": "markdown",
   "metadata": {},
   "source": [
    "### 1.1.2 Update the PATB pose to account for imperfect nulling."
   ]
  },
  {
   "cell_type": "code",
   "execution_count": 7,
   "metadata": {},
   "outputs": [
    {
     "name": "stdout",
     "output_type": "stream",
     "text": [
      "Starting GSARX/RY:  0.1032160175 0.08766031499999999\n",
      "Optimal GSARX/RY:  0.1032160175 0.08766031499999999\n",
      "Starting HTSA/VTSA:  88.446418 109.33648500000001\n",
      "Optimal HTSA/VTSA:  88.446418 109.33648500000001\n"
     ]
    }
   ],
   "source": [
    "#Apply a correction to account for imperfect nulling between PATB/sMATF and overwrite the values in the p_null_PATB_baseline_encoder DataFrame with the optimal ones.\n",
    "optimize_PATB_for_imperfect_nulling = True\n",
    "\n",
    "if optimize_PATB_for_imperfect_nulling == True:\n",
    "    p_null_PATB_baseline_encoder = update_p_null_PATB_encoders(p_null_PATB_baseline_encoder,p_null_offset)"
   ]
  },
  {
   "cell_type": "markdown",
   "metadata": {},
   "source": [
    "#### 1.1.5 Form a dataframe with the values supplied so far"
   ]
  },
  {
   "cell_type": "code",
   "execution_count": 8,
   "metadata": {},
   "outputs": [
    {
     "data": {
      "text/html": [
       "<div>\n",
       "<style scoped>\n",
       "    .dataframe tbody tr th:only-of-type {\n",
       "        vertical-align: middle;\n",
       "    }\n",
       "\n",
       "    .dataframe tbody tr th {\n",
       "        vertical-align: top;\n",
       "    }\n",
       "\n",
       "    .dataframe thead th {\n",
       "        text-align: right;\n",
       "    }\n",
       "</style>\n",
       "<table border=\"1\" class=\"dataframe\">\n",
       "  <thead>\n",
       "    <tr style=\"text-align: right;\">\n",
       "      <th></th>\n",
       "      <th>X</th>\n",
       "      <th>Y</th>\n",
       "      <th>Z</th>\n",
       "      <th>Rx</th>\n",
       "      <th>Ry</th>\n",
       "      <th>color</th>\n",
       "      <th>uvec_X</th>\n",
       "      <th>uvec_Y</th>\n",
       "      <th>uvec_Z</th>\n",
       "    </tr>\n",
       "  </thead>\n",
       "  <tbody>\n",
       "    <tr>\n",
       "      <th>PDI1</th>\n",
       "      <td>-109.154</td>\n",
       "      <td>-4.241</td>\n",
       "      <td>21.282</td>\n",
       "      <td>-0.935400</td>\n",
       "      <td>10.802400</td>\n",
       "      <td>yellow</td>\n",
       "      <td>242.172872</td>\n",
       "      <td>264.729711</td>\n",
       "      <td>1241.310730</td>\n",
       "    </tr>\n",
       "    <tr>\n",
       "      <th>PDI2</th>\n",
       "      <td>111.366</td>\n",
       "      <td>-3.589</td>\n",
       "      <td>21.566</td>\n",
       "      <td>-0.878100</td>\n",
       "      <td>-10.786700</td>\n",
       "      <td>yellow</td>\n",
       "      <td>-241.825074</td>\n",
       "      <td>263.501943</td>\n",
       "      <td>1241.639725</td>\n",
       "    </tr>\n",
       "    <tr>\n",
       "      <th>PDI3</th>\n",
       "      <td>39.731</td>\n",
       "      <td>52.251</td>\n",
       "      <td>10.951</td>\n",
       "      <td>4.747800</td>\n",
       "      <td>-3.800100</td>\n",
       "      <td>yellow</td>\n",
       "      <td>-85.636281</td>\n",
       "      <td>142.724218</td>\n",
       "      <td>1281.357902</td>\n",
       "    </tr>\n",
       "    <tr>\n",
       "      <th>PDI4</th>\n",
       "      <td>-38.875</td>\n",
       "      <td>52.142</td>\n",
       "      <td>11.213</td>\n",
       "      <td>4.734200</td>\n",
       "      <td>3.959200</td>\n",
       "      <td>yellow</td>\n",
       "      <td>89.216049</td>\n",
       "      <td>143.001431</td>\n",
       "      <td>1281.082720</td>\n",
       "    </tr>\n",
       "    <tr>\n",
       "      <th>PR1</th>\n",
       "      <td>0.88</td>\n",
       "      <td>1.521</td>\n",
       "      <td>-0.439</td>\n",
       "      <td>0.037600</td>\n",
       "      <td>0.033200</td>\n",
       "      <td>crimson</td>\n",
       "      <td>0.748720</td>\n",
       "      <td>248.007345</td>\n",
       "      <td>1268.098436</td>\n",
       "    </tr>\n",
       "    <tr>\n",
       "      <th>sMask</th>\n",
       "      <td>1.228</td>\n",
       "      <td>116.421532</td>\n",
       "      <td>587.065659</td>\n",
       "      <td>NaN</td>\n",
       "      <td>NaN</td>\n",
       "      <td>g</td>\n",
       "      <td>NaN</td>\n",
       "      <td>NaN</td>\n",
       "      <td>NaN</td>\n",
       "    </tr>\n",
       "    <tr>\n",
       "      <th>PATB</th>\n",
       "      <td>88.525436</td>\n",
       "      <td>109.277273</td>\n",
       "      <td>-0.148585</td>\n",
       "      <td>0.099591</td>\n",
       "      <td>0.084905</td>\n",
       "      <td>darkblue</td>\n",
       "      <td>1.914754</td>\n",
       "      <td>246.634959</td>\n",
       "      <td>1268.364844</td>\n",
       "    </tr>\n",
       "    <tr>\n",
       "      <th>sMPA</th>\n",
       "      <td>1.6298</td>\n",
       "      <td>249.5191</td>\n",
       "      <td>1267.639</td>\n",
       "      <td>NaN</td>\n",
       "      <td>NaN</td>\n",
       "      <td>purple</td>\n",
       "      <td>0.000411</td>\n",
       "      <td>0.411286</td>\n",
       "      <td>0.911506</td>\n",
       "    </tr>\n",
       "  </tbody>\n",
       "</table>\n",
       "</div>"
      ],
      "text/plain": [
       "               X           Y           Z  ...      uvec_X      uvec_Y       uvec_Z\n",
       "PDI1    -109.154      -4.241      21.282  ...  242.172872  264.729711  1241.310730\n",
       "PDI2     111.366      -3.589      21.566  ... -241.825074  263.501943  1241.639725\n",
       "PDI3      39.731      52.251      10.951  ...  -85.636281  142.724218  1281.357902\n",
       "PDI4     -38.875      52.142      11.213  ...   89.216049  143.001431  1281.082720\n",
       "PR1         0.88       1.521      -0.439  ...    0.748720  248.007345  1268.098436\n",
       "sMask      1.228  116.421532  587.065659  ...         NaN         NaN          NaN\n",
       "PATB   88.525436  109.277273   -0.148585  ...    1.914754  246.634959  1268.364844\n",
       "sMPA      1.6298    249.5191    1267.639  ...    0.000411    0.411286     0.911506\n",
       "\n",
       "[8 rows x 9 columns]"
      ]
     },
     "execution_count": 8,
     "metadata": {},
     "output_type": "execute_result"
    }
   ],
   "source": [
    "#Generate a dataframe where we will store some parameters for each pose\n",
    "columns = ['X','Y','Z','Rx','Ry']\n",
    "df = pose_actual\n",
    "df['color']='crimson'\n",
    "\n",
    "gsa_rot = R.from_euler('x',GSA_angle_WCS_deg, degrees=True)\n",
    "df.loc['sMask',['X','Y','Z']] = gsa_rot.apply(sMask)\n",
    "df.loc['sMask','color'] = 'g'\n",
    "\n",
    "dz_baseline = p_null_PATB_baseline_encoder.loc['PATB','z_sMATF'] - \\\n",
    "    p_null_PATB_baseline_encoder.loc['PATB','z_PATB']\n",
    "df = pd.concat([df,p_null_PATB_baseline])\n",
    "df.loc['PATB','color']='darkblue'\n",
    "\n",
    "df.loc['sMPA',['X','Y','Z']] = sMPA_to_WCS.values.astype(float)\n",
    "df.loc['sMPA','color']='purple'\n",
    "\n",
    "for pose in df.index:\n",
    "    update_uvec(df,pose,length=focal_length,rotangle=GSA_angle_WCS_deg)\n",
    "    if 'PDI' in pose:\n",
    "        df.loc[pose,'color'] = 'yellow'\n",
    "\n",
    "# create normal vector to sMPA\n",
    "vec = np.array([0,0,1])\n",
    "rotmat = R.from_euler('XYZ',sMPA_angle_to_WCS_deg, degrees=True)\n",
    "df.loc['sMPA',['uvec_X','uvec_Y','uvec_Z']] = rotmat.apply(vec)\n",
    "\n",
    "#ax = plot_poses(df)\n",
    "#plot_sMPA(df, ax)\n",
    "df"
   ]
  },
  {
   "cell_type": "markdown",
   "metadata": {},
   "source": [
    "#### 1.1.6 Calculate the center of the sMATF flat in 5DOF coordinate system (currently assumes PATB is on-axis and aligned with GSA)"
   ]
  },
  {
   "cell_type": "code",
   "execution_count": 9,
   "metadata": {},
   "outputs": [
    {
     "data": {
      "text/html": [
       "<div>\n",
       "<style scoped>\n",
       "    .dataframe tbody tr th:only-of-type {\n",
       "        vertical-align: middle;\n",
       "    }\n",
       "\n",
       "    .dataframe tbody tr th {\n",
       "        vertical-align: top;\n",
       "    }\n",
       "\n",
       "    .dataframe thead th {\n",
       "        text-align: right;\n",
       "    }\n",
       "</style>\n",
       "<table border=\"1\" class=\"dataframe\">\n",
       "  <thead>\n",
       "    <tr style=\"text-align: right;\">\n",
       "      <th></th>\n",
       "      <th>X</th>\n",
       "      <th>Y</th>\n",
       "      <th>Z</th>\n",
       "      <th>Rx</th>\n",
       "      <th>Ry</th>\n",
       "      <th>color</th>\n",
       "      <th>uvec_X</th>\n",
       "      <th>uvec_Y</th>\n",
       "      <th>uvec_Z</th>\n",
       "    </tr>\n",
       "  </thead>\n",
       "  <tbody>\n",
       "    <tr>\n",
       "      <th>PDI1</th>\n",
       "      <td>-109.154</td>\n",
       "      <td>-4.241</td>\n",
       "      <td>21.282</td>\n",
       "      <td>-0.935400</td>\n",
       "      <td>10.802400</td>\n",
       "      <td>yellow</td>\n",
       "      <td>242.172872</td>\n",
       "      <td>264.729711</td>\n",
       "      <td>1241.310730</td>\n",
       "    </tr>\n",
       "    <tr>\n",
       "      <th>PDI2</th>\n",
       "      <td>111.366</td>\n",
       "      <td>-3.589</td>\n",
       "      <td>21.566</td>\n",
       "      <td>-0.878100</td>\n",
       "      <td>-10.786700</td>\n",
       "      <td>yellow</td>\n",
       "      <td>-241.825074</td>\n",
       "      <td>263.501943</td>\n",
       "      <td>1241.639725</td>\n",
       "    </tr>\n",
       "    <tr>\n",
       "      <th>PDI3</th>\n",
       "      <td>39.731</td>\n",
       "      <td>52.251</td>\n",
       "      <td>10.951</td>\n",
       "      <td>4.747800</td>\n",
       "      <td>-3.800100</td>\n",
       "      <td>yellow</td>\n",
       "      <td>-85.636281</td>\n",
       "      <td>142.724218</td>\n",
       "      <td>1281.357902</td>\n",
       "    </tr>\n",
       "    <tr>\n",
       "      <th>PDI4</th>\n",
       "      <td>-38.875</td>\n",
       "      <td>52.142</td>\n",
       "      <td>11.213</td>\n",
       "      <td>4.734200</td>\n",
       "      <td>3.959200</td>\n",
       "      <td>yellow</td>\n",
       "      <td>89.216049</td>\n",
       "      <td>143.001431</td>\n",
       "      <td>1281.082720</td>\n",
       "    </tr>\n",
       "    <tr>\n",
       "      <th>PR1</th>\n",
       "      <td>0.88</td>\n",
       "      <td>1.521</td>\n",
       "      <td>-0.439</td>\n",
       "      <td>0.037600</td>\n",
       "      <td>0.033200</td>\n",
       "      <td>crimson</td>\n",
       "      <td>0.748720</td>\n",
       "      <td>248.007345</td>\n",
       "      <td>1268.098436</td>\n",
       "    </tr>\n",
       "    <tr>\n",
       "      <th>sMask</th>\n",
       "      <td>1.228</td>\n",
       "      <td>116.421532</td>\n",
       "      <td>587.065659</td>\n",
       "      <td>NaN</td>\n",
       "      <td>NaN</td>\n",
       "      <td>g</td>\n",
       "      <td>NaN</td>\n",
       "      <td>NaN</td>\n",
       "      <td>NaN</td>\n",
       "    </tr>\n",
       "    <tr>\n",
       "      <th>PATB</th>\n",
       "      <td>88.525436</td>\n",
       "      <td>109.277273</td>\n",
       "      <td>-0.148585</td>\n",
       "      <td>0.099591</td>\n",
       "      <td>0.084905</td>\n",
       "      <td>darkblue</td>\n",
       "      <td>1.914754</td>\n",
       "      <td>246.634959</td>\n",
       "      <td>1268.364844</td>\n",
       "    </tr>\n",
       "    <tr>\n",
       "      <th>sMPA</th>\n",
       "      <td>1.6298</td>\n",
       "      <td>249.5191</td>\n",
       "      <td>1267.639</td>\n",
       "      <td>NaN</td>\n",
       "      <td>NaN</td>\n",
       "      <td>purple</td>\n",
       "      <td>0.000411</td>\n",
       "      <td>0.411286</td>\n",
       "      <td>0.911506</td>\n",
       "    </tr>\n",
       "    <tr>\n",
       "      <th>sMATF</th>\n",
       "      <td>-0.642411</td>\n",
       "      <td>108.500101</td>\n",
       "      <td>572.145127</td>\n",
       "      <td>0.099591</td>\n",
       "      <td>0.084905</td>\n",
       "      <td>orange</td>\n",
       "      <td>0.846873</td>\n",
       "      <td>109.083687</td>\n",
       "      <td>560.982570</td>\n",
       "    </tr>\n",
       "  </tbody>\n",
       "</table>\n",
       "</div>"
      ],
      "text/plain": [
       "               X           Y           Z  ...      uvec_X      uvec_Y       uvec_Z\n",
       "PDI1    -109.154      -4.241      21.282  ...  242.172872  264.729711  1241.310730\n",
       "PDI2     111.366      -3.589      21.566  ... -241.825074  263.501943  1241.639725\n",
       "PDI3      39.731      52.251      10.951  ...  -85.636281  142.724218  1281.357902\n",
       "PDI4     -38.875      52.142      11.213  ...   89.216049  143.001431  1281.082720\n",
       "PR1         0.88       1.521      -0.439  ...    0.748720  248.007345  1268.098436\n",
       "sMask      1.228  116.421532  587.065659  ...         NaN         NaN          NaN\n",
       "PATB   88.525436  109.277273   -0.148585  ...    1.914754  246.634959  1268.364844\n",
       "sMPA      1.6298    249.5191    1267.639  ...    0.000411    0.411286     0.911506\n",
       "sMATF  -0.642411  108.500101  572.145127  ...    0.846873  109.083687   560.982570\n",
       "\n",
       "[9 rows x 9 columns]"
      ]
     },
     "execution_count": 9,
     "metadata": {},
     "output_type": "execute_result"
    }
   ],
   "source": [
    "start_coords = np.array(df.loc['PATB',['X','Y','Z']])\n",
    "\n",
    "rx = df.loc['PATB','Rx']\n",
    "ry = df.loc['PATB','Ry']\n",
    "gsa_rot = R.from_euler('XY',[rx+GSA_angle_WCS_deg,ry], degrees=True)\n",
    "uvec = np.array([0.,0.,dz_baseline]+p_null_offset)\n",
    "rot_uvec = gsa_rot.apply(uvec) #np.dot(gsa_rot.as_matrix(),uvec)\n",
    "\n",
    "sMATF_coords = start_coords+rot_uvec\n",
    "\n",
    "df.loc['sMATF',['X','Y','Z']]=sMATF_coords\n",
    "df.loc['sMATF',['Rx','Ry']]=df.loc['PATB',['Rx','Ry']]\n",
    "df.loc['sMATF','color']='orange'\n",
    "update_uvec(df,'sMATF',length=dz_baseline,rotangle=GSA_angle_WCS_deg)\n",
    "#ax = plot_poses(df)\n",
    "#plot_sMPA(df, ax)\n",
    "df"
   ]
  },
  {
   "cell_type": "markdown",
   "metadata": {},
   "source": [
    "## 1.2 ADM Update"
   ]
  },
  {
   "cell_type": "markdown",
   "metadata": {},
   "source": [
    "Now the system has undergone some kind of change that will cause the ADM measurements to be different, such as shimming the sWFI or cooling from ambient to operational temps. We need to use the new set of ADM sMATF/PATB measurements to update the calculated poses for PRs 1-5.\n",
    "\n",
    "Now update all poses from this new PATB pose; this is the recipe that would be followed for real data"
   ]
  },
  {
   "cell_type": "markdown",
   "metadata": {},
   "source": [
    "#### 1.2.1 Input new ADM data for the sMATF and PATB and convert to 5DOF actual space"
   ]
  },
  {
   "cell_type": "code",
   "execution_count": 10,
   "metadata": {},
   "outputs": [
    {
     "data": {
      "text/html": [
       "<div>\n",
       "<style scoped>\n",
       "    .dataframe tbody tr th:only-of-type {\n",
       "        vertical-align: middle;\n",
       "    }\n",
       "\n",
       "    .dataframe tbody tr th {\n",
       "        vertical-align: top;\n",
       "    }\n",
       "\n",
       "    .dataframe thead th {\n",
       "        text-align: right;\n",
       "    }\n",
       "</style>\n",
       "<table border=\"1\" class=\"dataframe\">\n",
       "  <thead>\n",
       "    <tr style=\"text-align: right;\">\n",
       "      <th></th>\n",
       "      <th>X</th>\n",
       "      <th>Y</th>\n",
       "      <th>Z</th>\n",
       "      <th>Rx</th>\n",
       "      <th>Ry</th>\n",
       "    </tr>\n",
       "  </thead>\n",
       "  <tbody>\n",
       "    <tr>\n",
       "      <th>PATB_update</th>\n",
       "      <td>88.616474</td>\n",
       "      <td>108.374721</td>\n",
       "      <td>-0.148095</td>\n",
       "      <td>0.126482</td>\n",
       "      <td>0.078135</td>\n",
       "    </tr>\n",
       "  </tbody>\n",
       "</table>\n",
       "</div>"
      ],
      "text/plain": [
       "                     X           Y         Z        Rx        Ry\n",
       "PATB_update  88.616474  108.374721 -0.148095  0.126482  0.078135"
      ]
     },
     "execution_count": 10,
     "metadata": {},
     "output_type": "execute_result"
    }
   ],
   "source": [
    "# 4/3, use mirror for range if possible\n",
    "#z_null_sMATF_update = 4.031636*1000. \n",
    "#z_null_PATB_update = 3.458517*1000.\n",
    "\n",
    "#sMATF_update = pd.DataFrame(dict({'AC_AZ':-0.0022,'AC_EL':0.0042,'DET_X':811.7,'DET_Y':597.6}),index=['sMATF'])\n",
    "#p_null_PATB_update_encoder = pd.DataFrame(dict({'X':88.526, 'Y':108.364,'Z':0.00,'Rx':0.1287,'Ry':0.0788,\n",
    "#                                                  'AC_AZ':-0.0008,'AC_EL':0.0001,'DET_X':812.1,'DET_Y':598.8}),index=['PATB_update'])\n",
    "\n",
    "p_null_PATB_update_encoder = pd.DataFrame(dict({'X':88.526, 'Y':108.364,'Z':0,\n",
    "                                                  'Rx':0.1287,'Ry':0.0788,\n",
    "                                                  'z_sMATF':4.031636*1000.,\n",
    "                                                  'z_PATB':3.458517*1000.,\n",
    "                                                  'z_type':'retro',\n",
    "                                                  'sMATF AC AZ':-0.0022,\n",
    "                                                  'sMATF AC EL':0.0042,\n",
    "                                                  'PATB AC AZ':-0.0008,\n",
    "                                                  'PATB AC EL':0.0001,\n",
    "                                                  'sMATF Pri LED X':811.7,\n",
    "                                                  'sMATF Pri LED Y':597.6,\n",
    "                                                  'PATB Pri LED X':812.1,\n",
    "                                                  'PATB Pri LED Y':598.8,\n",
    "                                                  'date':'4/3/2023'\n",
    "                                                 }),index=['PATB_update'])\n",
    "\n",
    "p_null_PATB_update = calculate_5DOF_from_encoders(p_null_PATB_update_encoder)\n",
    "p_null_PATB_update"
   ]
  },
  {
   "cell_type": "markdown",
   "metadata": {},
   "source": [
    "### 1.2.2 Update the PATB pose to account for imperfect nulling"
   ]
  },
  {
   "cell_type": "code",
   "execution_count": 11,
   "metadata": {},
   "outputs": [
    {
     "name": "stdout",
     "output_type": "stream",
     "text": [
      "Starting GSARX/RY:  0.1287 0.0788\n",
      "Optimal GSARX/RY:  0.1298684923 0.0829718906\n",
      "Starting HTSA/VTSA:  88.526 108.364\n",
      "Optimal HTSA/VTSA:  88.54602399999999 108.421932\n"
     ]
    }
   ],
   "source": [
    "#Apply a correction to account for imperfect nulling between PATB/sMATF and overwrite the values in the p_null_PATB_baseline_encoder DataFrame with the optimal ones.\n",
    "optimize_PATB_for_imperfect_nulling = True\n",
    "\n",
    "if optimize_PATB_for_imperfect_nulling == True:\n",
    "    p_null_PATB_update_encoder = update_p_null_PATB_encoders(p_null_PATB_update_encoder,p_null_offset)"
   ]
  },
  {
   "cell_type": "markdown",
   "metadata": {},
   "source": [
    "#### 1.2.2 Use the newly-provided data to calculate an updated position for sMATF"
   ]
  },
  {
   "cell_type": "code",
   "execution_count": null,
   "metadata": {},
   "outputs": [],
   "source": [
    "dz_update = z_null_sMATF_update-z_null_PATB_update\n",
    "df = pd.concat([df,p_null_PATB_update])\n",
    "df.loc['PATB_update','color'] = 'purple'\n",
    "update_uvec(df,'PATB_update',length=focal_length,rotangle=GSA_angle_WCS_deg)\n",
    "\n",
    "start_coords = np.array(df.loc['PATB_update',['X','Y','Z']])\n",
    "\n",
    "rx = df.loc['PATB_update','Rx']\n",
    "ry = df.loc['PATB_update','Ry']\n",
    "gsa_rot = R.from_euler('XY',[rx+GSA_angle_WCS_deg,ry], degrees=True)\n",
    "uvec = [0.,0.,dz_update]+p_null_offset # in GSA CS\n",
    "rot_uvec = gsa_rot.apply(uvec) #np.dot(gsa_rot.as_matrix(),uvec)\n",
    "\n",
    "sMATF_update_coords = start_coords+rot_uvec\n",
    "\n",
    "df.loc['sMATF_update',['X','Y','Z']]=sMATF_update_coords\n",
    "df.loc['sMATF_update',['Rx','Ry']]=df.loc['PATB_update',['Rx','Ry']]\n",
    "df.loc['sMATF_update','color']='brown'\n",
    "update_uvec(df,'sMATF_update',length=dz_update,rotangle=GSA_angle_WCS_deg)\n",
    "#ax = plot_poses(df)\n",
    "#plot_sMPA(df, ax)\n",
    "print('Baseline poses')\n",
    "df\n"
   ]
  },
  {
   "cell_type": "code",
   "execution_count": null,
   "metadata": {},
   "outputs": [],
   "source": [
    "#How did the distance between PATB and sMATF change from pre- to post-environment shift?\n",
    "print('PATB->sMATF distance changed by: ',dz_update-dz_baseline, ' mm')"
   ]
  },
  {
   "cell_type": "markdown",
   "metadata": {},
   "source": [
    "## 1.3 Calculate deltas between baseline & updated ADM measurements"
   ]
  },
  {
   "cell_type": "code",
   "execution_count": null,
   "metadata": {},
   "outputs": [],
   "source": [
    "sMATF_delta = df.loc['sMATF_update',['X','Y','Z']] - df.loc['sMATF',['X','Y','Z']]\n",
    "print('sMATF (X,Y,Z) deltas: \\n',sMATF_delta,'\\n')\n",
    "\n",
    "patb_delta = df.loc['PATB_update',['X','Y','Z','Rx','Ry']] - df.loc['PATB',['X','Y','Z','Rx','Ry']]\n",
    "#patb_drxry = df.loc['PATB_update',['Rx','Ry']] - df.loc['PATB',['Rx','Ry']]\n",
    "print('PATB (X,Y,Z,Rx,Ry) deltas: \\n',patb_delta,'\\n')\n"
   ]
  },
  {
   "cell_type": "markdown",
   "metadata": {},
   "source": [
    "## 1.4 Transform old poses to the new sMATF reference frame"
   ]
  },
  {
   "cell_type": "markdown",
   "metadata": {},
   "source": [
    "### 1.4.1 Apply a translation to all poses"
   ]
  },
  {
   "cell_type": "code",
   "execution_count": null,
   "metadata": {},
   "outputs": [],
   "source": [
    "df_update = df.copy()\n",
    "T = df.loc['sMATF_update',['X','Y','Z']]\n",
    "df_update[['X','Y','Z']] -= T\n",
    "print('Translation required to put sMATF_update at the origin: \\n',T)"
   ]
  },
  {
   "cell_type": "markdown",
   "metadata": {},
   "source": [
    "### 1.4.2 Now perform 3 rotations to all the poses:\n",
    "1. To align to the sMATF frame\n",
    "2. To rotate everything by delta(Rx,Ry)\n",
    "3. To undo #1"
   ]
  },
  {
   "cell_type": "code",
   "execution_count": null,
   "metadata": {},
   "outputs": [],
   "source": [
    "update_rot1 = R.from_euler('XY',[df.loc['PATB','Rx']+GSA_angle_WCS_deg,df.loc['PATB','Ry']], degrees=True)\n",
    "update_rot2 = R.from_euler('XY',[patb_delta.loc['Rx'],patb_delta.loc['Ry']], degrees=True)\n",
    "update_rot_combined = update_rot1 * update_rot2 * update_rot1.inv()\n",
    "                                \n",
    "for pose in df_update.index:\n",
    "                                \n",
    "    df_update.loc[pose,['X','Y','Z']]=update_rot_combined.apply(df_update.loc[pose,['X','Y','Z']].astype(float)) #np.dot(update_rot.as_matrix(),df_update.loc[pose,['X','Y','Z']])\n",
    "    df_update.loc[pose,['uvec_X','uvec_Y','uvec_Z']] = update_rot_combined.apply(df_update.loc[pose,['uvec_X','uvec_Y','uvec_Z']].astype(float)) \n",
    "    if pose not in ['sMask','sMPA']:\n",
    "        update_RxRy(df_update,pose,GSA_angle_WCS_deg)\n"
   ]
  },
  {
   "cell_type": "markdown",
   "metadata": {},
   "source": [
    "### 1.4.3 Translate back to the 5DOF frame by undoing the translation from Cell 1.4.1, followed by adding the sMATF delta(X,Y,Z) offset from Cell 1.3"
   ]
  },
  {
   "cell_type": "code",
   "execution_count": null,
   "metadata": {},
   "outputs": [],
   "source": [
    "df_update[['X','Y','Z']] += T\n",
    "df_update.loc[df_update.index[:12],['X','Y','Z']] += update_rot_combined.apply(sMATF_delta.astype(float)) #np.dot(update_rot.as_matrix(),delta)\n",
    "#ax = plot_poses(df_update)\n",
    "#plot_sMPA(df_update, ax)\n",
    "print('Updated poses')\n",
    "df_update"
   ]
  },
  {
   "cell_type": "markdown",
   "metadata": {},
   "source": [
    "# 1.4 >>>>Results<<<<"
   ]
  },
  {
   "cell_type": "markdown",
   "metadata": {},
   "source": [
    "#### 1.4.1 Converting poses from real space to encoder space"
   ]
  },
  {
   "cell_type": "code",
   "execution_count": null,
   "metadata": {},
   "outputs": [],
   "source": [
    "df_update_encoder_space = convert_df_to_encoder_space(df_update)\n",
    "print('Updated Poses (in encoder space): \\n',df_update_encoder_space,'\\n\\n')\n",
    "\n",
    "print('Baseline Poses (in encoder space), just for easy reference: \\n',pose_encoders)"
   ]
  },
  {
   "cell_type": "markdown",
   "metadata": {},
   "source": [
    "#### (OPTIONAL) 1.4.2 Display some other tables that may be helpful for diagnostics"
   ]
  },
  {
   "cell_type": "code",
   "execution_count": null,
   "metadata": {},
   "outputs": [],
   "source": [
    "print_extra_diagnostics = False\n",
    "poses_to_display = [val for val in df.index if 'PDI' in val or 'PR' in val]+['sMask', 'sMPA']\n",
    "\n",
    "if print_extra_diagnostics == True:\n",
    "    print('Baseline Poses (in real space): \\n',df.loc[poses_to_display,['X','Y','Z','Rx','Ry']],'\\n\\n')\n",
    "    print('Updated Poses (in real space): \\n',df_update.loc[poses_to_display,['X','Y','Z','Rx','Ry']], '\\n\\n')\n",
    "    print('Deltas between Baseline/Updated poses (in real space): \\n',-df.loc[poses_to_display,['X','Y','Z','Rx','Ry']] + df_update.loc[poses_to_display,['X','Y','Z','Rx','Ry']], '\\n\\n')\n",
    "    print('Change in calculated endpoint positions (5DOF frame): \\n',compute_endpoint_errors(df,df_update),'\\n\\n')\n",
    "    print('Change in calculated endpoint positions (sMPA frame): \\n',compute_endpoint_errors_sMPA_frame(df,df_update),'\\n\\n')\n",
    "    print('Verify that all poses intersect at the pupil in the same way before and after the update:')\n",
    "    print(check_pupil_crossing([df,df_update]),'\\n\\n')\n",
    "    print('Distance from pose focus to sMPA: \\n\\n',compute_distance_to_sMPA(df),'\\n\\n')  \n",
    "    "
   ]
  },
  {
   "cell_type": "markdown",
   "metadata": {},
   "source": [
    "### 1.4.3 Write the results to an Excel file in the current directory"
   ]
  },
  {
   "cell_type": "code",
   "execution_count": null,
   "metadata": {},
   "outputs": [],
   "source": [
    "write_to_excel = True\n",
    "\n",
    "if write_to_excel == True:\n",
    "\n",
    "    charstr='ABCDEFGHIJKLMNOPQRSTUVWXYZ'\n",
    "    chars=list(charstr)\n",
    "    nums=[str(i) for i in range(1,26)]\n",
    "\n",
    "    startrow = 16\n",
    "    startcol = 1\n",
    "    df_encoder_space = pd.DataFrame(columns=columns)\n",
    "    for pose in [val for val in df.index if 'PDI' in val or 'PR' in val]+['PATB']:\n",
    "        df_encoder_space = pd.concat([df_encoder_space,calculate_encoders_from_5DOF(pd.DataFrame(df.loc[pose]).T)])\n",
    "\n",
    "    index_names = [val for val in df.index if 'PDI' in val or 'PR' in val]\n",
    "\n",
    "    gsa_rot = R.from_euler('X',[GSA_angle_WCS_deg], degrees=True)\n",
    "    # uvec = np.array([0.,0.,dz_update]+p_null_offset)\n",
    "    rot_uvec = gsa_rot.apply(uvec) #np.dot(gsa_rot.as_matrix(),uvec)\n",
    "\n",
    "    filename = 'Test output.xlsx'\n",
    "    sheet1_name = 'baseline'\n",
    "    sheet2_name = 'update'\n",
    "    with pd.ExcelWriter(filename) as writer:  \n",
    "        df.loc[index_names].to_excel(writer, sheet_name=sheet1_name,startrow=startrow,startcol=startcol)\n",
    "        df_encoder_space.to_excel(writer, sheet_name=sheet1_name,startrow=startrow,startcol=startcol+12)   \n",
    "        sheet = writer.sheets[sheet1_name]\n",
    "        sheet[f'{chars[startcol+12]}{startrow}']='Encoders'\n",
    "        sheet[f'{chars[startcol]}{startrow}']='True positions'\n",
    "        sheet['B1'] = 'WP2'\n",
    "        sheet['B2'] = 'Test'\n",
    "        sheet['A27'] = 'Corresponding field points in GSA'\n",
    "        sheet['A3'] = 'Track length'\n",
    "        sheet['B3'] = focal_length+110\n",
    "    #     sheet['A6'] = 'sMPA offset to WCS'\n",
    "        newdf = df[df.index=='sMPA'][['X','Y','Z','uvec_X','uvec_Y','uvec_Z']]\n",
    "        newdf.to_excel(writer,sheet_name=sheet1_name,startrow=4,startcol=0)\n",
    "        sheet['A10'] = 'GSA angle to WCS'\n",
    "        sheet['B10'] = GSA_angle_WCS_deg\n",
    "        newdf = df[df.index=='sMask'][['X','Y','Z']]\n",
    "        newdf.loc['sMask',['X','Y','Z']] = gsa_rot.inv().apply(newdf.loc['sMask',['X','Y','Z']].values.astype(float))\n",
    "        newdf.to_excel(writer,sheet_name=sheet1_name,startrow=11,startcol=1)\n",
    "        endpoints = compute_endpoints(df.loc[index_names],pose_select='P')\n",
    "        gsa_coordinates = pd.DataFrame(gsa_rot.inv().apply(endpoints),columns=['X','Y','Z'])\n",
    "        gsa_coordinates.index = index_names\n",
    "        gsa_coordinates.to_excel(writer,sheet_name=sheet1_name,startrow=27,startcol=1)\n",
    "\n",
    "        sheet['B41'] = 'ADM measurements'\n",
    "        p_null_PATB_baseline_encoder.to_excel(writer, sheet_name=sheet1_name,startrow=43,startcol=1)\n",
    "\n",
    "        df_encoder_space = pd.DataFrame(columns=columns)\n",
    "        for pose in [val for val in df.index if 'PDI' in val or 'PR' in val]:\n",
    "            df_encoder_space = pd.concat([df_encoder_space,calculate_encoders_from_5DOF(pd.DataFrame(df_update.loc[pose]).T)])\n",
    "        df_update.loc[index_names].to_excel(writer, sheet_name=sheet2_name,startrow=startrow,startcol=startcol)\n",
    "        df_encoder_space.to_excel(writer, sheet_name=sheet2_name,startrow=startrow,startcol=startcol+12)   \n",
    "        sheet = writer.sheets[sheet2_name]\n",
    "        sheet[f'{chars[startcol+12]}{startrow}']='Encoders'\n",
    "        sheet[f'{chars[startcol]}{startrow}']='True positions'\n",
    "        sheet['B1'] = 'WP2'\n",
    "        sheet['B2'] = 'Test'\n",
    "        sheet['A27'] = 'Corresponding field points in GSA'\n",
    "        sheet['A3'] = 'Track length'\n",
    "        sheet['B3'] = focal_length+110\n",
    "    #     sheet['A6'] = 'sMPA offset to WCS'\n",
    "        newdf = df_update[df_update.index=='sMPA'][['X','Y','Z','uvec_X','uvec_Y','uvec_Z']]\n",
    "        newdf.to_excel(writer,sheet_name=sheet2_name,startrow=4,startcol=0)\n",
    "        sheet['A10'] = 'GSA angle to WCS'\n",
    "        sheet['B10'] = GSA_angle_WCS_deg\n",
    "        newdf = df_update[df_update.index=='sMask'][['X','Y','Z']]\n",
    "        newdf.loc['sMask',['X','Y','Z']] = gsa_rot.inv().apply(newdf.loc['sMask',['X','Y','Z']].values.astype(float))\n",
    "        newdf.to_excel(writer,sheet_name=sheet2_name,startrow=11,startcol=1)\n",
    "        endpoints = compute_endpoints(df_update.loc[index_names],pose_select='P')\n",
    "        gsa_coordinates = pd.DataFrame(gsa_rot.inv().apply(endpoints),columns=['X','Y','Z'])\n",
    "        gsa_coordinates.index = index_names\n",
    "        gsa_coordinates.to_excel(writer,sheet_name=sheet2_name,startrow=27,startcol=1)\n",
    "\n",
    "        sheet['B41'] = 'ADM measurements'\n",
    "        p_null_PATB_update_encoder.to_excel(writer, sheet_name=sheet2_name,startrow=43,startcol=1)\n",
    "        \n",
    "        print('**Writing to Excel complete**')\n"
   ]
  },
  {
   "cell_type": "markdown",
   "metadata": {},
   "source": [
    "# 5 Updating poses based on results from FDPR"
   ]
  },
  {
   "cell_type": "markdown",
   "metadata": {},
   "source": [
    "### 5.1 Reading in offset data from the FDPR team's spreadsheet."
   ]
  },
  {
   "cell_type": "code",
   "execution_count": null,
   "metadata": {},
   "outputs": [],
   "source": [
    "#These data will be used to update the position of the calculated endpoints in the sMPA frame\n",
    "shift_data = pd.read_excel('3rd plateau shifts - circuit 2.xlsx',sheet_name='PSF Shifts',skiprows=0,usecols='C:K')\n",
    "shift_data = shift_data.iloc[0:6]\n",
    "shift_data.set_index('camera',inplace=True)\n",
    "print(shift_data)"
   ]
  },
  {
   "cell_type": "markdown",
   "metadata": {},
   "source": [
    "#### 5.1.1 Calculate some transformation variables necessary for converting between the 5DOF and sMPA frame"
   ]
  },
  {
   "cell_type": "code",
   "execution_count": null,
   "metadata": {},
   "outputs": [],
   "source": [
    "translation_to_sMPA = df.loc['sMPA',['X','Y','Z']]\n",
    "rotation_from_sMPA_to_5DOF = R.from_matrix(rotmat_from_2vec(np.array([0,0,1]),df.loc['sMPA',['uvec_X','uvec_Y','uvec_Z']].values.astype(float)))"
   ]
  },
  {
   "cell_type": "markdown",
   "metadata": {},
   "source": [
    "### 5.2 Calculate the new best-fit poses that minimize the deltas observed by the FDPR team"
   ]
  },
  {
   "cell_type": "code",
   "execution_count": null,
   "metadata": {},
   "outputs": [],
   "source": [
    "df_after_fitting_FDPR_shifts,endpoints_residuals_sMPA,best_fit_deltas = pose_update_with_FDPR_results(df,shift_data,focal_length,GSA_angle_WCS_deg,translation_to_sMPA,rotation_from_sMPA_to_5DOF)"
   ]
  },
  {
   "cell_type": "markdown",
   "metadata": {},
   "source": [
    "### 5.3 Convert new best-fit poses to encoder space"
   ]
  },
  {
   "cell_type": "code",
   "execution_count": null,
   "metadata": {},
   "outputs": [],
   "source": [
    "df_after_fitting_FDPR_shifts_in_encoder_space = pd.DataFrame(columns=['X','Y','Z','Rx','Ry'],index=df_after_fitting_FDPR_shifts.index)\n",
    "for pose in [val for val in pose_encoders.index if ('PR' in val) or ('PD' in val)]:\n",
    "    df_after_fitting_FDPR_shifts_in_encoder_space.loc[pose] = calculate_encoders_from_5DOF(pd.DataFrame(df_after_fitting_FDPR_shifts.loc[pose]).T).squeeze()\n",
    "\n",
    "print('New pose encoders, after incorporating the best-fit (x,y,z,Rx,Ry) shift to all poses: \\n',df_after_fitting_FDPR_shifts_in_encoder_space)"
   ]
  }
 ],
 "metadata": {
  "kernelspec": {
   "display_name": "Python 3 (Spyder)",
   "language": "python3",
   "name": "python3"
  },
  "language_info": {
   "codemirror_mode": {
    "name": "ipython",
    "version": 3
   },
   "file_extension": ".py",
   "mimetype": "text/x-python",
   "name": "python",
   "nbconvert_exporter": "python",
   "pygments_lexer": "ipython3",
   "version": "3.11.0"
  }
 },
 "nbformat": 4,
 "nbformat_minor": 4
}
