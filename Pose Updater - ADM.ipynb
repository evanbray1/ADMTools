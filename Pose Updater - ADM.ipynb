{
 "cells": [
  {
   "cell_type": "markdown",
   "metadata": {},
   "source": [
    "# Questions to ask before you start:\n",
    "\n",
    "1. Did you download the latest copy of the ADM Ops Log from Teams? Is the \"Pleateau Name\" column filled out correctly?\n",
    "2. Do you have a file of the input poses ready? Does it contain the table of encoder info on the bottom right, and groundskeeping data in the top left?\n",
    "\n",
    "## Did the script fail or give an error?\n",
    "#### The most common cause of errors is if one of the input files is not formatted properly. \n",
    "1. The first thing I would check is the input pose spreadsheet. \n",
    " * If that spreadsheet was created by a human, there's a chance it was formatted incorrectly and you'll have to do some copy/pasting into the \"Poses - template.xlsx\" file.\n",
    "2. The second thing I would check is the ADM Ops Log. Specifically, the rows where the \"Plateau\" column matches the \"[baseline/update]_ADM_plateau_name\" variables below. \n",
    " * This script pulls ONLY the rows that are indicated with a \"Y\" in the column titled \"Final?\". Did the operator mark the final measuremets approprately? \n",
    " * Sometimes the ADM operator will perform repeated measurements for any number of reasons, so we make sure to mark the \"best\" one in this way. Make sure that for each plateau you have precisely 1 row with a \"Y\" for sMATF LED Pri, sMATF mirror, PATB LED Pri, and PATB mirror. Peter Morey can be of assistance in making sure the Ops Log is formatted correctly."
   ]
  },
  {
   "cell_type": "markdown",
   "metadata": {},
   "source": [
    "## 0 Parameter Definitions"
   ]
  },
  {
   "cell_type": "markdown",
   "metadata": {},
   "source": [
    "#### 0.0.1 Parameters you might want to tweak"
   ]
  },
  {
   "cell_type": "code",
   "execution_count": null,
   "metadata": {},
   "outputs": [],
   "source": [
    "baseline_ADM_plateau_name = 'WFI1' #Plateau name for the baseline ADM data.\n",
    "update_ADM_plateau_name = 'Ramp2ColdSurv'   #Plateau name for the updated ADM data\n",
    "baseline_fname = 'files/Poses - Practice Input.xlsx' #What is the name of the input file? Don't forget to add \"files/\" if it's located in that subdirectory\n",
    "#Name of the tab in the excel file that contains the data for your baseline poses. \n",
    "sheetname = 'Input for Tyler analysis'\n",
    "\n",
    "#PATA or PATB?\n",
    "pat_target = 'B'      \n",
    "\n",
    "#For the sMATF measurements, we used the primary (\"pri\") LED. For the MATF, the nominal plan is to use the redundant (\"red\") LED.\n",
    "matf_led_type_for_baseline = 'red'\n",
    "matf_led_type_for_update = 'red'\n",
    "\n",
    "#What do you want to name the output file?\n",
    "#NOTE, the output spreadsheet from this code should not be used as an input for 'Pose Updater - FDPR.ipynb'.\n",
    "output_filename = 'Poses - ADM Practice Output.xlsx'\n",
    "#Remember the desired format is \"Poses - [name of new circuit, i.e. BA2C3] ADM update from [name of baseline circuit, i.e. BA2C1] - [Your name].xlsx\""
   ]
  },
  {
   "cell_type": "markdown",
   "metadata": {},
   "source": [
    "#### 0.0.2 Parameters you probably won't need to tweak"
   ]
  },
  {
   "cell_type": "code",
   "execution_count": null,
   "metadata": {},
   "outputs": [],
   "source": [
    "z_target = 'mirror'      #Do you want range data to come from the mirror or the retro? Options are \"mirror\" or \"retro\"\n",
    "optimize_PAT_for_imperfect_nulling = True #Optimize the encoder positions for imperfect nulling between sMATF->PAT?\n",
    "\n",
    "pat_led_type = 'pri'\n",
    "adm_log_filepath = 'files/ADM Ops Log.xlsx'"
   ]
  },
  {
   "cell_type": "markdown",
   "metadata": {},
   "source": [
    "---\n",
    "# Below here be math\n",
    "---\n",
    "### 0.1 Ingesting values from the template"
   ]
  },
  {
   "cell_type": "code",
   "execution_count": null,
   "metadata": {
    "scrolled": true
   },
   "outputs": [],
   "source": [
    "%matplotlib notebook\n",
    "import os\n",
    "from adm_library import *"
   ]
  },
  {
   "cell_type": "code",
   "execution_count": null,
   "metadata": {},
   "outputs": [],
   "source": [
    "spreadsheet = pd.read_excel(baseline_fname,sheet_name=sheetname,skiprows=1,usecols='B:N')\n",
    "\n",
    "focal_length = spreadsheet.iloc[0][0]-110 # focal length is track length -110mm, per TG\n",
    "sMPA_to_WCS = spreadsheet.iloc[3,:3].astype(float)\n",
    "sMPA_angle_to_WCS_deg = spreadsheet.iloc[6,:3].astype(float)\n",
    "sMPA_angle_to_WCS_deg.name = 'sMPA XYZ Euler angle to WCS'\n",
    "GSA_angle_WCS_deg = spreadsheet.iloc[7][0]\n",
    "sMask=np.array(spreadsheet.iloc[10,1:4]).astype(float)"
   ]
  },
  {
   "cell_type": "markdown",
   "metadata": {},
   "source": [
    "## Read in the poses themselves"
   ]
  },
  {
   "cell_type": "code",
   "execution_count": null,
   "metadata": {},
   "outputs": [],
   "source": [
    "spreadsheet = pd.read_excel(baseline_fname,sheet_name=sheetname,skiprows=15,usecols='B:S')\n",
    "\n",
    "#Identify how many poses there are in the input spreadsheet, by identifying the first row at which there is no pose name\n",
    "num_poses = np.where(pd.isnull(spreadsheet['Name.1']) == True)[0].min()\n",
    "\n",
    "pose_actual = spreadsheet.iloc[0:num_poses,0:6]\n",
    "pose_actual = pose_actual.set_index('Name')\n",
    "pose_actual.columns = ['X','Y','Z','Rx','Ry']\n",
    "X_5DOF,Y_5DOF,Z_5DOF,rx_deg_5DOF,ry_deg_5DOF = [[*pose_actual['X'].values.astype(float)],[*pose_actual['Y'].values.astype(float)],[*pose_actual['Z'].values.astype(float)],\n",
    "                                                [*pose_actual['Rx'].values.astype(float)],[*pose_actual['Ry'].values.astype(float)]]\n",
    "\n",
    "#Depending on the origin of the input spreadsheet, the desired encoder values are in a different place.\n",
    "if sheetname == 'Input for Tyler analysis':\n",
    "    pose_encoders = spreadsheet.iloc[0:num_poses,7:13]\n",
    "elif sheetname == 'update':\n",
    "    pose_encoders = spreadsheet.iloc[0:num_poses,12:18]\n",
    "else:\n",
    "    pose_encoders = spreadsheet.iloc[0:num_poses,7:13]\n",
    "    \n",
    "#Rename the columns because by default, each column header got a \".1\" added to the end\n",
    "new_columns=[]\n",
    "for column in pose_encoders.columns:\n",
    "    new_columns.append(column[:-2])\n",
    "pose_encoders.columns = new_columns\n",
    "pose_encoders = pose_encoders.set_index('Name')\n",
    "\n",
    "print('Provided 5DOF position in real space: \\n',pose_actual,'\\n')\n",
    "print('Provided 5DOF encoder values: \\n',pose_encoders)\n"
   ]
  },
  {
   "cell_type": "markdown",
   "metadata": {},
   "source": [
    "### 0.1.1 If both the pose_actual and pose_encoder arrays are provided in the spreadsheet above, convert between the two to make sure they both agree. "
   ]
  },
  {
   "cell_type": "code",
   "execution_count": null,
   "metadata": {},
   "outputs": [],
   "source": [
    "#No point doing the following if one or the other array is completely empty\n",
    "if (any(np.isfinite(pose_encoders.values.ravel().astype(float)))) and (any(np.isfinite(pose_actual.values.ravel().astype(float)))):\n",
    "\n",
    "    print('(Calculated 5DOF position) - (Actual 5DOF position (from the spreadsheet)): ')\n",
    "    calculated_pose_actual = pd.DataFrame(columns=pose_actual.columns)\n",
    "    for index in pose_encoders.index:\n",
    "        calculated_pose_actual = pd.concat((calculated_pose_actual,calculate_5DOF_from_encoders(pd.DataFrame(pose_encoders.loc[index]).T)))\n",
    "    print(calculated_pose_actual-pose_actual,'\\n\\n')\n",
    "    \n",
    "    print('(Calculated 5DOF encoders) - (Actual 5DOF encoders (from the spreadsheet)): ')\n",
    "    calculated_pose_encoders = pd.DataFrame(columns=pose_encoders.columns)\n",
    "    for index in pose_encoders.index:\n",
    "        calculated_pose_encoders = pd.concat((calculated_pose_encoders,calculate_encoders_from_5DOF(pd.DataFrame(pose_actual.loc[index]).T)))\n",
    "    print(calculated_pose_encoders-pose_encoders)"
   ]
  },
  {
   "cell_type": "markdown",
   "metadata": {},
   "source": [
    "### 0.2 If the \"pose_actual\" section of the supplied spreadsheet was empty, build a new \"pose_actual\" array based on the input \"pose_encoder\" array."
   ]
  },
  {
   "cell_type": "code",
   "execution_count": null,
   "metadata": {},
   "outputs": [],
   "source": [
    "if not any(np.isfinite(pose_actual.values.astype(float)).ravel()):\n",
    "    pose_actual = convert_pose_encoders_to_pose_actual(pose_encoders)\n",
    "    print('NEWLY calculated 5DOF position in real space based on recorded 5DOF encoder values: \\n',pose_actual)"
   ]
  },
  {
   "cell_type": "markdown",
   "metadata": {},
   "source": [
    "# 1. Updating Poses with ADM Data"
   ]
  },
  {
   "cell_type": "markdown",
   "metadata": {},
   "source": [
    "## 1.1 ADM Baseline  "
   ]
  },
  {
   "cell_type": "markdown",
   "metadata": {},
   "source": [
    "#### 1.1.1 Input your baseline ADM values"
   ]
  },
  {
   "cell_type": "code",
   "execution_count": null,
   "metadata": {},
   "outputs": [],
   "source": [
    "p_null_PAT_baseline_encoder = get_data_from_ADM_log(baseline_ADM_plateau_name,z_type=z_target,pat_target = pat_target,\n",
    "                                                    matf_led_type=matf_led_type_for_baseline,pat_led_type=pat_led_type,\n",
    "                                                    index_name='PAT'+pat_target,print_details=True,filepath=adm_log_filepath) \n",
    "p_null_PAT_baseline = calculate_5DOF_from_encoders(p_null_PAT_baseline_encoder)\n",
    "\n",
    "if pat_target=='B':\n",
    "    p_null_offset = np.array([-90.,-110.,-10.]) #PATB is not on the POA boresight. It is offset by this much\n",
    "elif pat_target=='A':\n",
    "    p_null_offset = np.array([90.,-110.,-10.])\n",
    "p_null_PAT_baseline_encoder\n"
   ]
  },
  {
   "cell_type": "markdown",
   "metadata": {},
   "source": [
    "### 1.1.2 Update the PAT pose to account for imperfect nulling."
   ]
  },
  {
   "cell_type": "code",
   "execution_count": null,
   "metadata": {},
   "outputs": [],
   "source": [
    "#Apply a correction to account for imperfect nulling between PATB/sMATF and overwrite the values in the p_null_PAT_baseline_encoder DataFrame with the optimal ones.\n",
    "\n",
    "#Save a copy of the p_null_PATB dataframe, which we'll write to an Excel file later\n",
    "p_null_PAT_baseline_encoder_original = p_null_PAT_baseline_encoder.copy()\n",
    "if optimize_PAT_for_imperfect_nulling == True:\n",
    "    print(p_null_PAT_baseline_encoder.squeeze(),'\\n')\n",
    "    p_null_PAT_baseline_encoder = optimize_p_null_PAT_encoders(p_null_PAT_baseline_encoder,p_null_offset)\n",
    "    p_null_PAT_baseline = calculate_5DOF_from_encoders(p_null_PAT_baseline_encoder)\n",
    "    print('\\n',p_null_PAT_baseline_encoder.squeeze())"
   ]
  },
  {
   "cell_type": "markdown",
   "metadata": {},
   "source": [
    "#### 1.1.5 Form a dataframe with the values supplied so far"
   ]
  },
  {
   "cell_type": "code",
   "execution_count": null,
   "metadata": {},
   "outputs": [],
   "source": [
    "#Generate a dataframe where we will store some parameters for each pose\n",
    "columns = ['X','Y','Z','Rx','Ry']\n",
    "df = pose_actual\n",
    "df['color']='crimson'\n",
    "\n",
    "gsa_rot = R.from_euler('x',GSA_angle_WCS_deg, degrees=True)\n",
    "df.loc['sMask',['X','Y','Z']] = gsa_rot.apply(sMask)\n",
    "df.loc['sMask','color'] = 'g'\n",
    "\n",
    "dz_baseline = p_null_PAT_baseline_encoder.loc['PAT'+pat_target,'z_s/MATF'] - \\\n",
    "    p_null_PAT_baseline_encoder.loc['PAT'+pat_target,'z_PAT']\n",
    "df = pd.concat([df,p_null_PAT_baseline])\n",
    "print(p_null_PAT_baseline)\n",
    "df.loc['PAT'+pat_target,'color']='darkblue'\n",
    "\n",
    "df.loc['sMPA',['X','Y','Z']] = sMPA_to_WCS.values.astype(float)\n",
    "df.loc['sMPA','color']='purple'\n",
    "\n",
    "for pose in df.index:\n",
    "    update_uvec(df,pose,length=focal_length,rotangle=GSA_angle_WCS_deg)\n",
    "    if 'PDI' in pose:\n",
    "        df.loc[pose,'color'] = 'yellow'\n",
    "\n",
    "# create normal vector to sMPA\n",
    "vec = np.array([0,0,1])\n",
    "rotmat = R.from_euler('XYZ',sMPA_angle_to_WCS_deg, degrees=True)\n",
    "df.loc['sMPA',['uvec_X','uvec_Y','uvec_Z']] = rotmat.apply(vec)\n",
    "\n",
    "#ax = plot_poses(df)\n",
    "#plot_sMPA(df, ax)\n",
    "df"
   ]
  },
  {
   "cell_type": "markdown",
   "metadata": {},
   "source": [
    "#### 1.1.6 Calculate the center of the sMATF flat in 5DOF coordinate system (currently assumes PATB is on-axis and aligned with GSA)"
   ]
  },
  {
   "cell_type": "code",
   "execution_count": null,
   "metadata": {},
   "outputs": [],
   "source": [
    "start_coords = np.array(df.loc['PAT'+pat_target,['X','Y','Z']])\n",
    "\n",
    "rx = df.loc['PAT'+pat_target,'Rx']\n",
    "ry = df.loc['PAT'+pat_target,'Ry']\n",
    "print(rx,ry)\n",
    "gsa_rot = R.from_euler('XY',[rx+GSA_angle_WCS_deg,ry], degrees=True)\n",
    "uvec = np.array([0.,0.,dz_baseline]+p_null_offset)\n",
    "rot_uvec = gsa_rot.apply(uvec) #np.dot(gsa_rot.as_matrix(),uvec)\n",
    "\n",
    "sMATF_coords = start_coords+rot_uvec\n",
    "\n",
    "df.loc['MATF',['X','Y','Z']]=sMATF_coords\n",
    "df.loc['MATF',['Rx','Ry']]=df.loc['PAT'+pat_target,['Rx','Ry']]\n",
    "df.loc['MATF','color']='orange'\n",
    "update_uvec(df,'MATF',length=dz_baseline,rotangle=GSA_angle_WCS_deg)\n",
    "#ax = plot_poses(df)\n",
    "#plot_sMPA(df, ax)\n",
    "df"
   ]
  },
  {
   "cell_type": "markdown",
   "metadata": {},
   "source": [
    "## 1.2 ADM Update"
   ]
  },
  {
   "cell_type": "markdown",
   "metadata": {},
   "source": [
    "Now the system has undergone some kind of change that will cause the ADM measurements to be different, such as shimming the sWFI or cooling from ambient to operational temps. We need to use the new set of ADM sMATF/PATB measurements to update the calculated poses for PRs 1-5.\n",
    "\n",
    "Now update all poses from this new PATB pose; this is the recipe that would be followed for real data"
   ]
  },
  {
   "cell_type": "markdown",
   "metadata": {},
   "source": [
    "#### 1.2.1 Input new ADM data for the sMATF and PATB and convert to 5DOF actual space"
   ]
  },
  {
   "cell_type": "code",
   "execution_count": null,
   "metadata": {},
   "outputs": [],
   "source": [
    "p_null_PAT_update_encoder = get_data_from_ADM_log(update_ADM_plateau_name,z_type=z_target,pat_target = pat_target,\n",
    "                                                  matf_led_type=matf_led_type_for_update,pat_led_type=pat_led_type,\n",
    "                                                  index_name='PAT'+pat_target+'_update',print_details=True,filepath=adm_log_filepath)\n",
    "#Identify whether we're working with the sMATF or MATF\n",
    "if 'sMATF AC AZ' in p_null_PAT_update_encoder.columns:\n",
    "    matf_target_update = 'sMATF'\n",
    "elif 'MATF AC AZ' in p_null_PAT_update_encoder.columns:\n",
    "    matf_target_update = 'MATF'\n",
    "\n",
    "p_null_PAT_update = calculate_5DOF_from_encoders(p_null_PAT_update_encoder)\n",
    "p_null_PAT_update"
   ]
  },
  {
   "cell_type": "markdown",
   "metadata": {},
   "source": [
    "### 1.2.2 Update the PATB pose to account for imperfect nulling"
   ]
  },
  {
   "cell_type": "code",
   "execution_count": null,
   "metadata": {},
   "outputs": [],
   "source": [
    "#Apply a correction to account for imperfect nulling between PATB/sMATF and overwrite the values in the p_null_PAT_baseline_encoder DataFrame with the optimal ones.\n",
    "\n",
    "#Save a copy of the p_null_PATB dataframe, which we'll write to an Excel file later\n",
    "p_null_PAT_update_encoder_original = p_null_PAT_update_encoder.copy()\n",
    "\n",
    "if optimize_PAT_for_imperfect_nulling == True:\n",
    "    p_null_PAT_update_encoder = optimize_p_null_PAT_encoders(p_null_PAT_update_encoder,p_null_offset)\n",
    "    p_null_PAT_update = calculate_5DOF_from_encoders(p_null_PAT_update_encoder)"
   ]
  },
  {
   "cell_type": "markdown",
   "metadata": {},
   "source": [
    "#### 1.2.2 Use the newly-provided data to calculate an updated position for PATB and sMATF"
   ]
  },
  {
   "cell_type": "code",
   "execution_count": null,
   "metadata": {},
   "outputs": [],
   "source": [
    "dz_update = p_null_PAT_update_encoder.loc['PAT'+pat_target+'_update','z_s/MATF'] - \\\n",
    "    p_null_PAT_update_encoder.loc['PAT'+pat_target+'_update','z_PAT'] + \\\n",
    "    (p_null_PAT_update_encoder.loc['PAT'+pat_target+'_update',['Y']]-p_null_PAT_baseline_encoder.loc['PAT'+pat_target,['Y']]).values[0]*np.sin(np.deg2rad(GSA_angle_WCS_deg+p_null_PAT_update_encoder.loc['PAT'+pat_target+'_update',['Rx']].astype(float).values[0]))\n",
    "df = pd.concat([df,p_null_PAT_update])\n",
    "df.loc['PAT'+pat_target+'_update','color'] = 'purple'\n",
    "update_uvec(df,'PAT'+pat_target+'_update',length=focal_length,rotangle=GSA_angle_WCS_deg)\n",
    "\n",
    "start_coords = np.array(df.loc['PAT'+pat_target+'_update',['X','Y','Z']])\n",
    "\n",
    "rx = df.loc['PAT'+pat_target+'_update','Rx']\n",
    "ry = df.loc['PAT'+pat_target+'_update','Ry']\n",
    "gsa_rot = R.from_euler('XY',[rx+GSA_angle_WCS_deg,ry], degrees=True)\n",
    "uvec = [0.,0.,dz_update]+p_null_offset # in GSA CS\n",
    "rot_uvec = gsa_rot.apply(uvec) #np.dot(gsa_rot.as_matrix(),uvec)\n",
    "\n",
    "sMATF_update_coords = start_coords+rot_uvec\n",
    "\n",
    "df.loc['sMATF_update',['X','Y','Z']]=sMATF_update_coords\n",
    "df.loc['sMATF_update',['Rx','Ry']]=df.loc['PAT'+pat_target+'_update',['Rx','Ry']]\n",
    "df.loc['sMATF_update','color']='brown'\n",
    "update_uvec(df,'sMATF_update',length=dz_update,rotangle=GSA_angle_WCS_deg)\n",
    "#ax = plot_poses(df)\n",
    "#plot_sMPA(df, ax)\n",
    "print('Baseline poses')\n",
    "df\n"
   ]
  },
  {
   "cell_type": "code",
   "execution_count": null,
   "metadata": {},
   "outputs": [],
   "source": [
    "#How did the distance between PATB and sMATF change from pre- to post-environment shift?\n",
    "print('PAT'+pat_target+'->sMATF distance changed by: ',dz_update-dz_baseline, ' mm')"
   ]
  },
  {
   "cell_type": "markdown",
   "metadata": {},
   "source": [
    "## 1.3 Calculate sMATF and PAT deltas"
   ]
  },
  {
   "cell_type": "code",
   "execution_count": null,
   "metadata": {},
   "outputs": [],
   "source": [
    "sMATF_delta = df.loc['sMATF_update',['X','Y','Z']] - df.loc['MATF',['X','Y','Z']]\n",
    "#sMATF_delta.loc['Z'] += \n",
    "print('MATF (X,Y,Z) deltas: \\n',sMATF_delta,'\\n')\n",
    "\n",
    "patb_delta = df.loc['PAT'+pat_target+'_update',['X','Y','Z','Rx','Ry']] - df.loc['PAT'+pat_target,['X','Y','Z','Rx','Ry']]\n",
    "#patb_drxry = df.loc['PATB_update',['Rx','Ry']] - df.loc['PATB',['Rx','Ry']]\n",
    "print('PAT'+pat_target+' (X,Y,Z,Rx,Ry) deltas: \\n',patb_delta,'\\n')"
   ]
  },
  {
   "cell_type": "markdown",
   "metadata": {},
   "source": [
    "## 1.4 Transform old poses to the new sMATF reference frame"
   ]
  },
  {
   "cell_type": "markdown",
   "metadata": {},
   "source": [
    "### 1.4.1 Apply a translation to all poses"
   ]
  },
  {
   "cell_type": "code",
   "execution_count": null,
   "metadata": {},
   "outputs": [],
   "source": [
    "df_update = df.copy()\n",
    "T = df.loc['sMATF_update',['X','Y','Z']]\n",
    "df_update[['X','Y','Z']] -= T\n",
    "print('Translation required to put sMATF_update at the origin: \\n',T)"
   ]
  },
  {
   "cell_type": "markdown",
   "metadata": {},
   "source": [
    "### 1.4.2 Now perform 3 rotations to all the poses:\n",
    "1. To align to the sMATF frame\n",
    "2. To rotate everything by delta(Rx,Ry)\n",
    "3. To undo #1"
   ]
  },
  {
   "cell_type": "code",
   "execution_count": null,
   "metadata": {},
   "outputs": [],
   "source": [
    "update_rot1 = R.from_euler('XY',[df.loc['PAT'+pat_target,'Rx']+GSA_angle_WCS_deg,df.loc['PAT'+pat_target,'Ry']], degrees=True)\n",
    "update_rot2 = R.from_euler('XY',[patb_delta.loc['Rx'],patb_delta.loc['Ry']], degrees=True)\n",
    "update_rot_combined = update_rot1 * update_rot2 * update_rot1.inv()\n",
    "                                \n",
    "for pose in df_update.index:\n",
    "                                \n",
    "    df_update.loc[pose,['X','Y','Z']]=update_rot_combined.apply(df_update.loc[pose,['X','Y','Z']].astype(float)) #np.dot(update_rot.as_matrix(),df_update.loc[pose,['X','Y','Z']])\n",
    "    df_update.loc[pose,['uvec_X','uvec_Y','uvec_Z']] = update_rot_combined.apply(df_update.loc[pose,['uvec_X','uvec_Y','uvec_Z']].astype(float)) \n",
    "    if pose not in ['sMask','sMPA']:\n",
    "        update_RxRy(df_update,pose,GSA_angle_WCS_deg)\n"
   ]
  },
  {
   "cell_type": "markdown",
   "metadata": {},
   "source": [
    "### 1.4.3 Translate back to the 5DOF frame by undoing the translation from Cell 1.4.1, followed by adding the sMATF delta(X,Y,Z) offset from Cell 1.3"
   ]
  },
  {
   "cell_type": "code",
   "execution_count": null,
   "metadata": {},
   "outputs": [],
   "source": [
    "df_update[['X','Y','Z']] += T\n",
    "df_update.loc[df_update.index[:12],['X','Y','Z']] += update_rot_combined.apply(sMATF_delta.astype(float)) #np.dot(update_rot.as_matrix(),delta)\n",
    "#ax = plot_poses(df_update)\n",
    "#plot_sMPA(df_update, ax)\n",
    "print('Updated poses')\n",
    "df_update"
   ]
  },
  {
   "cell_type": "markdown",
   "metadata": {},
   "source": [
    "# 1.4 >>>>Results<<<<"
   ]
  },
  {
   "cell_type": "markdown",
   "metadata": {},
   "source": [
    "#### 1.4.1 Converting poses from real space to encoder space"
   ]
  },
  {
   "cell_type": "code",
   "execution_count": null,
   "metadata": {},
   "outputs": [],
   "source": [
    "ignored_poses = ['sMask','PATB','PATA','sMPA','sMATF','MATF','PATB_update','PATA_update','sMATF_update','MATF_update']\n",
    "df_update_encoder_space = convert_df_to_encoder_space(df_update,pose_select='',ignored_poses=ignored_poses)\n",
    "print('Poses calculated using PAT'+pat_target+' and the PAT '+z_target)\n",
    "print('Updated Poses (in encoder space): \\n',df_update_encoder_space,'\\n\\n')\n",
    "\n",
    "print('Baseline Poses (in encoder space), just for easy reference: \\n',pose_encoders)"
   ]
  },
  {
   "cell_type": "markdown",
   "metadata": {},
   "source": [
    "#### (OPTIONAL) 1.4.2 Display some other tables that may be helpful for diagnostics"
   ]
  },
  {
   "cell_type": "code",
   "execution_count": null,
   "metadata": {},
   "outputs": [],
   "source": [
    "print_extra_diagnostics = True\n",
    "poses_to_display = [val for val in df.index if val not in ignored_poses]+['sMask', 'sMPA']\n",
    "\n",
    "if print_extra_diagnostics == True:\n",
    "    print('Baseline Poses (in real space): \\n',df.loc[poses_to_display,['X','Y','Z','Rx','Ry']],'\\n\\n')\n",
    "    print('Updated Poses (in real space): \\n',df_update.loc[poses_to_display,['X','Y','Z','Rx','Ry']], '\\n\\n')\n",
    "    print('Deltas between Baseline/Updated poses (in real space): \\n',-df.loc[poses_to_display,['X','Y','Z','Rx','Ry']] + df_update.loc[poses_to_display,['X','Y','Z','Rx','Ry']], '\\n\\n')\n",
    "    print('Change in calculated endpoint positions (5DOF frame): \\n',compute_endpoint_errors(df,df_update,pose_select='',ignored_poses=ignored_poses),'\\n\\n')\n",
    "    if sheetname == 'Input for Tyler analysis':\n",
    "        print('Change in calculated endpoint positions (sMPA frame): \\n',compute_endpoint_errors_sMPA_frame(df,df_update,pose_select='',ignored_poses=ignored_poses),'\\n\\n')\n",
    "        print('Distance from pose focus to sMPA: \\n\\n',compute_distance_to_sMPA(df,pose_select=''),'\\n\\n')  \n",
    "    print('Verify that all poses intersect at the pupil in the same way before and after the update:')\n",
    "    print(check_pupil_crossing([df,df_update]),'\\n\\n')\n",
    "    "
   ]
  },
  {
   "cell_type": "markdown",
   "metadata": {},
   "source": [
    "# 2 Write the new poses to an Excel file in the current directory"
   ]
  },
  {
   "cell_type": "code",
   "execution_count": null,
   "metadata": {},
   "outputs": [],
   "source": [
    "write_to_excel = True\n",
    "\n",
    "if write_to_excel == True:\n",
    "    write_new_poses_to_Excel(output_filename,'',update_type='ADM',baseline_filepath=baseline_fname,\n",
    "                             columns=columns,sMPA_angle_to_WCS_deg=sMPA_angle_to_WCS_deg,GSA_angle_WCS_deg=GSA_angle_WCS_deg,\n",
    "                             baseline_ADM_plateau_name=baseline_ADM_plateau_name,update_ADM_plateau_name=update_ADM_plateau_name,\n",
    "                             df=df,df_encoders=pose_encoders,df_update=df_update,df_update_encoders=df_update_encoder_space,\n",
    "                            focal_length=focal_length,num_poses=num_poses,p_null_PAT_baseline_encoder_original=p_null_PAT_baseline_encoder_original,\n",
    "                            p_null_PAT_update_encoder_original=p_null_PAT_update_encoder_original,\n",
    "                            ignored_poses=ignored_poses)"
   ]
  }
 ],
 "metadata": {
  "kernelspec": {
   "display_name": "Python 3 (Spyder)",
   "language": "python3",
   "name": "python3"
  },
  "language_info": {
   "codemirror_mode": {
    "name": "ipython",
    "version": 3
   },
   "file_extension": ".py",
   "mimetype": "text/x-python",
   "name": "python",
   "nbconvert_exporter": "python",
   "pygments_lexer": "ipython3",
   "version": "3.11.0"
  }
 },
 "nbformat": 4,
 "nbformat_minor": 4
}
