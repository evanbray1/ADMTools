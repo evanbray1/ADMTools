{
 "cells": [
  {
   "cell_type": "markdown",
   "metadata": {},
   "source": [
    "# Questions to ask before you start:"
   ]
  },
  {
   "cell_type": "markdown",
   "metadata": {},
   "source": [
    "1. Did you download the latest copy of the ADM Ops Log from Teams?\n",
    "2. Do you have a file of the input poses ready?"
   ]
  },
  {
   "cell_type": "markdown",
   "metadata": {},
   "source": [
    "## 0 Parameter Definitions"
   ]
  },
  {
   "cell_type": "markdown",
   "metadata": {},
   "source": [
    "#### 0.0.1 Parameters you'll need to tweak"
   ]
  },
  {
   "cell_type": "code",
   "execution_count": 1,
   "metadata": {},
   "outputs": [],
   "source": [
    "baseline_ADM_plateau_name = 'BA8' #Plateau name for the baseline ADM data.\n",
    "update_ADM_plateau_name = 'BA9'   #Plateau name for the updated ADM data\n",
    "baseline_fname = 'files/_temp input poses.xlsx' #What is the name of the input file? Don't forget to add \"files/\" if it's located in that subdirectory\n",
    "\n",
    "output_filename = '_temp output poses.xlsx' #What do you want to name the output file? \n",
    "#Remember the desired format is \"Poses - [name of new circuit, i.e. BA2C3] ADM update from [name of baseline circuit, i.e. BA2C1] - [Your name].xlsx\""
   ]
  },
  {
   "cell_type": "markdown",
   "metadata": {},
   "source": [
    "#### 0.0.2 Parameters you probably won't need to tweak"
   ]
  },
  {
   "cell_type": "code",
   "execution_count": 2,
   "metadata": {},
   "outputs": [],
   "source": [
    "pat_target = 'B'         #Which PAT target do you want to use for the update? \n",
    "z_target = 'mirror'      #Do you want range data to come from the mirror or the retro?\n",
    "optimize_PAT_for_imperfect_nulling = True #Optimize the encoder positions for imperfect nulling between sMATF->PAT?\n",
    "\n",
    "#Name of the tab in th excel file that contains the data for your baseline poses. \n",
    "#If you're using a spreadsheet that was generated using this code, you'll want to use the 'update' tab. \n",
    "#If you're using a spreadsheet that came from Manal, chances are the tab is named 'input for Tyler analysis' or something\n",
    "sheetname = 'update'"
   ]
  },
  {
   "cell_type": "markdown",
   "metadata": {},
   "source": [
    "### 0.1 Ingesting values from the template"
   ]
  },
  {
   "cell_type": "code",
   "execution_count": 3,
   "metadata": {
    "scrolled": true
   },
   "outputs": [
    {
     "name": "stdout",
     "output_type": "stream",
     "text": [
      "Warning: Cannot change to a different GUI toolkit: notebook. Using qt5 instead.\n"
     ]
    }
   ],
   "source": [
    "%matplotlib notebook\n",
    "import os\n",
    "from adm_library import *"
   ]
  },
  {
   "cell_type": "code",
   "execution_count": 4,
   "metadata": {},
   "outputs": [
    {
     "name": "stdout",
     "output_type": "stream",
     "text": [
      "Provided 5DOF position in real space: \n",
      "                X          Y          Z        Rx         Ry\n",
      "Name                                                       \n",
      "PR1     1.129985    0.72747   1.232735  0.068028   0.026284\n",
      "PR2  -109.321459 -46.437929  23.894719    -4.875  10.671451\n",
      "PR3   111.493376 -45.937709  23.616555 -4.820656 -10.609137\n",
      "PR4   103.256807  59.195421  32.320005  5.344696  -10.32082\n",
      "PR5  -101.250577  58.826217  32.401763  5.306222   10.40122 \n",
      "\n",
      "Provided 5DOF encoder values: \n",
      "                X          Y          Z        Rx         Ry\n",
      "Name                                                       \n",
      "PR1     1.106244   0.769616   1.212657  0.068746   0.028368\n",
      "PR2  -109.227043 -46.488631  23.780078 -4.874928  10.670479\n",
      "PR3   111.446144 -45.628079  23.705093 -4.819084 -10.608861\n",
      "PR4   103.065882  59.420898  32.509522  5.349615 -10.318354\n",
      "PR5  -101.308187  58.694581  32.398166  5.305656   10.40208\n"
     ]
    }
   ],
   "source": [
    "adm_log_filepath = 'files/ADM Ops Log.xlsx'\n",
    "\n",
    "spreadsheet = pd.read_excel(baseline_fname,sheet_name=sheetname,skiprows=1,usecols='B:N')\n",
    "\n",
    "focal_length = spreadsheet.iloc[0][0]-110 # focal length is track length -110mm, per TG\n",
    "sMPA_to_WCS = spreadsheet.iloc[3,:3].astype(float)\n",
    "sMPA_angle_to_WCS_deg = spreadsheet.iloc[6,:3].astype(float)\n",
    "GSA_angle_WCS_deg = spreadsheet.iloc[7][0]\n",
    "sMask=np.array(spreadsheet.iloc[10,1:4]).astype(float)\n",
    "\n",
    "spreadsheet = pd.read_excel(baseline_fname,sheet_name=sheetname,skiprows=15,usecols='B:S')\n",
    "pose_actual = spreadsheet.iloc[0:5,0:6]\n",
    "pose_actual = pose_actual.set_index('Name').sort_index()\n",
    "pose_actual.columns = ['X','Y','Z','Rx','Ry']\n",
    "X_5DOF,Y_5DOF,Z_5DOF,rx_deg_5DOF,ry_deg_5DOF = [[*pose_actual['X'].values.astype(float)],[*pose_actual['Y'].values.astype(float)],[*pose_actual['Z'].values.astype(float)],\n",
    "                                                [*pose_actual['Rx'].values.astype(float)],[*pose_actual['Ry'].values.astype(float)]]\n",
    "\n",
    "#Depending on the origin of the input spreadsheet, the desired encoder values are in a different place.\n",
    "if sheetname == 'Input for Tyler analysis':\n",
    "    pose_encoders = spreadsheet.iloc[0:5,7:13]\n",
    "elif sheetname == 'update':\n",
    "    pose_encoders = spreadsheet.iloc[0:5,12:18]\n",
    "    \n",
    "#Rename the columns because by default, each column header got a \".1\" added to the end\n",
    "new_columns=[]\n",
    "for column in pose_encoders.columns:\n",
    "    new_columns.append(column[:-2])\n",
    "pose_encoders.columns = new_columns\n",
    "pose_encoders = pose_encoders.set_index('Name').sort_index()\n",
    "\n",
    "print('Provided 5DOF position in real space: \\n',pose_actual,'\\n')\n",
    "print('Provided 5DOF encoder values: \\n',pose_encoders)\n"
   ]
  },
  {
   "cell_type": "markdown",
   "metadata": {},
   "source": [
    "### 0.1.1 If both the pose_actual and pose_encoder arrays are provided in the spreadsheet above, convert between the two to make sure they both agree. "
   ]
  },
  {
   "cell_type": "code",
   "execution_count": 5,
   "metadata": {},
   "outputs": [],
   "source": [
    "#No point doing the following if one or the other array is completely empty\n",
    "if (not any(np.isfinite(pose_encoders.values.astype(float)).ravel())) and (not any(np.isfinite(pose_actual.values.astype(float)).ravel())):\n",
    "\n",
    "    print('(Calculated 5DOF position) - (Actual 5DOF position (from the spreadsheet)): ')\n",
    "    calculated_pose_actual = pd.DataFrame(columns=pose_actual.columns)\n",
    "    for index in [val for val in pose_actual.index if ('PR' in val) or ('PD' in val)]:\n",
    "        calculated_pose_actual = pd.concat((calculated_pose_actual,calculate_5DOF_from_encoders(pd.DataFrame(pose_encoders.loc[index]).T)))\n",
    "    print(calculated_pose_actual-pose_actual,'\\n\\n')\n",
    "    \n",
    "    print('(Calculated 5DOF encoders) - (Actual 5DOF encoders (from the spreadsheet)): ')\n",
    "    calculated_pose_encoders = pd.DataFrame(columns=pose_encoders.columns)\n",
    "    for index in [val for val in pose_encoders.index if ('PR' in val) or ('PD' in val)]:\n",
    "        calculated_pose_encoders = pd.concat((calculated_pose_encoders,calculate_encoders_from_5DOF(pd.DataFrame(pose_actual.loc[index]).T)))\n",
    "    print(calculated_pose_encoders-pose_encoders)"
   ]
  },
  {
   "cell_type": "markdown",
   "metadata": {},
   "source": [
    "### 0.2 If the \"pose_actual\" section of the supplied spreadsheet was empty, build a new \"pose_actual\" array based on the input \"pose_encoder\" array."
   ]
  },
  {
   "cell_type": "code",
   "execution_count": 6,
   "metadata": {},
   "outputs": [],
   "source": [
    "if not any(np.isfinite(pose_actual.values.astype(float)).ravel()):\n",
    "    pose_actual = convert_pose_encoders_to_pose_actual(pose_encoders)\n",
    "    print('NEWLY calculated 5DOF position in real space based on recorded 5DOF encoder values: \\n',pose_actual)"
   ]
  },
  {
   "cell_type": "markdown",
   "metadata": {},
   "source": [
    "# 1. Updating Poses with ADM Data"
   ]
  },
  {
   "cell_type": "markdown",
   "metadata": {},
   "source": [
    "## 1.1 ADM Baseline  "
   ]
  },
  {
   "cell_type": "markdown",
   "metadata": {},
   "source": [
    "#### 1.1.1 Input your baseline ADM values"
   ]
  },
  {
   "cell_type": "code",
   "execution_count": 7,
   "metadata": {},
   "outputs": [
    {
     "name": "stdout",
     "output_type": "stream",
     "text": [
      "X                               88.796\n",
      "Y                              108.686\n",
      "Z                                0.002\n",
      "Rx                              0.1047\n",
      "Ry                              0.0822\n",
      "z_sMATF                       4024.114\n",
      "z_PAT                         3474.389\n",
      "z_type                          mirror\n",
      "sMATF AC AZ                    -0.0042\n",
      "sMATF AC EL                     0.0056\n",
      "PAT AC AZ                      -0.0049\n",
      "PAT AC EL                       0.0056\n",
      "sMATF Pri LED X               813.1055\n",
      "sMATF Pri LED Y                597.623\n",
      "PAT Pri LED X                  812.201\n",
      "PAT Pri LED Y                  598.029\n",
      "date               2023-06-15 00:00:00\n",
      "Name: PATB, dtype: object\n"
     ]
    },
    {
     "data": {
      "text/html": [
       "<div>\n",
       "<style scoped>\n",
       "    .dataframe tbody tr th:only-of-type {\n",
       "        vertical-align: middle;\n",
       "    }\n",
       "\n",
       "    .dataframe tbody tr th {\n",
       "        vertical-align: top;\n",
       "    }\n",
       "\n",
       "    .dataframe thead th {\n",
       "        text-align: right;\n",
       "    }\n",
       "</style>\n",
       "<table border=\"1\" class=\"dataframe\">\n",
       "  <thead>\n",
       "    <tr style=\"text-align: right;\">\n",
       "      <th></th>\n",
       "      <th>X</th>\n",
       "      <th>Y</th>\n",
       "      <th>Z</th>\n",
       "      <th>Rx</th>\n",
       "      <th>Ry</th>\n",
       "      <th>z_sMATF</th>\n",
       "      <th>z_PAT</th>\n",
       "      <th>z_type</th>\n",
       "      <th>sMATF AC AZ</th>\n",
       "      <th>sMATF AC EL</th>\n",
       "      <th>PAT AC AZ</th>\n",
       "      <th>PAT AC EL</th>\n",
       "      <th>sMATF Pri LED X</th>\n",
       "      <th>sMATF Pri LED Y</th>\n",
       "      <th>PAT Pri LED X</th>\n",
       "      <th>PAT Pri LED Y</th>\n",
       "      <th>date</th>\n",
       "    </tr>\n",
       "  </thead>\n",
       "  <tbody>\n",
       "    <tr>\n",
       "      <th>PATB</th>\n",
       "      <td>88.796</td>\n",
       "      <td>108.686</td>\n",
       "      <td>0.002</td>\n",
       "      <td>0.1047</td>\n",
       "      <td>0.0822</td>\n",
       "      <td>4024.114</td>\n",
       "      <td>3474.389</td>\n",
       "      <td>mirror</td>\n",
       "      <td>-0.0042</td>\n",
       "      <td>0.0056</td>\n",
       "      <td>-0.0049</td>\n",
       "      <td>0.0056</td>\n",
       "      <td>813.1055</td>\n",
       "      <td>597.623</td>\n",
       "      <td>812.201</td>\n",
       "      <td>598.029</td>\n",
       "      <td>2023-06-15</td>\n",
       "    </tr>\n",
       "  </tbody>\n",
       "</table>\n",
       "</div>"
      ],
      "text/plain": [
       "           X        Y      Z  ...  PAT Pri LED X  PAT Pri LED Y       date\n",
       "PATB  88.796  108.686  0.002  ...        812.201        598.029 2023-06-15\n",
       "\n",
       "[1 rows x 17 columns]"
      ]
     },
     "execution_count": 7,
     "metadata": {},
     "output_type": "execute_result"
    }
   ],
   "source": [
    "p_null_PAT_baseline_encoder = get_data_from_ADM_log(baseline_ADM_plateau_name,z_type=z_target,pat_target = pat_target,index_name='PAT'+pat_target,print_details=True,filepath=adm_log_filepath) \n",
    "p_null_PAT_baseline = calculate_5DOF_from_encoders(p_null_PAT_baseline_encoder)\n",
    "\n",
    "if pat_target=='B':\n",
    "    p_null_offset = np.array([-90.,-110.,-10.]) #PATB is not on the POA boresight. It is offset by this much\n",
    "elif pat_target=='A':\n",
    "    p_null_offset = np.array([90.,-110.,-10.])\n",
    "p_null_PAT_baseline_encoder\n"
   ]
  },
  {
   "cell_type": "markdown",
   "metadata": {},
   "source": [
    "### 1.1.2 Update the PAT pose to account for imperfect nulling."
   ]
  },
  {
   "cell_type": "code",
   "execution_count": 8,
   "metadata": {},
   "outputs": [
    {
     "name": "stdout",
     "output_type": "stream",
     "text": [
      "X                               88.796\n",
      "Y                              108.686\n",
      "Z                                0.002\n",
      "Rx                              0.1047\n",
      "Ry                              0.0822\n",
      "z_sMATF                       4024.114\n",
      "z_PAT                         3474.389\n",
      "z_type                          mirror\n",
      "sMATF AC AZ                    -0.0042\n",
      "sMATF AC EL                     0.0056\n",
      "PAT AC AZ                      -0.0049\n",
      "PAT AC EL                       0.0056\n",
      "sMATF Pri LED X               813.1055\n",
      "sMATF Pri LED Y                597.623\n",
      "PAT Pri LED X                  812.201\n",
      "PAT Pri LED Y                  598.029\n",
      "date               2023-06-15 00:00:00\n",
      "Name: PATB, dtype: object \n",
      "\n",
      "Starting GSARX/RY:  0.1047 0.0822\n",
      "Optimal GSARX/RY:  0.1052768882 0.081803513\n",
      "Starting HTSA/VTSA:  88.796 108.686\n",
      "Optimal HTSA/VTSA:  88.842839565 108.675476355\n",
      "\n",
      " X                             88.84284\n",
      "Y                           108.675476\n",
      "Z                                0.002\n",
      "Rx                            0.105277\n",
      "Ry                            0.081804\n",
      "z_sMATF                       4024.114\n",
      "z_PAT                       3474.39073\n",
      "z_type                          mirror\n",
      "sMATF AC AZ                    -0.0042\n",
      "sMATF AC EL                     0.0056\n",
      "PAT AC AZ                      -0.0042\n",
      "PAT AC EL                       0.0056\n",
      "sMATF Pri LED X               813.1055\n",
      "sMATF Pri LED Y                597.623\n",
      "PAT Pri LED X                 813.1055\n",
      "PAT Pri LED Y                  597.623\n",
      "date               2023-06-15 00:00:00\n",
      "Optimized?                        True\n",
      "Name: PATB, dtype: object\n"
     ]
    }
   ],
   "source": [
    "#Apply a correction to account for imperfect nulling between PATB/sMATF and overwrite the values in the p_null_PAT_baseline_encoder DataFrame with the optimal ones.\n",
    "\n",
    "#Save a copy of the p_null_PATB dataframe, which we'll write to an Excel file later\n",
    "p_null_PAT_baseline_encoder_original = p_null_PAT_baseline_encoder.copy()\n",
    "if optimize_PAT_for_imperfect_nulling == True:\n",
    "    print(p_null_PAT_baseline_encoder.squeeze(),'\\n')\n",
    "    p_null_PAT_baseline_encoder = optimize_p_null_PAT_encoders(p_null_PAT_baseline_encoder,p_null_offset)\n",
    "    p_null_PAT_baseline = calculate_5DOF_from_encoders(p_null_PAT_baseline_encoder)\n",
    "    print('\\n',p_null_PAT_baseline_encoder.squeeze())"
   ]
  },
  {
   "cell_type": "markdown",
   "metadata": {},
   "source": [
    "#### 1.1.5 Form a dataframe with the values supplied so far"
   ]
  },
  {
   "cell_type": "code",
   "execution_count": 9,
   "metadata": {},
   "outputs": [
    {
     "name": "stdout",
     "output_type": "stream",
     "text": [
      "              X           Y         Z       Rx       Ry\n",
      "PATB  89.168874  108.915034 -0.680054  0.10457  0.07972\n"
     ]
    },
    {
     "data": {
      "text/html": [
       "<div>\n",
       "<style scoped>\n",
       "    .dataframe tbody tr th:only-of-type {\n",
       "        vertical-align: middle;\n",
       "    }\n",
       "\n",
       "    .dataframe tbody tr th {\n",
       "        vertical-align: top;\n",
       "    }\n",
       "\n",
       "    .dataframe thead th {\n",
       "        text-align: right;\n",
       "    }\n",
       "</style>\n",
       "<table border=\"1\" class=\"dataframe\">\n",
       "  <thead>\n",
       "    <tr style=\"text-align: right;\">\n",
       "      <th></th>\n",
       "      <th>X</th>\n",
       "      <th>Y</th>\n",
       "      <th>Z</th>\n",
       "      <th>Rx</th>\n",
       "      <th>Ry</th>\n",
       "      <th>color</th>\n",
       "      <th>uvec_X</th>\n",
       "      <th>uvec_Y</th>\n",
       "      <th>uvec_Z</th>\n",
       "    </tr>\n",
       "  </thead>\n",
       "  <tbody>\n",
       "    <tr>\n",
       "      <th>PR1</th>\n",
       "      <td>1.129985</td>\n",
       "      <td>0.72747</td>\n",
       "      <td>1.232735</td>\n",
       "      <td>0.068028</td>\n",
       "      <td>0.026284</td>\n",
       "      <td>crimson</td>\n",
       "      <td>0.592742</td>\n",
       "      <td>247.333881</td>\n",
       "      <td>1268.230045</td>\n",
       "    </tr>\n",
       "    <tr>\n",
       "      <th>PR2</th>\n",
       "      <td>-109.321459</td>\n",
       "      <td>-46.437929</td>\n",
       "      <td>23.894719</td>\n",
       "      <td>-4.875</td>\n",
       "      <td>10.671451</td>\n",
       "      <td>crimson</td>\n",
       "      <td>239.271436</td>\n",
       "      <td>349.539658</td>\n",
       "      <td>1220.718254</td>\n",
       "    </tr>\n",
       "    <tr>\n",
       "      <th>PR3</th>\n",
       "      <td>111.493376</td>\n",
       "      <td>-45.937709</td>\n",
       "      <td>23.616555</td>\n",
       "      <td>-4.820656</td>\n",
       "      <td>-10.609137</td>\n",
       "      <td>crimson</td>\n",
       "      <td>-237.890300</td>\n",
       "      <td>348.452843</td>\n",
       "      <td>1221.298763</td>\n",
       "    </tr>\n",
       "    <tr>\n",
       "      <th>PR4</th>\n",
       "      <td>103.256807</td>\n",
       "      <td>59.195421</td>\n",
       "      <td>32.320005</td>\n",
       "      <td>5.344696</td>\n",
       "      <td>-10.32082</td>\n",
       "      <td>crimson</td>\n",
       "      <td>-231.496395</td>\n",
       "      <td>127.555056</td>\n",
       "      <td>1264.800764</td>\n",
       "    </tr>\n",
       "    <tr>\n",
       "      <th>PR5</th>\n",
       "      <td>-101.250577</td>\n",
       "      <td>58.826217</td>\n",
       "      <td>32.401763</td>\n",
       "      <td>5.306222</td>\n",
       "      <td>10.40122</td>\n",
       "      <td>crimson</td>\n",
       "      <td>233.280011</td>\n",
       "      <td>128.371410</td>\n",
       "      <td>1264.390393</td>\n",
       "    </tr>\n",
       "    <tr>\n",
       "      <th>sMask</th>\n",
       "      <td>1.404588</td>\n",
       "      <td>115.316263</td>\n",
       "      <td>588.798438</td>\n",
       "      <td>NaN</td>\n",
       "      <td>NaN</td>\n",
       "      <td>g</td>\n",
       "      <td>NaN</td>\n",
       "      <td>NaN</td>\n",
       "      <td>NaN</td>\n",
       "    </tr>\n",
       "    <tr>\n",
       "      <th>PATB</th>\n",
       "      <td>89.168874</td>\n",
       "      <td>108.915034</td>\n",
       "      <td>-0.680054</td>\n",
       "      <td>0.10457</td>\n",
       "      <td>0.07972</td>\n",
       "      <td>darkblue</td>\n",
       "      <td>1.797822</td>\n",
       "      <td>246.524758</td>\n",
       "      <td>1268.386439</td>\n",
       "    </tr>\n",
       "    <tr>\n",
       "      <th>sMPA</th>\n",
       "      <td>1.722732</td>\n",
       "      <td>248.052176</td>\n",
       "      <td>1269.442466</td>\n",
       "      <td>NaN</td>\n",
       "      <td>NaN</td>\n",
       "      <td>purple</td>\n",
       "      <td>NaN</td>\n",
       "      <td>NaN</td>\n",
       "      <td>NaN</td>\n",
       "    </tr>\n",
       "  </tbody>\n",
       "</table>\n",
       "</div>"
      ],
      "text/plain": [
       "                X           Y            Z  ...      uvec_X      uvec_Y       uvec_Z\n",
       "PR1      1.129985     0.72747     1.232735  ...    0.592742  247.333881  1268.230045\n",
       "PR2   -109.321459  -46.437929    23.894719  ...  239.271436  349.539658  1220.718254\n",
       "PR3    111.493376  -45.937709    23.616555  ... -237.890300  348.452843  1221.298763\n",
       "PR4    103.256807   59.195421    32.320005  ... -231.496395  127.555056  1264.800764\n",
       "PR5   -101.250577   58.826217    32.401763  ...  233.280011  128.371410  1264.390393\n",
       "sMask    1.404588  115.316263   588.798438  ...         NaN         NaN          NaN\n",
       "PATB    89.168874  108.915034    -0.680054  ...    1.797822  246.524758  1268.386439\n",
       "sMPA     1.722732  248.052176  1269.442466  ...         NaN         NaN          NaN\n",
       "\n",
       "[8 rows x 9 columns]"
      ]
     },
     "execution_count": 9,
     "metadata": {},
     "output_type": "execute_result"
    }
   ],
   "source": [
    "#Generate a dataframe where we will store some parameters for each pose\n",
    "columns = ['X','Y','Z','Rx','Ry']\n",
    "df = pose_actual\n",
    "df['color']='crimson'\n",
    "\n",
    "gsa_rot = R.from_euler('x',GSA_angle_WCS_deg, degrees=True)\n",
    "df.loc['sMask',['X','Y','Z']] = gsa_rot.apply(sMask)\n",
    "df.loc['sMask','color'] = 'g'\n",
    "\n",
    "dz_baseline = p_null_PAT_baseline_encoder.loc['PAT'+pat_target,'z_sMATF'] - \\\n",
    "    p_null_PAT_baseline_encoder.loc['PAT'+pat_target,'z_PAT']\n",
    "df = pd.concat([df,p_null_PAT_baseline])\n",
    "print(p_null_PAT_baseline)\n",
    "df.loc['PAT'+pat_target,'color']='darkblue'\n",
    "\n",
    "df.loc['sMPA',['X','Y','Z']] = sMPA_to_WCS.values.astype(float)\n",
    "df.loc['sMPA','color']='purple'\n",
    "\n",
    "for pose in df.index:\n",
    "    update_uvec(df,pose,length=focal_length,rotangle=GSA_angle_WCS_deg)\n",
    "    if 'PDI' in pose:\n",
    "        df.loc[pose,'color'] = 'yellow'\n",
    "\n",
    "# create normal vector to sMPA\n",
    "vec = np.array([0,0,1])\n",
    "rotmat = R.from_euler('XYZ',sMPA_angle_to_WCS_deg, degrees=True)\n",
    "df.loc['sMPA',['uvec_X','uvec_Y','uvec_Z']] = rotmat.apply(vec)\n",
    "\n",
    "#ax = plot_poses(df)\n",
    "#plot_sMPA(df, ax)\n",
    "df"
   ]
  },
  {
   "cell_type": "markdown",
   "metadata": {},
   "source": [
    "#### 1.1.6 Calculate the center of the sMATF flat in 5DOF coordinate system (currently assumes PATB is on-axis and aligned with GSA)"
   ]
  },
  {
   "cell_type": "code",
   "execution_count": 10,
   "metadata": {},
   "outputs": [
    {
     "name": "stdout",
     "output_type": "stream",
     "text": [
      "0.10457037378704849 0.07971967261278287\n"
     ]
    },
    {
     "data": {
      "text/html": [
       "<div>\n",
       "<style scoped>\n",
       "    .dataframe tbody tr th:only-of-type {\n",
       "        vertical-align: middle;\n",
       "    }\n",
       "\n",
       "    .dataframe tbody tr th {\n",
       "        vertical-align: top;\n",
       "    }\n",
       "\n",
       "    .dataframe thead th {\n",
       "        text-align: right;\n",
       "    }\n",
       "</style>\n",
       "<table border=\"1\" class=\"dataframe\">\n",
       "  <thead>\n",
       "    <tr style=\"text-align: right;\">\n",
       "      <th></th>\n",
       "      <th>X</th>\n",
       "      <th>Y</th>\n",
       "      <th>Z</th>\n",
       "      <th>Rx</th>\n",
       "      <th>Ry</th>\n",
       "      <th>color</th>\n",
       "      <th>uvec_X</th>\n",
       "      <th>uvec_Y</th>\n",
       "      <th>uvec_Z</th>\n",
       "    </tr>\n",
       "  </thead>\n",
       "  <tbody>\n",
       "    <tr>\n",
       "      <th>PR1</th>\n",
       "      <td>1.129985</td>\n",
       "      <td>0.72747</td>\n",
       "      <td>1.232735</td>\n",
       "      <td>0.068028</td>\n",
       "      <td>0.026284</td>\n",
       "      <td>crimson</td>\n",
       "      <td>0.592742</td>\n",
       "      <td>247.333881</td>\n",
       "      <td>1268.230045</td>\n",
       "    </tr>\n",
       "    <tr>\n",
       "      <th>PR2</th>\n",
       "      <td>-109.321459</td>\n",
       "      <td>-46.437929</td>\n",
       "      <td>23.894719</td>\n",
       "      <td>-4.875</td>\n",
       "      <td>10.671451</td>\n",
       "      <td>crimson</td>\n",
       "      <td>239.271436</td>\n",
       "      <td>349.539658</td>\n",
       "      <td>1220.718254</td>\n",
       "    </tr>\n",
       "    <tr>\n",
       "      <th>PR3</th>\n",
       "      <td>111.493376</td>\n",
       "      <td>-45.937709</td>\n",
       "      <td>23.616555</td>\n",
       "      <td>-4.820656</td>\n",
       "      <td>-10.609137</td>\n",
       "      <td>crimson</td>\n",
       "      <td>-237.890300</td>\n",
       "      <td>348.452843</td>\n",
       "      <td>1221.298763</td>\n",
       "    </tr>\n",
       "    <tr>\n",
       "      <th>PR4</th>\n",
       "      <td>103.256807</td>\n",
       "      <td>59.195421</td>\n",
       "      <td>32.320005</td>\n",
       "      <td>5.344696</td>\n",
       "      <td>-10.32082</td>\n",
       "      <td>crimson</td>\n",
       "      <td>-231.496395</td>\n",
       "      <td>127.555056</td>\n",
       "      <td>1264.800764</td>\n",
       "    </tr>\n",
       "    <tr>\n",
       "      <th>PR5</th>\n",
       "      <td>-101.250577</td>\n",
       "      <td>58.826217</td>\n",
       "      <td>32.401763</td>\n",
       "      <td>5.306222</td>\n",
       "      <td>10.40122</td>\n",
       "      <td>crimson</td>\n",
       "      <td>233.280011</td>\n",
       "      <td>128.371410</td>\n",
       "      <td>1264.390393</td>\n",
       "    </tr>\n",
       "    <tr>\n",
       "      <th>sMask</th>\n",
       "      <td>1.404588</td>\n",
       "      <td>115.316263</td>\n",
       "      <td>588.798438</td>\n",
       "      <td>NaN</td>\n",
       "      <td>NaN</td>\n",
       "      <td>g</td>\n",
       "      <td>NaN</td>\n",
       "      <td>NaN</td>\n",
       "      <td>NaN</td>\n",
       "    </tr>\n",
       "    <tr>\n",
       "      <th>PATB</th>\n",
       "      <td>89.168874</td>\n",
       "      <td>108.915034</td>\n",
       "      <td>-0.680054</td>\n",
       "      <td>0.10457</td>\n",
       "      <td>0.07972</td>\n",
       "      <td>darkblue</td>\n",
       "      <td>1.797822</td>\n",
       "      <td>246.524758</td>\n",
       "      <td>1268.386439</td>\n",
       "    </tr>\n",
       "    <tr>\n",
       "      <th>sMPA</th>\n",
       "      <td>1.722732</td>\n",
       "      <td>248.052176</td>\n",
       "      <td>1269.442466</td>\n",
       "      <td>NaN</td>\n",
       "      <td>NaN</td>\n",
       "      <td>purple</td>\n",
       "      <td>NaN</td>\n",
       "      <td>NaN</td>\n",
       "      <td>NaN</td>\n",
       "    </tr>\n",
       "    <tr>\n",
       "      <th>sMATF</th>\n",
       "      <td>-0.080084</td>\n",
       "      <td>103.933601</td>\n",
       "      <td>550.238286</td>\n",
       "      <td>0.10457</td>\n",
       "      <td>0.07972</td>\n",
       "      <td>orange</td>\n",
       "      <td>0.764869</td>\n",
       "      <td>104.881962</td>\n",
       "      <td>539.624742</td>\n",
       "    </tr>\n",
       "  </tbody>\n",
       "</table>\n",
       "</div>"
      ],
      "text/plain": [
       "                X           Y            Z  ...      uvec_X      uvec_Y       uvec_Z\n",
       "PR1      1.129985     0.72747     1.232735  ...    0.592742  247.333881  1268.230045\n",
       "PR2   -109.321459  -46.437929    23.894719  ...  239.271436  349.539658  1220.718254\n",
       "PR3    111.493376  -45.937709    23.616555  ... -237.890300  348.452843  1221.298763\n",
       "PR4    103.256807   59.195421    32.320005  ... -231.496395  127.555056  1264.800764\n",
       "PR5   -101.250577   58.826217    32.401763  ...  233.280011  128.371410  1264.390393\n",
       "sMask    1.404588  115.316263   588.798438  ...         NaN         NaN          NaN\n",
       "PATB    89.168874  108.915034    -0.680054  ...    1.797822  246.524758  1268.386439\n",
       "sMPA     1.722732  248.052176  1269.442466  ...         NaN         NaN          NaN\n",
       "sMATF   -0.080084  103.933601   550.238286  ...    0.764869  104.881962   539.624742\n",
       "\n",
       "[9 rows x 9 columns]"
      ]
     },
     "execution_count": 10,
     "metadata": {},
     "output_type": "execute_result"
    }
   ],
   "source": [
    "start_coords = np.array(df.loc['PAT'+pat_target,['X','Y','Z']])\n",
    "\n",
    "rx = df.loc['PAT'+pat_target,'Rx']\n",
    "ry = df.loc['PAT'+pat_target,'Ry']\n",
    "print(rx,ry)\n",
    "gsa_rot = R.from_euler('XY',[rx+GSA_angle_WCS_deg,ry], degrees=True)\n",
    "uvec = np.array([0.,0.,dz_baseline]+p_null_offset)\n",
    "rot_uvec = gsa_rot.apply(uvec) #np.dot(gsa_rot.as_matrix(),uvec)\n",
    "\n",
    "sMATF_coords = start_coords+rot_uvec\n",
    "\n",
    "df.loc['sMATF',['X','Y','Z']]=sMATF_coords\n",
    "df.loc['sMATF',['Rx','Ry']]=df.loc['PAT'+pat_target,['Rx','Ry']]\n",
    "df.loc['sMATF','color']='orange'\n",
    "update_uvec(df,'sMATF',length=dz_baseline,rotangle=GSA_angle_WCS_deg)\n",
    "#ax = plot_poses(df)\n",
    "#plot_sMPA(df, ax)\n",
    "df"
   ]
  },
  {
   "cell_type": "markdown",
   "metadata": {},
   "source": [
    "## 1.2 ADM Update"
   ]
  },
  {
   "cell_type": "markdown",
   "metadata": {},
   "source": [
    "Now the system has undergone some kind of change that will cause the ADM measurements to be different, such as shimming the sWFI or cooling from ambient to operational temps. We need to use the new set of ADM sMATF/PATB measurements to update the calculated poses for PRs 1-5.\n",
    "\n",
    "Now update all poses from this new PATB pose; this is the recipe that would be followed for real data"
   ]
  },
  {
   "cell_type": "markdown",
   "metadata": {},
   "source": [
    "#### 1.2.1 Input new ADM data for the sMATF and PATB and convert to 5DOF actual space"
   ]
  },
  {
   "cell_type": "code",
   "execution_count": 11,
   "metadata": {},
   "outputs": [
    {
     "name": "stdout",
     "output_type": "stream",
     "text": [
      "X                               88.729\n",
      "Y                              108.209\n",
      "Z                               -0.003\n",
      "Rx                              0.1078\n",
      "Ry                              0.0884\n",
      "z_sMATF                       4023.998\n",
      "z_PAT                         3474.449\n",
      "z_type                          mirror\n",
      "sMATF AC AZ                    -0.0035\n",
      "sMATF AC EL                      0.003\n",
      "PAT AC AZ                      -0.0032\n",
      "PAT AC EL                       0.0035\n",
      "sMATF Pri LED X                809.127\n",
      "sMATF Pri LED Y               599.6605\n",
      "PAT Pri LED X                  809.766\n",
      "PAT Pri LED Y                    599.7\n",
      "date               2023-06-16 00:00:00\n",
      "Name: PATB_update, dtype: object\n"
     ]
    },
    {
     "data": {
      "text/html": [
       "<div>\n",
       "<style scoped>\n",
       "    .dataframe tbody tr th:only-of-type {\n",
       "        vertical-align: middle;\n",
       "    }\n",
       "\n",
       "    .dataframe tbody tr th {\n",
       "        vertical-align: top;\n",
       "    }\n",
       "\n",
       "    .dataframe thead th {\n",
       "        text-align: right;\n",
       "    }\n",
       "</style>\n",
       "<table border=\"1\" class=\"dataframe\">\n",
       "  <thead>\n",
       "    <tr style=\"text-align: right;\">\n",
       "      <th></th>\n",
       "      <th>X</th>\n",
       "      <th>Y</th>\n",
       "      <th>Z</th>\n",
       "      <th>Rx</th>\n",
       "      <th>Ry</th>\n",
       "    </tr>\n",
       "  </thead>\n",
       "  <tbody>\n",
       "    <tr>\n",
       "      <th>PATB_update</th>\n",
       "      <td>89.05365</td>\n",
       "      <td>108.447932</td>\n",
       "      <td>-0.682426</td>\n",
       "      <td>0.107094</td>\n",
       "      <td>0.086316</td>\n",
       "    </tr>\n",
       "  </tbody>\n",
       "</table>\n",
       "</div>"
      ],
      "text/plain": [
       "                    X           Y         Z        Rx        Ry\n",
       "PATB_update  89.05365  108.447932 -0.682426  0.107094  0.086316"
      ]
     },
     "execution_count": 11,
     "metadata": {},
     "output_type": "execute_result"
    }
   ],
   "source": [
    "p_null_PAT_update_encoder = get_data_from_ADM_log(update_ADM_plateau_name,z_type=z_target,pat_target = pat_target,index_name='PAT'+pat_target+'_update',print_details=True,filepath=adm_log_filepath) \n",
    "p_null_PAT_update = calculate_5DOF_from_encoders(p_null_PAT_update_encoder)\n",
    "p_null_PAT_update"
   ]
  },
  {
   "cell_type": "markdown",
   "metadata": {},
   "source": [
    "### 1.2.2 Update the PATB pose to account for imperfect nulling"
   ]
  },
  {
   "cell_type": "code",
   "execution_count": 12,
   "metadata": {},
   "outputs": [
    {
     "name": "stdout",
     "output_type": "stream",
     "text": [
      "Starting GSARX/RY:  0.1078 0.0884\n",
      "Optimal GSARX/RY:  0.1072695587 0.08815786\n",
      "Starting HTSA/VTSA:  88.729 108.209\n",
      "Optimal HTSA/VTSA:  88.705545765 108.22903732\n"
     ]
    }
   ],
   "source": [
    "#Apply a correction to account for imperfect nulling between PATB/sMATF and overwrite the values in the p_null_PAT_baseline_encoder DataFrame with the optimal ones.\n",
    "\n",
    "#Save a copy of the p_null_PATB dataframe, which we'll write to an Excel file later\n",
    "p_null_PAT_update_encoder_original = p_null_PAT_update_encoder.copy()\n",
    "\n",
    "if optimize_PAT_for_imperfect_nulling == True:\n",
    "    p_null_PAT_update_encoder = optimize_p_null_PAT_encoders(p_null_PAT_update_encoder,p_null_offset)\n",
    "    p_null_PAT_update = calculate_5DOF_from_encoders(p_null_PAT_update_encoder)"
   ]
  },
  {
   "cell_type": "markdown",
   "metadata": {},
   "source": [
    "#### 1.2.2 Use the newly-provided data to calculate an updated position for PATB and sMATF"
   ]
  },
  {
   "cell_type": "code",
   "execution_count": 13,
   "metadata": {},
   "outputs": [
    {
     "name": "stdout",
     "output_type": "stream",
     "text": [
      "Baseline poses\n"
     ]
    },
    {
     "data": {
      "text/html": [
       "<div>\n",
       "<style scoped>\n",
       "    .dataframe tbody tr th:only-of-type {\n",
       "        vertical-align: middle;\n",
       "    }\n",
       "\n",
       "    .dataframe tbody tr th {\n",
       "        vertical-align: top;\n",
       "    }\n",
       "\n",
       "    .dataframe thead th {\n",
       "        text-align: right;\n",
       "    }\n",
       "</style>\n",
       "<table border=\"1\" class=\"dataframe\">\n",
       "  <thead>\n",
       "    <tr style=\"text-align: right;\">\n",
       "      <th></th>\n",
       "      <th>X</th>\n",
       "      <th>Y</th>\n",
       "      <th>Z</th>\n",
       "      <th>Rx</th>\n",
       "      <th>Ry</th>\n",
       "      <th>color</th>\n",
       "      <th>uvec_X</th>\n",
       "      <th>uvec_Y</th>\n",
       "      <th>uvec_Z</th>\n",
       "    </tr>\n",
       "  </thead>\n",
       "  <tbody>\n",
       "    <tr>\n",
       "      <th>PR1</th>\n",
       "      <td>1.129985</td>\n",
       "      <td>0.72747</td>\n",
       "      <td>1.232735</td>\n",
       "      <td>0.068028</td>\n",
       "      <td>0.026284</td>\n",
       "      <td>crimson</td>\n",
       "      <td>0.592742</td>\n",
       "      <td>247.333881</td>\n",
       "      <td>1268.230045</td>\n",
       "    </tr>\n",
       "    <tr>\n",
       "      <th>PR2</th>\n",
       "      <td>-109.321459</td>\n",
       "      <td>-46.437929</td>\n",
       "      <td>23.894719</td>\n",
       "      <td>-4.875</td>\n",
       "      <td>10.671451</td>\n",
       "      <td>crimson</td>\n",
       "      <td>239.271436</td>\n",
       "      <td>349.539658</td>\n",
       "      <td>1220.718254</td>\n",
       "    </tr>\n",
       "    <tr>\n",
       "      <th>PR3</th>\n",
       "      <td>111.493376</td>\n",
       "      <td>-45.937709</td>\n",
       "      <td>23.616555</td>\n",
       "      <td>-4.820656</td>\n",
       "      <td>-10.609137</td>\n",
       "      <td>crimson</td>\n",
       "      <td>-237.890300</td>\n",
       "      <td>348.452843</td>\n",
       "      <td>1221.298763</td>\n",
       "    </tr>\n",
       "    <tr>\n",
       "      <th>PR4</th>\n",
       "      <td>103.256807</td>\n",
       "      <td>59.195421</td>\n",
       "      <td>32.320005</td>\n",
       "      <td>5.344696</td>\n",
       "      <td>-10.32082</td>\n",
       "      <td>crimson</td>\n",
       "      <td>-231.496395</td>\n",
       "      <td>127.555056</td>\n",
       "      <td>1264.800764</td>\n",
       "    </tr>\n",
       "    <tr>\n",
       "      <th>PR5</th>\n",
       "      <td>-101.250577</td>\n",
       "      <td>58.826217</td>\n",
       "      <td>32.401763</td>\n",
       "      <td>5.306222</td>\n",
       "      <td>10.40122</td>\n",
       "      <td>crimson</td>\n",
       "      <td>233.280011</td>\n",
       "      <td>128.371410</td>\n",
       "      <td>1264.390393</td>\n",
       "    </tr>\n",
       "    <tr>\n",
       "      <th>sMask</th>\n",
       "      <td>1.404588</td>\n",
       "      <td>115.316263</td>\n",
       "      <td>588.798438</td>\n",
       "      <td>NaN</td>\n",
       "      <td>NaN</td>\n",
       "      <td>g</td>\n",
       "      <td>NaN</td>\n",
       "      <td>NaN</td>\n",
       "      <td>NaN</td>\n",
       "    </tr>\n",
       "    <tr>\n",
       "      <th>PATB</th>\n",
       "      <td>89.168874</td>\n",
       "      <td>108.915034</td>\n",
       "      <td>-0.680054</td>\n",
       "      <td>0.10457</td>\n",
       "      <td>0.07972</td>\n",
       "      <td>darkblue</td>\n",
       "      <td>1.797822</td>\n",
       "      <td>246.524758</td>\n",
       "      <td>1268.386439</td>\n",
       "    </tr>\n",
       "    <tr>\n",
       "      <th>sMPA</th>\n",
       "      <td>1.722732</td>\n",
       "      <td>248.052176</td>\n",
       "      <td>1269.442466</td>\n",
       "      <td>NaN</td>\n",
       "      <td>NaN</td>\n",
       "      <td>purple</td>\n",
       "      <td>NaN</td>\n",
       "      <td>NaN</td>\n",
       "      <td>NaN</td>\n",
       "    </tr>\n",
       "    <tr>\n",
       "      <th>sMATF</th>\n",
       "      <td>-0.080084</td>\n",
       "      <td>103.933601</td>\n",
       "      <td>550.238286</td>\n",
       "      <td>0.10457</td>\n",
       "      <td>0.07972</td>\n",
       "      <td>orange</td>\n",
       "      <td>0.764869</td>\n",
       "      <td>104.881962</td>\n",
       "      <td>539.624742</td>\n",
       "    </tr>\n",
       "    <tr>\n",
       "      <th>PATB_update</th>\n",
       "      <td>89.030176</td>\n",
       "      <td>108.468036</td>\n",
       "      <td>-0.682416</td>\n",
       "      <td>0.106564</td>\n",
       "      <td>0.086074</td>\n",
       "      <td>purple</td>\n",
       "      <td>1.941127</td>\n",
       "      <td>246.480587</td>\n",
       "      <td>1268.394812</td>\n",
       "    </tr>\n",
       "    <tr>\n",
       "      <th>sMATF_update</th>\n",
       "      <td>-0.159041</td>\n",
       "      <td>103.452445</td>\n",
       "      <td>550.158612</td>\n",
       "      <td>0.106564</td>\n",
       "      <td>0.086074</td>\n",
       "      <td>brown</td>\n",
       "      <td>0.825704</td>\n",
       "      <td>104.846293</td>\n",
       "      <td>539.541453</td>\n",
       "    </tr>\n",
       "  </tbody>\n",
       "</table>\n",
       "</div>"
      ],
      "text/plain": [
       "                       X           Y  ...      uvec_Y       uvec_Z\n",
       "PR1             1.129985     0.72747  ...  247.333881  1268.230045\n",
       "PR2          -109.321459  -46.437929  ...  349.539658  1220.718254\n",
       "PR3           111.493376  -45.937709  ...  348.452843  1221.298763\n",
       "PR4           103.256807   59.195421  ...  127.555056  1264.800764\n",
       "PR5          -101.250577   58.826217  ...  128.371410  1264.390393\n",
       "sMask           1.404588  115.316263  ...         NaN          NaN\n",
       "PATB           89.168874  108.915034  ...  246.524758  1268.386439\n",
       "sMPA            1.722732  248.052176  ...         NaN          NaN\n",
       "sMATF          -0.080084  103.933601  ...  104.881962   539.624742\n",
       "PATB_update    89.030176  108.468036  ...  246.480587  1268.394812\n",
       "sMATF_update   -0.159041  103.452445  ...  104.846293   539.541453\n",
       "\n",
       "[11 rows x 9 columns]"
      ]
     },
     "execution_count": 13,
     "metadata": {},
     "output_type": "execute_result"
    }
   ],
   "source": [
    "dz_update = p_null_PAT_update_encoder.loc['PAT'+pat_target+'_update','z_sMATF'] - \\\n",
    "    p_null_PAT_update_encoder.loc['PAT'+pat_target+'_update','z_PAT'] + \\\n",
    "    (p_null_PAT_update_encoder.loc['PAT'+pat_target+'_update',['Y']]-p_null_PAT_baseline_encoder.loc['PAT'+pat_target,['Y']]).values[0]*np.sin(np.deg2rad(GSA_angle_WCS_deg+p_null_PAT_update_encoder.loc['PAT'+pat_target+'_update',['Rx']].astype(float).values[0]))\n",
    "df = pd.concat([df,p_null_PAT_update])\n",
    "df.loc['PAT'+pat_target+'_update','color'] = 'purple'\n",
    "update_uvec(df,'PAT'+pat_target+'_update',length=focal_length,rotangle=GSA_angle_WCS_deg)\n",
    "\n",
    "start_coords = np.array(df.loc['PAT'+pat_target+'_update',['X','Y','Z']])\n",
    "\n",
    "rx = df.loc['PAT'+pat_target+'_update','Rx']\n",
    "ry = df.loc['PAT'+pat_target+'_update','Ry']\n",
    "gsa_rot = R.from_euler('XY',[rx+GSA_angle_WCS_deg,ry], degrees=True)\n",
    "uvec = [0.,0.,dz_update]+p_null_offset # in GSA CS\n",
    "rot_uvec = gsa_rot.apply(uvec) #np.dot(gsa_rot.as_matrix(),uvec)\n",
    "\n",
    "sMATF_update_coords = start_coords+rot_uvec\n",
    "\n",
    "df.loc['sMATF_update',['X','Y','Z']]=sMATF_update_coords\n",
    "df.loc['sMATF_update',['Rx','Ry']]=df.loc['PAT'+pat_target+'_update',['Rx','Ry']]\n",
    "df.loc['sMATF_update','color']='brown'\n",
    "update_uvec(df,'sMATF_update',length=dz_update,rotangle=GSA_angle_WCS_deg)\n",
    "#ax = plot_poses(df)\n",
    "#plot_sMPA(df, ax)\n",
    "print('Baseline poses')\n",
    "df\n"
   ]
  },
  {
   "cell_type": "code",
   "execution_count": 14,
   "metadata": {},
   "outputs": [
    {
     "name": "stdout",
     "output_type": "stream",
     "text": [
      "PATB->sMATF distance changed by:  -0.08847588081619051  mm\n"
     ]
    }
   ],
   "source": [
    "#How did the distance between PATB and sMATF change from pre- to post-environment shift?\n",
    "print('PAT'+pat_target+'->sMATF distance changed by: ',dz_update-dz_baseline, ' mm')"
   ]
  },
  {
   "cell_type": "markdown",
   "metadata": {},
   "source": [
    "## 1.3 Calculate sMATF and PAT deltas"
   ]
  },
  {
   "cell_type": "code",
   "execution_count": 15,
   "metadata": {},
   "outputs": [
    {
     "name": "stdout",
     "output_type": "stream",
     "text": [
      "sMATF (X,Y,Z) deltas: \n",
      " X   -0.078958\n",
      "Y   -0.481157\n",
      "Z   -0.079674\n",
      "dtype: object \n",
      "\n",
      "PATB (X,Y,Z,Rx,Ry) deltas: \n",
      " X    -0.138698\n",
      "Y    -0.446999\n",
      "Z    -0.002362\n",
      "Rx    0.001993\n",
      "Ry    0.006354\n",
      "dtype: object \n",
      "\n"
     ]
    }
   ],
   "source": [
    "sMATF_delta = df.loc['sMATF_update',['X','Y','Z']] - df.loc['sMATF',['X','Y','Z']]\n",
    "#sMATF_delta.loc['Z'] += \n",
    "print('sMATF (X,Y,Z) deltas: \\n',sMATF_delta,'\\n')\n",
    "\n",
    "patb_delta = df.loc['PAT'+pat_target+'_update',['X','Y','Z','Rx','Ry']] - df.loc['PAT'+pat_target,['X','Y','Z','Rx','Ry']]\n",
    "#patb_drxry = df.loc['PATB_update',['Rx','Ry']] - df.loc['PATB',['Rx','Ry']]\n",
    "print('PAT'+pat_target+' (X,Y,Z,Rx,Ry) deltas: \\n',patb_delta,'\\n')"
   ]
  },
  {
   "cell_type": "markdown",
   "metadata": {},
   "source": [
    "## 1.4 Transform old poses to the new sMATF reference frame"
   ]
  },
  {
   "cell_type": "markdown",
   "metadata": {},
   "source": [
    "### 1.4.1 Apply a translation to all poses"
   ]
  },
  {
   "cell_type": "code",
   "execution_count": 16,
   "metadata": {},
   "outputs": [
    {
     "name": "stdout",
     "output_type": "stream",
     "text": [
      "Translation required to put sMATF_update at the origin: \n",
      " X     -0.159041\n",
      "Y    103.452445\n",
      "Z    550.158612\n",
      "Name: sMATF_update, dtype: object\n"
     ]
    }
   ],
   "source": [
    "df_update = df.copy()\n",
    "T = df.loc['sMATF_update',['X','Y','Z']]\n",
    "df_update[['X','Y','Z']] -= T\n",
    "print('Translation required to put sMATF_update at the origin: \\n',T)"
   ]
  },
  {
   "cell_type": "markdown",
   "metadata": {},
   "source": [
    "### 1.4.2 Now perform 3 rotations to all the poses:\n",
    "1. To align to the sMATF frame\n",
    "2. To rotate everything by delta(Rx,Ry)\n",
    "3. To undo #1"
   ]
  },
  {
   "cell_type": "code",
   "execution_count": 17,
   "metadata": {},
   "outputs": [],
   "source": [
    "update_rot1 = R.from_euler('XY',[df.loc['PAT'+pat_target,'Rx']+GSA_angle_WCS_deg,df.loc['PAT'+pat_target,'Ry']], degrees=True)\n",
    "update_rot2 = R.from_euler('XY',[patb_delta.loc['Rx'],patb_delta.loc['Ry']], degrees=True)\n",
    "update_rot_combined = update_rot1 * update_rot2 * update_rot1.inv()\n",
    "                                \n",
    "for pose in df_update.index:\n",
    "                                \n",
    "    df_update.loc[pose,['X','Y','Z']]=update_rot_combined.apply(df_update.loc[pose,['X','Y','Z']].astype(float)) #np.dot(update_rot.as_matrix(),df_update.loc[pose,['X','Y','Z']])\n",
    "    df_update.loc[pose,['uvec_X','uvec_Y','uvec_Z']] = update_rot_combined.apply(df_update.loc[pose,['uvec_X','uvec_Y','uvec_Z']].astype(float)) \n",
    "    if pose not in ['sMask','sMPA']:\n",
    "        update_RxRy(df_update,pose,GSA_angle_WCS_deg)\n"
   ]
  },
  {
   "cell_type": "markdown",
   "metadata": {},
   "source": [
    "### 1.4.3 Translate back to the 5DOF frame by undoing the translation from Cell 1.4.1, followed by adding the sMATF delta(X,Y,Z) offset from Cell 1.3"
   ]
  },
  {
   "cell_type": "code",
   "execution_count": 18,
   "metadata": {},
   "outputs": [
    {
     "name": "stdout",
     "output_type": "stream",
     "text": [
      "Updated poses\n"
     ]
    },
    {
     "data": {
      "text/html": [
       "<div>\n",
       "<style scoped>\n",
       "    .dataframe tbody tr th:only-of-type {\n",
       "        vertical-align: middle;\n",
       "    }\n",
       "\n",
       "    .dataframe tbody tr th {\n",
       "        vertical-align: top;\n",
       "    }\n",
       "\n",
       "    .dataframe thead th {\n",
       "        text-align: right;\n",
       "    }\n",
       "</style>\n",
       "<table border=\"1\" class=\"dataframe\">\n",
       "  <thead>\n",
       "    <tr style=\"text-align: right;\">\n",
       "      <th></th>\n",
       "      <th>X</th>\n",
       "      <th>Y</th>\n",
       "      <th>Z</th>\n",
       "      <th>Rx</th>\n",
       "      <th>Ry</th>\n",
       "      <th>color</th>\n",
       "      <th>uvec_X</th>\n",
       "      <th>uvec_Y</th>\n",
       "      <th>uvec_Z</th>\n",
       "    </tr>\n",
       "  </thead>\n",
       "  <tbody>\n",
       "    <tr>\n",
       "      <th>PR1</th>\n",
       "      <td>0.989074</td>\n",
       "      <td>0.26539</td>\n",
       "      <td>1.149343</td>\n",
       "      <td>0.070021</td>\n",
       "      <td>0.032638</td>\n",
       "      <td>crimson</td>\n",
       "      <td>0.736048</td>\n",
       "      <td>247.289741</td>\n",
       "      <td>1268.238577</td>\n",
       "    </tr>\n",
       "    <tr>\n",
       "      <th>PR2</th>\n",
       "      <td>-109.460903</td>\n",
       "      <td>-46.898455</td>\n",
       "      <td>23.821709</td>\n",
       "      <td>-4.87311</td>\n",
       "      <td>10.677782</td>\n",
       "      <td>crimson</td>\n",
       "      <td>239.411735</td>\n",
       "      <td>349.492110</td>\n",
       "      <td>1220.704360</td>\n",
       "    </tr>\n",
       "    <tr>\n",
       "      <th>PR3</th>\n",
       "      <td>111.353911</td>\n",
       "      <td>-46.402907</td>\n",
       "      <td>23.519524</td>\n",
       "      <td>-4.81856</td>\n",
       "      <td>-10.602805</td>\n",
       "      <td>crimson</td>\n",
       "      <td>-237.749958</td>\n",
       "      <td>348.415393</td>\n",
       "      <td>1221.336775</td>\n",
       "    </tr>\n",
       "    <tr>\n",
       "      <th>PR4</th>\n",
       "      <td>103.120519</td>\n",
       "      <td>58.730094</td>\n",
       "      <td>32.227528</td>\n",
       "      <td>5.346584</td>\n",
       "      <td>-10.314492</td>\n",
       "      <td>crimson</td>\n",
       "      <td>-231.356002</td>\n",
       "      <td>127.515957</td>\n",
       "      <td>1264.830395</td>\n",
       "    </tr>\n",
       "    <tr>\n",
       "      <th>PR5</th>\n",
       "      <td>-101.386863</td>\n",
       "      <td>58.365223</td>\n",
       "      <td>32.331537</td>\n",
       "      <td>5.308322</td>\n",
       "      <td>10.407549</td>\n",
       "      <td>crimson</td>\n",
       "      <td>233.420373</td>\n",
       "      <td>128.322470</td>\n",
       "      <td>1264.369456</td>\n",
       "    </tr>\n",
       "    <tr>\n",
       "      <th>sMask</th>\n",
       "      <td>1.33007</td>\n",
       "      <td>114.833733</td>\n",
       "      <td>588.718998</td>\n",
       "      <td>NaN</td>\n",
       "      <td>NaN</td>\n",
       "      <td>g</td>\n",
       "      <td>NaN</td>\n",
       "      <td>NaN</td>\n",
       "      <td>NaN</td>\n",
       "    </tr>\n",
       "    <tr>\n",
       "      <th>PATB</th>\n",
       "      <td>89.030048</td>\n",
       "      <td>108.451154</td>\n",
       "      <td>-0.769266</td>\n",
       "      <td>0.106564</td>\n",
       "      <td>0.086074</td>\n",
       "      <td>darkblue</td>\n",
       "      <td>1.941127</td>\n",
       "      <td>246.480587</td>\n",
       "      <td>1268.394812</td>\n",
       "    </tr>\n",
       "    <tr>\n",
       "      <th>sMPA</th>\n",
       "      <td>1.725124</td>\n",
       "      <td>247.545957</td>\n",
       "      <td>1269.367605</td>\n",
       "      <td>NaN</td>\n",
       "      <td>NaN</td>\n",
       "      <td>purple</td>\n",
       "      <td>NaN</td>\n",
       "      <td>NaN</td>\n",
       "      <td>NaN</td>\n",
       "    </tr>\n",
       "    <tr>\n",
       "      <th>sMATF</th>\n",
       "      <td>-0.159041</td>\n",
       "      <td>103.452445</td>\n",
       "      <td>550.158612</td>\n",
       "      <td>0.106564</td>\n",
       "      <td>0.086074</td>\n",
       "      <td>orange</td>\n",
       "      <td>0.825837</td>\n",
       "      <td>104.863170</td>\n",
       "      <td>539.628304</td>\n",
       "    </tr>\n",
       "    <tr>\n",
       "      <th>PATB_update</th>\n",
       "      <td>88.891341</td>\n",
       "      <td>108.004159</td>\n",
       "      <td>-0.771629</td>\n",
       "      <td>0.108557</td>\n",
       "      <td>0.092429</td>\n",
       "      <td>purple</td>\n",
       "      <td>2.084432</td>\n",
       "      <td>246.436413</td>\n",
       "      <td>1268.403168</td>\n",
       "    </tr>\n",
       "    <tr>\n",
       "      <th>sMATF_update</th>\n",
       "      <td>-0.238018</td>\n",
       "      <td>102.971293</td>\n",
       "      <td>550.07893</td>\n",
       "      <td>0.108557</td>\n",
       "      <td>0.092429</td>\n",
       "      <td>brown</td>\n",
       "      <td>0.886662</td>\n",
       "      <td>104.827502</td>\n",
       "      <td>539.545007</td>\n",
       "    </tr>\n",
       "  </tbody>\n",
       "</table>\n",
       "</div>"
      ],
      "text/plain": [
       "                       X           Y  ...      uvec_Y       uvec_Z\n",
       "PR1             0.989074     0.26539  ...  247.289741  1268.238577\n",
       "PR2          -109.460903  -46.898455  ...  349.492110  1220.704360\n",
       "PR3           111.353911  -46.402907  ...  348.415393  1221.336775\n",
       "PR4           103.120519   58.730094  ...  127.515957  1264.830395\n",
       "PR5          -101.386863   58.365223  ...  128.322470  1264.369456\n",
       "sMask            1.33007  114.833733  ...         NaN          NaN\n",
       "PATB           89.030048  108.451154  ...  246.480587  1268.394812\n",
       "sMPA            1.725124  247.545957  ...         NaN          NaN\n",
       "sMATF          -0.159041  103.452445  ...  104.863170   539.628304\n",
       "PATB_update    88.891341  108.004159  ...  246.436413  1268.403168\n",
       "sMATF_update   -0.238018  102.971293  ...  104.827502   539.545007\n",
       "\n",
       "[11 rows x 9 columns]"
      ]
     },
     "execution_count": 18,
     "metadata": {},
     "output_type": "execute_result"
    }
   ],
   "source": [
    "df_update[['X','Y','Z']] += T\n",
    "df_update.loc[df_update.index[:12],['X','Y','Z']] += update_rot_combined.apply(sMATF_delta.astype(float)) #np.dot(update_rot.as_matrix(),delta)\n",
    "#ax = plot_poses(df_update)\n",
    "#plot_sMPA(df_update, ax)\n",
    "print('Updated poses')\n",
    "df_update"
   ]
  },
  {
   "cell_type": "markdown",
   "metadata": {},
   "source": [
    "# 1.4 >>>>Results<<<<"
   ]
  },
  {
   "cell_type": "markdown",
   "metadata": {},
   "source": [
    "#### 1.4.1 Converting poses from real space to encoder space"
   ]
  },
  {
   "cell_type": "code",
   "execution_count": 19,
   "metadata": {},
   "outputs": [
    {
     "name": "stdout",
     "output_type": "stream",
     "text": [
      "Poses calculated using PATB and the PAT mirror\n",
      "Updated Poses (in encoder space): \n",
      "               X          Y          Z        Rx         Ry\n",
      "PR1    0.966019   0.306395   1.129517  0.070739   0.034722\n",
      "PR2 -109.365072 -46.955212  23.710647 -4.873037  10.676808\n",
      "PR3  111.308016 -46.097285  23.609685 -4.816990 -10.602527\n",
      "PR4  102.930345  58.957892  32.414454  5.351499 -10.312024\n",
      "PR5 -101.443629  58.233845  32.327236  5.307756  10.408406 \n",
      "\n",
      "\n",
      "Baseline Poses (in encoder space), just for easy reference: \n",
      "                X          Y          Z        Rx         Ry\n",
      "Name                                                       \n",
      "PR1     1.106244   0.769616   1.212657  0.068746   0.028368\n",
      "PR2  -109.227043 -46.488631  23.780078 -4.874928  10.670479\n",
      "PR3   111.446144 -45.628079  23.705093 -4.819084 -10.608861\n",
      "PR4   103.065882  59.420898  32.509522  5.349615 -10.318354\n",
      "PR5  -101.308187  58.694581  32.398166  5.305656   10.40208\n"
     ]
    }
   ],
   "source": [
    "df_update_encoder_space = convert_df_to_encoder_space(df_update)\n",
    "print('Poses calculated using PAT'+pat_target+' and the PAT '+z_target)\n",
    "print('Updated Poses (in encoder space): \\n',df_update_encoder_space,'\\n\\n')\n",
    "\n",
    "print('Baseline Poses (in encoder space), just for easy reference: \\n',pose_encoders)"
   ]
  },
  {
   "cell_type": "markdown",
   "metadata": {},
   "source": [
    "#### (OPTIONAL) 1.4.2 Display some other tables that may be helpful for diagnostics"
   ]
  },
  {
   "cell_type": "code",
   "execution_count": 20,
   "metadata": {},
   "outputs": [],
   "source": [
    "print_extra_diagnostics = False\n",
    "poses_to_display = [val for val in df.index if 'PDI' in val or 'PR' in val]+['sMask', 'sMPA']\n",
    "\n",
    "if print_extra_diagnostics == True:\n",
    "    print('Baseline Poses (in real space): \\n',df.loc[poses_to_display,['X','Y','Z','Rx','Ry']],'\\n\\n')\n",
    "    print('Updated Poses (in real space): \\n',df_update.loc[poses_to_display,['X','Y','Z','Rx','Ry']], '\\n\\n')\n",
    "    print('Deltas between Baseline/Updated poses (in real space): \\n',-df.loc[poses_to_display,['X','Y','Z','Rx','Ry']] + df_update.loc[poses_to_display,['X','Y','Z','Rx','Ry']], '\\n\\n')\n",
    "    print('Change in calculated endpoint positions (5DOF frame): \\n',compute_endpoint_errors(df,df_update),'\\n\\n')\n",
    "    print('Change in calculated endpoint positions (sMPA frame): \\n',compute_endpoint_errors_sMPA_frame(df,df_update),'\\n\\n')\n",
    "    print('Verify that all poses intersect at the pupil in the same way before and after the update:')\n",
    "    print(check_pupil_crossing([df,df_update]),'\\n\\n')\n",
    "    print('Distance from pose focus to sMPA: \\n\\n',compute_distance_to_sMPA(df),'\\n\\n')  \n",
    "    "
   ]
  },
  {
   "cell_type": "markdown",
   "metadata": {},
   "source": [
    "# 2 Write the new poses to an Excel file in the current directory"
   ]
  },
  {
   "cell_type": "code",
   "execution_count": 21,
   "metadata": {},
   "outputs": [
    {
     "name": "stdout",
     "output_type": "stream",
     "text": [
      "**Writing to Excel complete.**\n",
      "**Filename:  _temp output poses.xlsx\n"
     ]
    }
   ],
   "source": [
    "write_to_excel = True\n",
    "\n",
    "if write_to_excel == True:\n",
    "    write_new_poses_to_Excel(output_filename,'',update_type='ADM',baseline_filepath=baseline_fname,\n",
    "                             columns=columns,GSA_angle_WCS_deg=GSA_angle_WCS_deg,\n",
    "                             baseline_ADM_plateau_name=baseline_ADM_plateau_name,update_ADM_plateau_name=update_ADM_plateau_name,\n",
    "                             df=df,df_encoders=pose_encoders,df_update=df_update,df_update_encoders=df_update_encoder_space,\n",
    "                            focal_length=focal_length,p_null_PAT_baseline_encoder_original=p_null_PAT_baseline_encoder_original,\n",
    "                            p_null_PAT_update_encoder_original=p_null_PAT_update_encoder_original)"
   ]
  }
 ],
 "metadata": {
  "kernelspec": {
   "display_name": "Python 3 (Spyder)",
   "language": "python3",
   "name": "python3"
  },
  "language_info": {
   "codemirror_mode": {
    "name": "ipython",
    "version": 3
   },
   "file_extension": ".py",
   "mimetype": "text/x-python",
   "name": "python",
   "nbconvert_exporter": "python",
   "pygments_lexer": "ipython3",
   "version": "3.11.0"
  }
 },
 "nbformat": 4,
 "nbformat_minor": 4
}
